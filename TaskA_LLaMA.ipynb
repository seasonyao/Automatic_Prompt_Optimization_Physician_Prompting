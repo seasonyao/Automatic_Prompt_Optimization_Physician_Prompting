{
 "cells": [
  {
   "cell_type": "code",
   "execution_count": null,
   "metadata": {
    "executionInfo": {
     "elapsed": 18773,
     "status": "ok",
     "timestamp": 1690391605278,
     "user": {
      "displayName": "Ahmed Jaafar",
      "userId": "01925140053924734789"
     },
     "user_tz": 240
    },
    "id": "Fg3cMUkoWnXq"
   },
   "outputs": [],
   "source": [
    "%%capture\n",
    "!pip install openai\n",
    "!pip install evaluate\n",
    "!pip install rouge_score\n",
    "!pip install replicate"
   ]
  },
  {
   "cell_type": "code",
   "execution_count": null,
   "metadata": {
    "executionInfo": {
     "elapsed": 1864,
     "status": "ok",
     "timestamp": 1690391607132,
     "user": {
      "displayName": "Ahmed Jaafar",
      "userId": "01925140053924734789"
     },
     "user_tz": 240
    },
    "id": "jubXJXy-WAZg"
   },
   "outputs": [],
   "source": [
    "import pandas as pd\n",
    "import openai\n",
    "import evaluate\n",
    "import numpy as np\n",
    "import replicate\n",
    "import os"
   ]
  },
  {
   "cell_type": "code",
   "execution_count": null,
   "metadata": {
    "id": "X9VAMM2Chrex"
   },
   "outputs": [],
   "source": [
    "from google.colab import drive\n",
    "drive.mount('/content/drive')"
   ]
  },
  {
   "cell_type": "code",
   "execution_count": null,
   "metadata": {
    "executionInfo": {
     "elapsed": 2,
     "status": "ok",
     "timestamp": 1690391607713,
     "user": {
      "displayName": "Ahmed Jaafar",
      "userId": "01925140053924734789"
     },
     "user_tz": 240
    },
    "id": "99kOl1OeHR72"
   },
   "outputs": [],
   "source": [
    "os.environ[\"REPLICATE_API_TOKEN\"] = #insert API token here"
   ]
  },
  {
   "cell_type": "code",
   "execution_count": null,
   "metadata": {
    "executionInfo": {
     "elapsed": 119,
     "status": "ok",
     "timestamp": 1690391608131,
     "user": {
      "displayName": "Ahmed Jaafar",
      "userId": "01925140053924734789"
     },
     "user_tz": 240
    },
    "id": "MHEXHZ_BVnki"
   },
   "outputs": [],
   "source": [
    "valA = pd.read_csv('TaskA-ValidationSet.csv')"
   ]
  },
  {
   "cell_type": "code",
   "execution_count": null,
   "metadata": {
    "executionInfo": {
     "elapsed": 104,
     "status": "ok",
     "timestamp": 1690391609538,
     "user": {
      "displayName": "Ahmed Jaafar",
      "userId": "01925140053924734789"
     },
     "user_tz": 240
    },
    "id": "lFqerx4Y6VbO"
   },
   "outputs": [],
   "source": [
    "sections = valA['section_header'].unique().tolist()"
   ]
  },
  {
   "cell_type": "code",
   "execution_count": null,
   "metadata": {
    "executionInfo": {
     "elapsed": 110,
     "status": "ok",
     "timestamp": 1690391616009,
     "user": {
      "displayName": "Ahmed Jaafar",
      "userId": "01925140053924734789"
     },
     "user_tz": 240
    },
    "id": "8cQhs1jrWY0f"
   },
   "outputs": [],
   "source": [
    "def get_al(model, prompt, max_tokens):\n",
    "  if model == \"replicate/llama70b-v2:14ce4448d5e7e9ed0c37745ac46eca157aab09061f0c179ac2b323b5de56552b\":\n",
    "    inp = {\"prompt\": prompt, \"max_new_tokens\": max_tokens, \"temperature\": 0.2}\n",
    "  else:\n",
    "    inp = {\"prompt\": prompt, \"max_new_tokens\": max_tokens, \"temperature\": 0.2, \"system_prompt\": \"You are a smart doctor as well as a professional medical scribe with a lot of experience.\"}\n",
    "\n",
    "  output = replicate.run(\n",
    "    model,\n",
    "    input=inp,\n",
    "  )\n",
    "  result = ''.join(output)\n",
    "  return result"
   ]
  },
  {
   "cell_type": "code",
   "execution_count": null,
   "metadata": {
    "executionInfo": {
     "elapsed": 226,
     "status": "ok",
     "timestamp": 1690392129765,
     "user": {
      "displayName": "Ahmed Jaafar",
      "userId": "01925140053924734789"
     },
     "user_tz": 240
    },
    "id": "Gm3kQNA4zHrz"
   },
   "outputs": [],
   "source": [
    "#first is the base version, second is the chat version\n",
    "model_lst = [\"replicate/llama70b-v2:14ce4448d5e7e9ed0c37745ac46eca157aab09061f0c179ac2b323b5de56552b\", \"replicate/llama70b-v2-chat:2d19859030ff705a87c746f7e96eea03aefb71f166725aee39692f1476566d48\"]\n",
    "max_tokens = [40]\n",
    "model_names = {\n",
    "    \"replicate/llama70b-v2:14ce4448d5e7e9ed0c37745ac46eca157aab09061f0c179ac2b323b5de56552b\": \"llama2_base\",\n",
    "    \"replicate/llama70b-v2-chat:2d19859030ff705a87c746f7e96eea03aefb71f166725aee39692f1476566d48\": \"llama2_chat\"\n",
    "}"
   ]
  },
  {
   "cell_type": "code",
   "execution_count": null,
   "metadata": {
    "executionInfo": {
     "elapsed": 123,
     "status": "ok",
     "timestamp": 1690391626484,
     "user": {
      "displayName": "Ahmed Jaafar",
      "userId": "01925140053924734789"
     },
     "user_tz": 240
    },
    "id": "q8nq93SU1eH0"
   },
   "outputs": [],
   "source": [
    "def get_prompt(dia, section):\n",
    "  prompts = {\n",
    "    \"EXAM\": f\"Task: I have a doctor-patient dialogue. Please list each body part examined by the doctor along with what was observed as a result for each body part. Please be concise. Please use medical terminology and lingo as much as possible. You are a smart doctor and a professional medical scribe. \\n\\nDialogue: \\n{dia} \\n\\nExaminations:\",\n",
    "    \"OTHER_HISTORY\": f\"Task: I have a doctor-patient dialogue. Please output the patient's medical history and other history. If nothing has changed in the patient's history, say so. Please output only what was mentioned in the conversation and don't add any other new information. Please use medical terminology and lingo as much as possible. You are a smart doctor and a professional medical scribe. \\n\\nDialogue: \\n{dia} \\n\\nPatient's history:\",\n",
    "    \"CC\": f\"Task: I have a doctor-patient dialogue. Please output the patient's chief complaint, which are the reasons/symptoms of why the patient is visiting the doctor. Please use medical terminology and lingo as much as possible. You are a smart doctor and a professional medical scribe. \\n\\n Dialogue: \\n{dia} \\n\\n Chief complaint:\",\n",
    "    \"DIAGNOSIS\": f\"Task: I have a doctor-patient dialogue. Please list the patient's diagnosis. Please use medical terminology and lingo as much as possible. You are a smart doctor and a professional medical scribe. \\n\\n Dialogue: \\n{dia} \\n\\n Diagnosis:\",\n",
    "    \"FAM/SOCHX\": f\"Task: I have a doctor-patient dialogue. Please output the patient's family medical history and the patient's social history. If the history is unknown, say so. Please output only what was mentioned in the conversation and don't add any other new information. Please use medical terminology and lingo as much as possible. You are a smart doctor and a professional medical scribe. \\n\\n Dialogue: \\n{dia} \\n\\n Patient's family history and social history:\",\n",
    "    \"MEDICATIONS\": f\"Task: I have a doctor-patient dialogue. Please list all the medications taken by the patient as part of a doctor's note. If no medications are mentioned, please output None. You are a smart doctor that knows this. \\n\\n Dialogue: \\n{dia} \\n\\n Medications:\",\n",
    "    \"PROCEDURES\": f\"Task: I have a doctor-patient dialogue. Please output the patient's surgical history, past procedures, current procedures, as well as the outcomes of the procedures/surgeries. Please output only what was mentioned in the conversation and don't add any other new information. Please use medical terminology and lingo for naming the procedures/surgeries as much as possible. You are a smart doctor and a professional medical scribe. \\n\\n Dialogue: \\n{dia} \\n\\n Procedures/surgeries:\",\n",
    "    \"ALLERGY\": f\"Task: I have a doctor-patient dialogue. Please output the patient's allergies. Please use medical terminology and lingo as much as possible. Please output None if there are no allergies. You are a smart doctor and a professional medical scribe. \\n\\n Dialogue: \\n{dia} \\n\\n Allergies:\",\n",
    "    \"GENHX\": f\"Task: I have a doctor-patient dialogue. Please output the patient's history regarding the present illness. That is, output the history of the issue the patient is currently suffering from. Please output only what was mentioned in the conversation and don't add any other new information. Please use medical terminology and lingo as much as possible. You are a smart doctor and a professional medical scribe. \\n\\n Dialogue: \\n{dia} \\n\\n Present illness history:\",\n",
    "    'ROS': f\"Task: I have a doctor-patient dialogue. Please output the review of systems (ROS) regarding the patient, that is the signs and/or symptoms which the patient may be experiencing or has experienced and on which part of the body. Please output only what was mentioned in the conversation and don't add any other new information. Please use medical terminology and lingo for naming the symptoms and issues as much as possible. You are a smart doctor and a professional medical scribe. \\n\\n Dialogue: \\n{dia} \\n\\n Review of systems:\",\n",
    "    'PASTMEDICALHX':f\"Task: I have a doctor-patient dialogue. Please output the patient's past medical history. If nothing has changed in the patient's history, say so. Please output only what was mentioned in the conversation and don't add any other new information. Please use medical terminology and lingo as much as possible. You are a smart doctor and a professional medical scribe. \\n\\n Dialogue: \\n{dia} \\n\\n Patient's medical history:\",\n",
    "    'PASTSURGICAL':f\"Task: I have a doctor-patient dialogue. Please list all the of patient's past surgeries as part of a doctor's note. If no surgeries, please output None. If surgeries are unknown, please output Unknown. You are a smart doctor and a professional medical scribe. \\n\\n Dialogue: \\n{dia} \\n\\n Past surgeries:\",\n",
    "    'DISPOSITION': f\"Task: I have a doctor-patient dialogue. Please output the patient's disposition. Please be concise. Please use medical terminology and lingo as much as possible. You are a smart doctor and a professional medical scribe. \\n\\n Dialogue: \\n{dia} \\n\\n Disposition:\",\n",
    "    'EDCOURSE': f\"Task: I have a doctor-patient dialogue. The dialogue either mentions what happened in the emergency room (ER) or is currently taking place at the emergency room. Please summarize what happened or is happening at the emergency room. Output what the patient suffered/is suffering from and what the treatments were/are and the dosages if mentioned. Please output only what was mentioned in the conversation and don't add any other new information. Please use medical terminology and lingo as much as possible. You are a smart doctor and a professional medical scribe. \\n\\n Dialogue: \\n{dia} \\n\\n Emergency room summary:\",\n",
    "    'PLAN': f\"Task: I have a doctor-patient dialogue. Please list the plan the patient has been following and/or the plan the patient and the doctor agreed on to follow from now on. Please list only what was mentioned in the conversation and don't add any other new information. Please use medical terminology and lingo as much as possible. You are a smart doctor and a professional medical scribe. \\n\\n Dialogue: \\n{dia} \\n\\n Plan:\",\n",
    "    'LABS': f\"Task: I have a doctor-patient dialogue. Please output the results of the lab tests. Please use medical terminology and lingo as much as possible. You are a smart doctor and a professional medical scribe. \\n\\n Dialogue: \\n{dia} \\n\\n Lab results:\",\n",
    "    'ASSESSMENT': f\"Task: I have a doctor-patient dialogue. Please list the doctor's medical observations about the patient as well as what the patient mentions about themselves medically. Basically, list everything medical from the assessment. Please only list what was mentioned in the conversation and don't add any other new information. Please use medical terminology and lingo as much as possible. You are a smart doctor and a professional medical scribe. \\n\\n Dialogue: \\n{dia} \\n\\n Assessment:\",\n",
    "    'GYNHX': f\"Task: I have a doctor-patient dialogue. Please output anything that was mentioned related to gynecology, obstetrics, OB/GYN, pap smears, pregnancy, menstrual cycles (periods), organs related to OB/GYN, results related to OB/GYN, issues related to OB/GYN, history related to OB/GYN, etc. Please output only what was mentioned in the conversation and don't add any other new information. Please use medical terminology and lingo as much as possible. You are a smart doctor and a professional medical scribe. \\n\\n Dialogue: \\n{dia} \\n\\n OB/GYN:\",\n",
    "    'IMAGING': f\"Task: I have a doctor-patient dialogue. Please output any imaging that was done and the results of the imaging. Imaging such as x-ray, EKG, CBC, radiology, ultrasound, etc. Please output only what was mentioned in the conversation and don't add any other new information. Please use medical terminology and lingo as much as possible. You are a smart doctor and a professional medical scribe. \\n\\n Dialogue: \\n{dia} \\n\\n Imaging:\",\n",
    "    'IMMUNIZATIONS': f\"Task: I have a doctor-patient dialogue. Please output the patient's immunizations, vaccines, how up-to-date the immunizations are, and the date of when the immunizations were given. Please use medical terminology and lingo as much as possible. You are a smart doctor and a professional medical scribe. \\n\\n Dialogue: \\n{dia} \\n\\n Immunizations and their dates:\",\n",
    "  }\n",
    "  return prompts[section]"
   ]
  },
  {
   "cell_type": "code",
   "execution_count": null,
   "metadata": {
    "colab": {
     "base_uri": "https://localhost:8080/",
     "height": 397
    },
    "executionInfo": {
     "elapsed": 139671,
     "status": "error",
     "timestamp": 1690392296962,
     "user": {
      "displayName": "Ahmed Jaafar",
      "userId": "01925140053924734789"
     },
     "user_tz": 240
    },
    "id": "skCTnpgfdbL9",
    "outputId": "09f69ec6-4e49-4c33-8896-1a6b7e010356"
   },
   "outputs": [],
   "source": [
    "section_pred_lst = []\n",
    "gold_lst = []\n",
    "for section, max_token in zip(sections, max_tokens):\n",
    "  valA_al = valA[valA['section_header'] == section]\n",
    "  dialogue_al = valA_al['dialogue'].tolist()\n",
    "  gold_lst.append(valA_al['section_text'].tolist())\n",
    "  model_pred_lst = []\n",
    "  for model in model_lst:\n",
    "    fun = get_al\n",
    "    al_pred_lst = []\n",
    "    for dia in dialogue_al:\n",
    "      prompt = get_prompt(dia, section)\n",
    "      res = fun(model, prompt, max_token)\n",
    "      al_pred_lst.append(res)\n",
    "    np.save(f'{model_names[model]}_{section}_preds.npy', al_pred_lst)\n",
    "    model_pred_lst.append(al_pred_lst)\n",
    "  section_pred_lst.append(model_pred_lst)"
   ]
  },
  {
   "cell_type": "code",
   "execution_count": null,
   "metadata": {
    "executionInfo": {
     "elapsed": 8,
     "status": "aborted",
     "timestamp": 1690391768178,
     "user": {
      "displayName": "Ahmed Jaafar",
      "userId": "01925140053924734789"
     },
     "user_tz": 240
    },
    "id": "I1JRmVELiikT"
   },
   "outputs": [],
   "source": [
    "rouge = evaluate.load('rouge')\n",
    "section_rouge_scores = []\n",
    "for section, gold_al in zip(section_pred_lst, gold_lst):\n",
    "  model_rouge_scores = []\n",
    "  for preds in section:\n",
    "    rouge_res = rouge.compute(predictions=preds, references=gold_al)\n",
    "    model_rouge_scores.append(rouge_res)\n",
    "  section_rouge_scores.append(model_rouge_scores)"
   ]
  },
  {
   "cell_type": "code",
   "execution_count": null,
   "metadata": {
    "colab": {
     "base_uri": "https://localhost:8080/"
    },
    "executionInfo": {
     "elapsed": 131,
     "status": "ok",
     "timestamp": 1689466252567,
     "user": {
      "displayName": "Ahmed Jaafar",
      "userId": "01925140053924734789"
     },
     "user_tz": 240
    },
    "id": "vCmuIugfmMUm",
    "outputId": "b597ca22-968f-4842-e4f9-ea5ad3e86112"
   },
   "outputs": [],
   "source": [
    "for section, section_rouge in zip(sections, section_rouge_scores):\n",
    "  print(f'{section}:\\n')\n",
    "  for i, rouge in enumerate(section_rouge):\n",
    "    print(f\"{model_names[model_lst[i]]}: \", rouge, \"\\n\")"
   ]
  }
 ],
 "metadata": {
  "colab": {
   "provenance": [
    {
     "file_id": "1mogyJ_SOaSVMc_5TN39oiQtOeVpXFV_Z",
     "timestamp": 1690390072726
    },
    {
     "file_id": "1f8UUYd-uFiERJGTKSW2MKV7mTDZsm1Dk",
     "timestamp": 1689201062151
    },
    {
     "file_id": "1SWb7046bLWzuGZJ5Oeq3q22lHimABaLC",
     "timestamp": 1689200935740
    }
   ]
  },
  "kernelspec": {
   "display_name": "salt",
   "language": "python",
   "name": "salt"
  },
  "language_info": {
   "codemirror_mode": {
    "name": "ipython",
    "version": 3
   },
   "file_extension": ".py",
   "mimetype": "text/x-python",
   "name": "python",
   "nbconvert_exporter": "python",
   "pygments_lexer": "ipython3",
   "version": "3.8.18"
  }
 },
 "nbformat": 4,
 "nbformat_minor": 4
}
