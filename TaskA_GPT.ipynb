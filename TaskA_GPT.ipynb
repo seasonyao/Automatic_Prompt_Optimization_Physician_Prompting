{
 "cells": [
  {
   "cell_type": "code",
   "execution_count": null,
   "metadata": {
    "executionInfo": {
     "elapsed": 20876,
     "status": "ok",
     "timestamp": 1700024108592,
     "user": {
      "displayName": "Ahmed Jaafar",
      "userId": "01925140053924734789"
     },
     "user_tz": 300
    },
    "id": "Fg3cMUkoWnXq"
   },
   "outputs": [],
   "source": [
    "%%capture\n",
    "# !pip install openai\n",
    "!pip install openai==0.28 #use this version since the API was updated\n",
    "!pip install evaluate\n",
    "!pip install rouge_score"
   ]
  },
  {
   "cell_type": "code",
   "execution_count": null,
   "metadata": {
    "executionInfo": {
     "elapsed": 58,
     "status": "ok",
     "timestamp": 1700024108593,
     "user": {
      "displayName": "Ahmed Jaafar",
      "userId": "01925140053924734789"
     },
     "user_tz": 300
    },
    "id": "jubXJXy-WAZg"
   },
   "outputs": [],
   "source": [
    "import pandas as pd\n",
    "import openai\n",
    "import evaluate\n",
    "import numpy as np"
   ]
  },
  {
   "cell_type": "code",
   "execution_count": null,
   "metadata": {
    "executionInfo": {
     "elapsed": 56,
     "status": "ok",
     "timestamp": 1700024108593,
     "user": {
      "displayName": "Ahmed Jaafar",
      "userId": "01925140053924734789"
     },
     "user_tz": 300
    },
    "id": "U9lQaZzErkxu"
   },
   "outputs": [],
   "source": [
    "#generic prompt\n",
    "summarize_raw_instruction = \"\"\"[target_trainable_instruction]\n",
    "\n",
    "SOAP note section:\n",
    "[section]\n",
    "Conversation snippet:\n",
    "[Conv_snippet]\n",
    "\n",
    "Output your summary.\n",
    "Return the output as a dictionary object, adhering to the following structure:\n",
    "{\"summary\": ...}\n",
    "Please provide your response solely in the dictionary format without including any additional text.\n",
    "\"\"\""
   ]
  },
  {
   "cell_type": "code",
   "execution_count": null,
   "metadata": {
    "executionInfo": {
     "elapsed": 55,
     "status": "ok",
     "timestamp": 1700024108593,
     "user": {
      "displayName": "Ahmed Jaafar",
      "userId": "01925140053924734789"
     },
     "user_tz": 300
    },
    "id": "MHEXHZ_BVnki"
   },
   "outputs": [],
   "source": [
    "valA = pd.read_csv('TaskA-ValidationSet.csv')"
   ]
  },
  {
   "cell_type": "code",
   "execution_count": null,
   "metadata": {
    "colab": {
     "base_uri": "https://localhost:8080/"
    },
    "executionInfo": {
     "elapsed": 54,
     "status": "ok",
     "timestamp": 1700024108593,
     "user": {
      "displayName": "Ahmed Jaafar",
      "userId": "01925140053924734789"
     },
     "user_tz": 300
    },
    "id": "lFqerx4Y6VbO",
    "outputId": "5d645851-1137-4898-eaa0-967c51acc711"
   },
   "outputs": [],
   "source": [
    "sections = valA['section_header'].unique().tolist()\n",
    "print(sections)\n",
    "sections = [\"GENHX\"]\n",
    "max_tokens = []\n",
    "\n",
    "for s in sections:\n",
    "  s_df = valA[valA['section_header'] == s]\n",
    "  avg_chars = s_df['section_text'].str.len().mean()\n",
    "  max_tokens.append(int(round(avg_chars/4)))\n",
    "print(max_tokens)"
   ]
  },
  {
   "cell_type": "code",
   "execution_count": null,
   "metadata": {
    "executionInfo": {
     "elapsed": 20,
     "status": "ok",
     "timestamp": 1700024108594,
     "user": {
      "displayName": "Ahmed Jaafar",
      "userId": "01925140053924734789"
     },
     "user_tz": 300
    },
    "id": "GdhjO0YbXaY2"
   },
   "outputs": [],
   "source": [
    "openai.api_key = #insert API key here"
   ]
  },
  {
   "cell_type": "code",
   "execution_count": null,
   "metadata": {
    "executionInfo": {
     "elapsed": 20,
     "status": "ok",
     "timestamp": 1700024108594,
     "user": {
      "displayName": "Ahmed Jaafar",
      "userId": "01925140053924734789"
     },
     "user_tz": 300
    },
    "id": "8cQhs1jrWY0f"
   },
   "outputs": [],
   "source": [
    "def get_al(model, prompt, max_tokens):\n",
    "  response = openai.Completion.create(\n",
    "            engine= model,\n",
    "            prompt= prompt,\n",
    "            # max_tokens=max_tokens,\n",
    "            n=1,\n",
    "            stop=None,\n",
    "            temperature=0.2,\n",
    "            timeout=45\n",
    "        )\n",
    "  return response.choices[0].text.strip()"
   ]
  },
  {
   "cell_type": "code",
   "execution_count": null,
   "metadata": {
    "executionInfo": {
     "elapsed": 20,
     "status": "ok",
     "timestamp": 1700024108594,
     "user": {
      "displayName": "Ahmed Jaafar",
      "userId": "01925140053924734789"
     },
     "user_tz": 300
    },
    "id": "vrORmObc3M0_"
   },
   "outputs": [],
   "source": [
    "def get_al_chat(model, prompt, max_tokens):\n",
    "  response = openai.ChatCompletion.create(\n",
    "              model=model,\n",
    "              messages=[\n",
    "                  {\"role\": \"system\", \"content\": \"You are a smart doctor as well as a professional medical scribe with a lot of experience.\"},\n",
    "                  {\"role\": \"user\", \"content\": prompt},\n",
    "              ],\n",
    "              temperature=0.2,\n",
    "              # max_tokens=max_tokens,\n",
    "              timeout=45,\n",
    "              n=1,\n",
    "              stop=None\n",
    "          )\n",
    "\n",
    "  return response['choices'][0]['message']['content']"
   ]
  },
  {
   "cell_type": "code",
   "execution_count": null,
   "metadata": {
    "executionInfo": {
     "elapsed": 19,
     "status": "ok",
     "timestamp": 1700024108594,
     "user": {
      "displayName": "Ahmed Jaafar",
      "userId": "01925140053924734789"
     },
     "user_tz": 300
    },
    "id": "Gm3kQNA4zHrz"
   },
   "outputs": [],
   "source": [
    "model_lst = [\"text-ada-001\", \"text-babbage-001\",\"text-curie-001\", \"text-davinci-003\", \"gpt-3.5-turbo\", \"gpt-4\"]"
   ]
  },
  {
   "cell_type": "code",
   "execution_count": null,
   "metadata": {
    "executionInfo": {
     "elapsed": 20,
     "status": "ok",
     "timestamp": 1700024108595,
     "user": {
      "displayName": "Ahmed Jaafar",
      "userId": "01925140053924734789"
     },
     "user_tz": 300
    },
    "id": "q8nq93SU1eH0"
   },
   "outputs": [],
   "source": [
    "#my prompts\n",
    "def get_prompt(dia, section):\n",
    "  prompts = {\n",
    "    \"EXAM\": f\"Task: I have a doctor-patient dialogue. Please list each body part examined by the doctor along with what was observed as a result for each body part. Please be concise. Please use medical terminology and lingo as much as possible. You are a smart doctor and a professional medical scribe. \\n\\nDialogue: \\n{dia} \\n\\nExaminations:\",\n",
    "    \"OTHER_HISTORY\": f\"Task: I have a doctor-patient dialogue. Please output the patient's medical history and other history. If nothing has changed in the patient's history, say so. Please output only what was mentioned in the conversation and don't add any other new information. Please use medical terminology and lingo as much as possible. You are a smart doctor and a professional medical scribe. \\n\\nDialogue: \\n{dia} \\n\\nPatient's history:\",\n",
    "    \"CC\": f\"Task: I have a doctor-patient dialogue. Please output the patient's chief complaint, which are the reasons/symptoms of why the patient is visiting the doctor. Please use medical terminology and lingo as much as possible. You are a smart doctor and a professional medical scribe. \\n\\n Dialogue: \\n{dia} \\n\\n Chief complaint:\",\n",
    "    \"DIAGNOSIS\": f\"Task: I have a doctor-patient dialogue. Please list the patient's diagnosis. Please use medical terminology and lingo as much as possible. You are a smart doctor and a professional medical scribe. \\n\\n Dialogue: \\n{dia} \\n\\n Diagnosis:\",\n",
    "    \"FAM/SOCHX\": f\"Task: I have a doctor-patient dialogue. Please output the patient's family medical history and the patient's social history. If the history is unknown, say so. Please output only what was mentioned in the conversation and don't add any other new information. Please use medical terminology and lingo as much as possible. You are a smart doctor and a professional medical scribe. \\n\\n Dialogue: \\n{dia} \\n\\n Patient's family history and social history:\",\n",
    "    \"MEDICATIONS\": f\"Task: I have a doctor-patient dialogue. Please list all the medications taken by the patient as part of a doctor's note. If no medications are mentioned, please output None. You are a smart doctor that knows this. \\n\\n Dialogue: \\n{dia} \\n\\n Medications:\",\n",
    "    \"PROCEDURES\": f\"Task: I have a doctor-patient dialogue. Please output the patient's surgical history, past procedures, current procedures, as well as the outcomes of the procedures/surgeries. Please output only what was mentioned in the conversation and don't add any other new information. Please use medical terminology and lingo for naming the procedures/surgeries as much as possible. You are a smart doctor and a professional medical scribe. \\n\\n Dialogue: \\n{dia} \\n\\n Procedures/surgeries:\",\n",
    "    \"ALLERGY\": f\"Task: I have a doctor-patient dialogue. Please output the patient's allergies. Please use medical terminology and lingo as much as possible. Please output None if there are no allergies. You are a smart doctor and a professional medical scribe. \\n\\n Dialogue: \\n{dia} \\n\\n Allergies:\",\n",
    "    \"GENHX\": f\"Task: I have a doctor-patient dialogue. Please output the patient's history regarding the present illness. That is, output the history of the issue the patient is currently suffering from. Please output only what was mentioned in the conversation and don't add any other new information. Please use medical terminology and lingo as much as possible. You are a smart doctor and a professional medical scribe. \\n\\n Dialogue: \\n{dia} \\n\\n Present illness history:\",\n",
    "    'ROS': f\"Task: I have a doctor-patient dialogue. Please output the review of systems (ROS) regarding the patient, that is the signs and/or symptoms which the patient may be experiencing or has experienced and on which part of the body. Please output only what was mentioned in the conversation and don't add any other new information. Please use medical terminology and lingo for naming the symptoms and issues as much as possible. You are a smart doctor and a professional medical scribe. \\n\\n Dialogue: \\n{dia} \\n\\n Review of systems:\",\n",
    "    'PASTMEDICALHX':f\"Task: I have a doctor-patient dialogue. Please output the patient's past medical history. If nothing has changed in the patient's history, say so. Please output only what was mentioned in the conversation and don't add any other new information. Please use medical terminology and lingo as much as possible. You are a smart doctor and a professional medical scribe. \\n\\n Dialogue: \\n{dia} \\n\\n Patient's medical history:\",\n",
    "    'PASTSURGICAL':f\"Task: I have a doctor-patient dialogue. Please list all the of patient's past surgeries as part of a doctor's note. If no surgeries, please output None. If surgeries are unknown, please output Unknown. You are a smart doctor and a professional medical scribe. \\n\\n Dialogue: \\n{dia} \\n\\n Past surgeries:\",\n",
    "    'DISPOSITION': f\"Task: I have a doctor-patient dialogue. Please output the patient's disposition. Please be concise. Please use medical terminology and lingo as much as possible. You are a smart doctor and a professional medical scribe. \\n\\n Dialogue: \\n{dia} \\n\\n Disposition:\",\n",
    "    'EDCOURSE': f\"Task: I have a doctor-patient dialogue. The dialogue either mentions what happened in the emergency room (ER) or is currently taking place at the emergency room. Please summarize what happened or is happening at the emergency room. Output what the patient suffered/is suffering from and what the treatments were/are and the dosages if mentioned. Please output only what was mentioned in the conversation and don't add any other new information. Please use medical terminology and lingo as much as possible. You are a smart doctor and a professional medical scribe. \\n\\n Dialogue: \\n{dia} \\n\\n Emergency room summary:\",\n",
    "    'PLAN': f\"Task: I have a doctor-patient dialogue. Please list the plan the patient has been following and/or the plan the patient and the doctor agreed on to follow from now on. Please list only what was mentioned in the conversation and don't add any other new information. Please use medical terminology and lingo as much as possible. You are a smart doctor and a professional medical scribe. \\n\\n Dialogue: \\n{dia} \\n\\n Plan:\",\n",
    "    \"LABS\": f\"Task: I have a doctor-patient dialogue. Please output the results of the lab tests. Please don't add any other information, only list the lab results. Please use medical terminology and lingo as much as possible. You are a smart doctor and a professional medical scribe. \\n\\n Dialogue: \\n{dia} \\n\\n Lab results:\",\n",
    "    'ASSESSMENT': f\"Task: I have a doctor-patient dialogue. Please list the doctor's medical observations about the patient as well as what the patient mentions about themselves medically. Basically, list everything medical from the assessment. Please only list what was mentioned in the conversation and don't add any other new information. Please use medical terminology and lingo as much as possible. You are a smart doctor and a professional medical scribe. \\n\\n Dialogue: \\n{dia} \\n\\n Assessment:\",\n",
    "    'GYNHX': f\"Task: I have a doctor-patient dialogue. Please output anything that was mentioned related to gynecology, obstetrics, OB/GYN, pap smears, pregnancy, menstrual cycles (periods), organs related to OB/GYN, results related to OB/GYN, issues related to OB/GYN, history related to OB/GYN, etc. Please output only what was mentioned in the conversation and don't add any other new information. Please use medical terminology and lingo as much as possible. You are a smart doctor and a professional medical scribe. \\n\\n Dialogue: \\n{dia} \\n\\n OB/GYN:\",\n",
    "    'IMAGING': f\"Task: I have a doctor-patient dialogue. Please output any imaging that was done and the results of the imaging. Imaging such as x-ray, EKG, CBC, radiology, ultrasound, etc. Please output only what was mentioned in the conversation and don't add any other new information. Please use medical terminology and lingo as much as possible. You are a smart doctor and a professional medical scribe. \\n\\n Dialogue: \\n{dia} \\n\\n Imaging:\",\n",
    "    'IMMUNIZATIONS': f\"Task: I have a doctor-patient dialogue. Please output the patient's immunizations, vaccines, how up-to-date the immunizations are, and the date of when the immunizations were given. Please use medical terminology and lingo as much as possible. You are a smart doctor and a professional medical scribe. \\n\\n Dialogue: \\n{dia} \\n\\n Immunizations and their dates:\",\n",
    "  }\n",
    "  return prompts[section]"
   ]
  },
  {
   "cell_type": "code",
   "execution_count": null,
   "metadata": {},
   "outputs": [],
   "source": [
    "#generic prompt\n",
    "# def get_prompt(dia, section):\n",
    "#     generic_prompt = \"\"\"In this task, we ask for your expertise in writing SOAP notes from the doctor-patient conversation.\n",
    "#     Mainly we provide the target section in the SOAP note and the conversation snippet.\n",
    "#     We need you to generate a summary for the respective snippet.\n",
    "#     \"\"\"\n",
    "#     return generic_prompt"
   ]
  },
  {
   "cell_type": "code",
   "execution_count": null,
   "metadata": {
    "executionInfo": {
     "elapsed": 19,
     "status": "ok",
     "timestamp": 1700024108595,
     "user": {
      "displayName": "Ahmed Jaafar",
      "userId": "01925140053924734789"
     },
     "user_tz": 300
    },
    "id": "GPAP9aXfLtD2"
   },
   "outputs": [],
   "source": [
    "#Med Student A\n",
    "# def get_prompt(dia, section):\n",
    "#   prompts = {\n",
    "#     \"OTHER_HISTORY\": f\"Task: I have a doctor-patient dialogue. Please output the patient's medical history and other history,including asking about the history of heart disease, hypertension, diabetes, and tumor.If nothing has changed in the patient's history, say so. Please output only what was mentioned in the conversation and don't add any other new information. Please use medical terminology and lingo as much as possible. You are a smart doctor and a professional medical scribe. \\n\\n Dialogue: \\n{dia} \\n\\n Patient's history:\",\n",
    "#     \"CC\": f\"Task: I have a doctor-patient dialogue. Please output the patient's chief complaint, which are the reasons/symptoms of why the patient is visiting the doctor.Include how long they have been sick so far Please use medical terminology and lingo as much as possible. You are a smart doctor and a professional medical scribe. \\n\\n Dialogue: \\n{dia} \\n\\n Chief complaint:\",\n",
    "#     \"DIAGNOSIS\": f\"Task: I have a doctor-patient dialogue. Please list the patient's diagnosis:List the main diagnosis as the first item, and list the previous diagnoses in order of importance.Please use medical terminology and lingo as much as possible. You are a smart doctor and a professional medical scribe. \\n\\n Dialogue: \\n{dia} \\n\\n Diagnosis:\",\n",
    "#     \"FAM/SOCHX\": f\"Task: I have a doctor-patient dialogue. Please output the patient's family medical history and the patient's social history. If the history is unknown, say so. Mainly about immediate family members about genetic disorders associated with the disease.Please output only what was mentioned in the conversation and don't add any other new information. Please use medical terminology and lingo as much as possible. You are a smart doctor and a professional medical scribe. \\n\\n Dialogue: \\n{dia} \\n\\n Patient's family history and social history:\",\n",
    "#     \"MEDICATIONS\": f\"Task: I have a doctor-patient dialogue. Please list all the medications taken by the patient as part of a doctor's note and include the date the drug was started, as well as the dose and frequency of use. If no medications are mentioned, please output None. You are a smart doctor that knows this. \\n\\n Dialogue: \\n{dia} \\n\\n Medications:\",\n",
    "#     \"PROCEDURES\": f\"Task: I have a doctor-patient dialogue. Please output the patient's surgical history, past procedures, current procedures, as well as the outcomes of the procedures/surgeries.If there is follow-up drug treatment, please list it together.Please output only what was mentioned in the conversation and don't add any other new information. Please use medical terminology and lingo for naming the procedures/surgeries as much as possible. You are a smart doctor and a professional medical scribe. \\n\\n Dialogue: \\n{dia} \\n\\n Procedures/surgeries:\",\n",
    "#     \"ALLERGY\": f\"Task: I have a doctor-patient dialogue. Please output the patient's allergies.includes food allergies and drug allergies, especially penicillin allergies. Please use medical terminology and lingo as much as possible. Please output None if there are no allergies. You are a smart doctor and a professional medical scribe. \\n\\n Dialogue: \\n{dia} \\n\\n Allergies:\",\n",
    "#     'PASTSURGICAL':f\"Task: I have a doctor-patient dialogue. Please list all the of patient's past surgeries as part of a doctor's note. Including the specific time of operation and postoperative treatment.If no surgeries, please output None. If surgeries are unknown, please output Unknown. You are a smart doctor and a professional medical scribe. \\n\\n Dialogue: \\n{dia} \\n\\n Past surgeries:\",\n",
    "#     'LABS': f\"Task: I have a doctor-patient dialogue. Please output the results of the lab tests.Laboratory tests need to be relevant to this diagnosis, listing abnormal laboratory indicators. Please use medical terminology and lingo as much as possible. You are a smart doctor and a professional medical scribe. \\n\\n Dialogue: \\n{dia} \\n\\n Lab results:\",\n",
    "#     'IMAGING': f\"Task: I have a doctor-patient dialogue. Please output any imaging that was done and the results of the imaging. Imaging such as x-ray, EKG, CBC, radiology, ultrasound, etc. And indicate the date the image was taken, as well as the abnormal location and description in the image.Please output only what was mentioned in the conversation and don't add any other new information. Please use medical terminology and lingo as much as possible. You are a smart doctor and a professional medical scribe. \\n\\n Dialogue: \\n{dia} \\n\\n Imaging:\",\n",
    "#   }\n",
    "#   return prompts[section]"
   ]
  },
  {
   "cell_type": "code",
   "execution_count": null,
   "metadata": {
    "executionInfo": {
     "elapsed": 19,
     "status": "ok",
     "timestamp": 1700024108595,
     "user": {
      "displayName": "Ahmed Jaafar",
      "userId": "01925140053924734789"
     },
     "user_tz": 300
    },
    "id": "G2HHRXLO2_Bb"
   },
   "outputs": [],
   "source": [
    "#Med Student B\n",
    "# def get_prompt(dia, section):\n",
    "#   prompts = {\n",
    "#     \"ASSESSMENT\": f\"Task: Besides diagnosis and differential diagnosis, assessment could include possible underlying reasons that induce the patient’s problems, the need for therapy, and therapy options. \\n\\n Dialogue: \\n{dia} \\n\\n Assessment:\",\n",
    "#     \"GENHX\": f\"Task: Please include the following information if mentioned in the dialogue: the onset of symptoms, quality and intensity of symptoms, course (sudden, gradual, constant, or on and off), duration of symptoms, associated symptoms, factors that improve or exacerbate symptoms, triggers or the patient’s own explanation of the cause of the symptoms, etc. \\n\\n Dialogue: \\n{dia} \\n\\n Present illness history:\",\n",
    "#     \"PLAN\": f\"Task: Plan might constitute three parts- the diagnostic plan which includes lab tests, imaging, and some other diagnostic procedures needed to be done for a solid diagnosis; the therapeutic plan which includes therapeutic procedures or surgery plan, medications, and other detailed treatments such as supportive care; the education plan includes long-term self-management, monitoring and following-up, prognosis, preventions, lifestyle adjustment, etc. Please list all the information about the doctor's plan mentioned in the dialogue, and do not add new information. \\n\\n Dialogue: \\n{dia} \\n\\n Plan:\",\n",
    "#     \"GYNHX\": f\"Task: I have a doctor-patient dialogue. Please output anything that was mentioned related to gynecology, obstetrics, OB/GYN, pap smears, pregnancy, menstrual cycles (periods), organs related to OB/GYN, results related to OB/GYN, issues related to OB/GYN, history related to OB/GYN, along with mentioned sexual history, current/past contraception methods use, gravida & parity experience, etc. Please output only what was mentioned in the conversation and don't add any other new information. Please use medical terminology and lingo as much as possible. You are a smart doctor and a professional medical scribe. \\n\\n Dialogue: \\n{dia} \\n\\n OB/GYN:\",\n",
    "#     \"ROS\": f\"Task: A review of systems should be a list of questions about whether the symptoms exist arranged by organ systems. For example, 'the patient confirms fever and vomiting and denies abdominal pain, diarrhea, or jaundice.' \\n\\n Dialogue: \\n{dia} \\n\\n Review of systems:\",\n",
    "#     \"OTHER_HISTORY\": f\"Task: Other history is a relatively condensed category of issues in the patient’s history that are known to have clinical relevance to the purpose of the current visit but do not fit well in any other category of history. \\n\\n Dialogue: \\n{dia} \\n\\n Patient's history:\",\n",
    "#     \"DIAGNOSIS\": f\"Task: The diagnosis should be for the purpose of this visit. You can add “?” after it if there’s not enough information to make a solid diagnosis or just not sure. And you can list some differential diagnoses here. (based on S.O.A.P.) \\n\\n Dialogue: \\n{dia} \\n\\n Diagnosis:\",\n",
    "#     \"FAM/SOCHX\": f\"Task: Family history is a history of disease of first and second-degree blood relatives. Please list the age and health status of them if mentioned. If some of them have any medical conditions, please list the age of onset and progression. If there is any known genetic defect in the family (e.g., cystic fibrosis, hemophilia), please list it. Social history is a part of a medical history that addresses social aspects (e.g., occupation, socioeconomic status, drug use) of the patient’s life that might pertain to the patient’s conditions. \\n\\n Dialogue: \\n{dia} \\n\\n Patient's family history and social history:\",\n",
    "#     \"MEDICATIONS\": f\"Task: Please list all the medications taken by the patient currently or previously except for what is going to be prescribed newly during the current visit. Please add the following information after the related medication name if mentioned: when started and when finished, the medication’s dosage, frequency, effectiveness, side effects, the patient’s compliance to it, and any other information mentioned by the patient. Medications include vitamins and dietary supplements, herbal remedies, and non-specific drug classes (antibiotics, anti-allergic drugs, etc.). \\n\\n Dialogue: \\n{dia} \\n\\n Medications:\",\n",
    "#     \"PROCEDURES\": f\"Task: Please list all the invasive procedures the patient has ever undergone before the current visit with the date, location, and complications of them if mentioned. \\n\\n Dialogue: \\n{dia} \\n\\n Procedures/surgeries:\",\n",
    "#     \"ALLERGY\": f\"Task: Please list all the allergens the patient reacts to. Allergens include drugs, environmental factors such as sunlight and pollen, food, products such as latex, substances such as alcohol, etc. \\n\\n Dialogue: \\n{dia} \\n\\n Allergies:\",\n",
    "#     'CC': f\"Task:The chief complaint should describe the main reason for the patient’s visit and record it in the patient’s own words and in quotation. If the patient comes for some symptoms, you should also record the duration of each symptom, e.g.,’upset stomach for 3 hours.’ \\n\\n Dialogue: \\n{dia} \\n\\n Chief complaint:\",\n",
    "#     \"PASTSURGICAL\": f\"Task: Please list all the surgeries and transfusions the patient has ever undergone with the date, location, and complications of them if mentioned. \\n\\n Dialogue: \\n{dia} \\n\\n Past surgeries:\",\n",
    "#     'LABS': f\"Task: Please output the results of the lab tests which have been done before the current visit. \\n\\n Dialogue: \\n{dia} \\n\\n Lab results:\",\n",
    "#     'IMAGING': f\"Task: Please output the results of the imaging tests which have been done before the current visit. \\n\\n Dialogue: \\n{dia} \\n\\n Imaging:\"\n",
    "#     }\n",
    "#   return prompts[section]"
   ]
  },
  {
   "cell_type": "code",
   "execution_count": null,
   "metadata": {
    "executionInfo": {
     "elapsed": 255444,
     "status": "ok",
     "timestamp": 1700024364020,
     "user": {
      "displayName": "Ahmed Jaafar",
      "userId": "01925140053924734789"
     },
     "user_tz": 300
    },
    "id": "skCTnpgfdbL9"
   },
   "outputs": [],
   "source": [
    "section_pred_lst = []\n",
    "gold_lst = []\n",
    "for section, max_token in zip(sections, max_tokens):\n",
    "  valA_al = valA[valA['section_header'] == section]\n",
    "  dialogue_al = valA_al['dialogue'].tolist()\n",
    "  gold_lst.append(valA_al['section_text'].tolist())\n",
    "  model_pred_lst = []\n",
    "  for model in model_lst:\n",
    "    if model in [\"gpt-3.5-turbo\", \"gpt-4\"]:\n",
    "      fun = get_al_chat\n",
    "    else:\n",
    "      fun = get_al\n",
    "    al_pred_lst = []\n",
    "    for dia in dialogue_al:\n",
    "      prompt = get_prompt(dia, section)\n",
    "      #uncomment for generic prompt usage\n",
    "      # instruction = summarize_raw_instruction\n",
    "      # instruction = instruction.replace('[target_trainable_instruction]', prompt) #p0\n",
    "      # instruction = instruction.replace('[section]', \"GENERAL HISTORY\") #x\n",
    "      # instruction = instruction.replace('[Conv_snippet]', dia) #x\n",
    "      # res = fun(model, instruction, max_token)\n",
    "      #comment line below if lines above are uncommented\n",
    "      res = fun(model, prompt, max_token)\n",
    "      al_pred_lst.append(res)\n",
    "    if section == 'FAM/SOCHX':\n",
    "      section = \"FAM_SOCHX\"\n",
    "    #uncomment for generic prompt usage\n",
    "    #np.save(f'{model}_{section}_preds_generic.npy', al_pred_lst)\n",
    "    #comment line below if line above is uncommented\n",
    "    np.save(f'{model}_{section}_preds.npy', al_pred_lst)\n",
    "    if section == 'FAM_SOCHX':\n",
    "      section = \"FAM/SOCHX\"\n",
    "    model_pred_lst.append(al_pred_lst)\n",
    "  section_pred_lst.append(model_pred_lst)"
   ]
  },
  {
   "cell_type": "code",
   "execution_count": null,
   "metadata": {
    "executionInfo": {
     "elapsed": 3291,
     "status": "ok",
     "timestamp": 1700024367302,
     "user": {
      "displayName": "Ahmed Jaafar",
      "userId": "01925140053924734789"
     },
     "user_tz": 300
    },
    "id": "I1JRmVELiikT"
   },
   "outputs": [],
   "source": [
    "rouge = evaluate.load('rouge')\n",
    "section_rouge_scores = []\n",
    "for section, gold_al in zip(section_pred_lst, gold_lst):\n",
    "  model_rouge_scores = []\n",
    "  for preds in section:\n",
    "    rouge_res = rouge.compute(predictions=preds, references=gold_al)\n",
    "    model_rouge_scores.append(rouge_res)\n",
    "  section_rouge_scores.append(model_rouge_scores)"
   ]
  },
  {
   "cell_type": "code",
   "execution_count": null,
   "metadata": {
    "executionInfo": {
     "elapsed": 32,
     "status": "ok",
     "timestamp": 1700024367305,
     "user": {
      "displayName": "Ahmed Jaafar",
      "userId": "01925140053924734789"
     },
     "user_tz": 300
    },
    "id": "VoSl63V2vQP8"
   },
   "outputs": [],
   "source": [
    "cols = {\n",
    "    'section': [],\n",
    "    'variant': [],\n",
    "    'rouge1': [],\n",
    "    'rouge2': [],\n",
    "    'rougeL': [],\n",
    "    'rougeLsum': []\n",
    "}\n",
    "\n",
    "# Create an empty DataFrame with these columns\n",
    "generic_prompt_rouge = pd.DataFrame(cols)"
   ]
  },
  {
   "cell_type": "code",
   "execution_count": null,
   "metadata": {
    "colab": {
     "base_uri": "https://localhost:8080/"
    },
    "executionInfo": {
     "elapsed": 33,
     "status": "ok",
     "timestamp": 1700024367306,
     "user": {
      "displayName": "Ahmed Jaafar",
      "userId": "01925140053924734789"
     },
     "user_tz": 300
    },
    "id": "vCmuIugfmMUm",
    "outputId": "14b973e9-f29d-49cc-895b-c10ccaa63eb2"
   },
   "outputs": [],
   "source": [
    "for section, section_rouge in zip(sections, section_rouge_scores):\n",
    "  print(f'{section}:\\n')\n",
    "  for i, rouge in enumerate(section_rouge):\n",
    "    # print(f\"{model_lst[i]}: \", rouge, \"\\n\")\n",
    "    meta = {'section': section, 'variant': model_lst[i]}\n",
    "    all_keys = {**meta, **rouge}\n",
    "    # Append the dictionary as a new row to the DataFrame\n",
    "    generic_prompt_rouge = generic_prompt_rouge.append(all_keys, ignore_index=True)"
   ]
  },
  {
   "cell_type": "code",
   "execution_count": null,
   "metadata": {
    "executionInfo": {
     "elapsed": 26,
     "status": "ok",
     "timestamp": 1700024367306,
     "user": {
      "displayName": "Ahmed Jaafar",
      "userId": "01925140053924734789"
     },
     "user_tz": 300
    },
    "id": "ZRQx6ayDyNwB"
   },
   "outputs": [],
   "source": [
    "generic_prompt_rouge.to_csv(f'generic_prompt_rouge_{section}.csv', index=False)"
   ]
  },
  {
   "cell_type": "code",
   "execution_count": null,
   "metadata": {
    "colab": {
     "base_uri": "https://localhost:8080/",
     "height": 0
    },
    "executionInfo": {
     "elapsed": 25,
     "status": "ok",
     "timestamp": 1700024367306,
     "user": {
      "displayName": "Ahmed Jaafar",
      "userId": "01925140053924734789"
     },
     "user_tz": 300
    },
    "id": "8ZVzEPg7DLIp",
    "outputId": "2413c1e1-85f9-4622-bcb3-6c3fa198a6a2"
   },
   "outputs": [],
   "source": [
    "generic_prompt_rouge"
   ]
  }
 ],
 "metadata": {
  "colab": {
   "provenance": [
    {
     "file_id": "1f8UUYd-uFiERJGTKSW2MKV7mTDZsm1Dk",
     "timestamp": 1689201062151
    },
    {
     "file_id": "1SWb7046bLWzuGZJ5Oeq3q22lHimABaLC",
     "timestamp": 1689200935740
    }
   ]
  },
  "kernelspec": {
   "display_name": "salt",
   "language": "python",
   "name": "salt"
  },
  "language_info": {
   "codemirror_mode": {
    "name": "ipython",
    "version": 3
   },
   "file_extension": ".py",
   "mimetype": "text/x-python",
   "name": "python",
   "nbconvert_exporter": "python",
   "pygments_lexer": "ipython3",
   "version": "3.8.18"
  }
 },
 "nbformat": 4,
 "nbformat_minor": 4
}
