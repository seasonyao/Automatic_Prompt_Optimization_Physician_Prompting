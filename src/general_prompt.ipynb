{
 "cells": [
  {
   "cell_type": "code",
   "execution_count": null,
   "metadata": {
    "executionInfo": {
     "elapsed": 2044,
     "status": "ok",
     "timestamp": 1693264346999,
     "user": {
      "displayName": "Ahmed Jaafar",
      "userId": "01925140053924734789"
     },
     "user_tz": 240
    },
    "id": "C7BRyQklgtzN"
   },
   "outputs": [],
   "source": [
    "import pandas as pd\n",
    "import openai"
   ]
  },
  {
   "cell_type": "code",
   "execution_count": null,
   "metadata": {
    "executionInfo": {
     "elapsed": 172,
     "status": "ok",
     "timestamp": 1693266215827,
     "user": {
      "displayName": "Ahmed Jaafar",
      "userId": "01925140053924734789"
     },
     "user_tz": 240
    },
    "id": "LOxlap56gv_V"
   },
   "outputs": [],
   "source": [
    "valA = pd.read_csv('TaskA-ValidationSet.csv')"
   ]
  },
  {
   "cell_type": "code",
   "execution_count": null,
   "metadata": {
    "colab": {
     "base_uri": "https://localhost:8080/"
    },
    "executionInfo": {
     "elapsed": 165,
     "status": "ok",
     "timestamp": 1693266217771,
     "user": {
      "displayName": "Ahmed Jaafar",
      "userId": "01925140053924734789"
     },
     "user_tz": 240
    },
    "id": "7KhXmfKchAx1",
    "outputId": "2ee03d23-880a-4ab9-a39f-46020864a131"
   },
   "outputs": [],
   "source": [
    "sections = valA['section_header'].unique().tolist()\n",
    "max_tokens = {}\n",
    "\n",
    "for s in sections:\n",
    "  s_df = valA[valA['section_header'] == s]\n",
    "  avg_chars = s_df['section_text'].str.len().mean()\n",
    "  max_tokens[s] = int(round(avg_chars/4))\n",
    "print(max_tokens)"
   ]
  },
  {
   "cell_type": "code",
   "execution_count": null,
   "metadata": {
    "executionInfo": {
     "elapsed": 150,
     "status": "ok",
     "timestamp": 1693266219298,
     "user": {
      "displayName": "Ahmed Jaafar",
      "userId": "01925140053924734789"
     },
     "user_tz": 240
    },
    "id": "_hYG0hRZYr72"
   },
   "outputs": [],
   "source": [
    "name_to_abb = {\n",
    "    'GENHX': 'HISTORY of PRESENT ILLNESS',\n",
    "    'ROS': 'REVIEW OF SYSTEMS',\n",
    "    'PASTMEDICALHX': 'PAST MEDICAL HISTORY',\n",
    "    'MEDICATIONS': 'Medications',\n",
    "    'CC': 'CHIEF COMPLAINT',\n",
    "    'PASTSURGICAL': 'PAST SURGICAL HISTORY',\n",
    "    'FAM/SOCHX': 'FAMILY HISTORY/SOCIAL HISTORY',\n",
    "    'DISPOSITION': 'Disposition',\n",
    "    'DIAGNOSIS': 'Diagnosis',\n",
    "    'EDCOURSE': 'EMERGENCY DEPARTMENT COURSE',\n",
    "    'PLAN': 'Plan',\n",
    "    'LABS': 'Labs',\n",
    "    'ASSESSMENT': 'Assessment',\n",
    "    'ALLERGY': 'Allergy',\n",
    "    'GYNHX': 'GYNECOLOGIC HISTORY',\n",
    "    'EXAM': 'Exam',\n",
    "    'OTHER_HISTORY': 'Other history',\n",
    "    'PROCEDURES': 'Procedures',\n",
    "    'IMAGING': 'Imaging',\n",
    "    'IMMUNIZATIONS': 'Immunizations'\n",
    "}"
   ]
  },
  {
   "cell_type": "code",
   "execution_count": null,
   "metadata": {
    "executionInfo": {
     "elapsed": 4,
     "status": "ok",
     "timestamp": 1693266220753,
     "user": {
      "displayName": "Ahmed Jaafar",
      "userId": "01925140053924734789"
     },
     "user_tz": 240
    },
    "id": "gYnyGklfhK90"
   },
   "outputs": [],
   "source": [
    "openai.api_key = #insert API key here"
   ]
  },
  {
   "cell_type": "code",
   "execution_count": null,
   "metadata": {
    "executionInfo": {
     "elapsed": 4,
     "status": "ok",
     "timestamp": 1693266221316,
     "user": {
      "displayName": "Ahmed Jaafar",
      "userId": "01925140053924734789"
     },
     "user_tz": 240
    },
    "id": "8cQhs1jrWY0f"
   },
   "outputs": [],
   "source": [
    "def get_pred_inst(prompt, model, max_tokens):\n",
    "  response = openai.Completion.create(\n",
    "            engine= model,\n",
    "            prompt= prompt,\n",
    "            max_tokens=max_tokens,\n",
    "            n=1,\n",
    "            stop=None,\n",
    "            temperature=0.2,\n",
    "            timeout=45\n",
    "        )\n",
    "  return response.choices[0].text.strip()"
   ]
  },
  {
   "cell_type": "code",
   "execution_count": null,
   "metadata": {
    "executionInfo": {
     "elapsed": 3,
     "status": "ok",
     "timestamp": 1693266222020,
     "user": {
      "displayName": "Ahmed Jaafar",
      "userId": "01925140053924734789"
     },
     "user_tz": 240
    },
    "id": "vrORmObc3M0_"
   },
   "outputs": [],
   "source": [
    "def get_pred_chat(prompt, model, max_tokens):\n",
    "  response = openai.ChatCompletion.create(\n",
    "              model=model,\n",
    "              messages=[\n",
    "                  {\"role\": \"system\", \"content\": \"You are a smart doctor as well as a professional medical scribe with a lot of experience.\"},\n",
    "                  {\"role\": \"user\", \"content\": prompt},\n",
    "              ],\n",
    "              temperature=0.2,\n",
    "              max_tokens=max_tokens,\n",
    "              timeout=45,\n",
    "              n=1,\n",
    "              stop=None\n",
    "          )\n",
    "\n",
    "  return response['choices'][0]['message']['content']"
   ]
  },
  {
   "cell_type": "code",
   "execution_count": null,
   "metadata": {
    "executionInfo": {
     "elapsed": 176,
     "status": "ok",
     "timestamp": 1693266225006,
     "user": {
      "displayName": "Ahmed Jaafar",
      "userId": "01925140053924734789"
     },
     "user_tz": 240
    },
    "id": "Yq6xno94irdf"
   },
   "outputs": [],
   "source": [
    "def get_prompt(section, dia):\n",
    "  prompt = \"\"\"Generate a summary for the section \"{section}\" in a SOAP\\\n",
    " note based on the provided doctor-patient dialogue.\\n\\nDialogue:\\n{dia}\\n\\n{section}\\\n",
    " Summary:\"\"\".format(section=section, dia=dia)\n",
    "  return prompt"
   ]
  },
  {
   "cell_type": "code",
   "execution_count": null,
   "metadata": {
    "executionInfo": {
     "elapsed": 3,
     "status": "ok",
     "timestamp": 1693266225777,
     "user": {
      "displayName": "Ahmed Jaafar",
      "userId": "01925140053924734789"
     },
     "user_tz": 240
    },
    "id": "2HnRWoagrJVp"
   },
   "outputs": [],
   "source": [
    "models = [\"text-ada-001\", \"text-babbage-001\", \"text-curie-001\", \"text-davinci-003\", \"gpt-3.5-turbo\", \"gpt-4\"]"
   ]
  },
  {
   "cell_type": "code",
   "execution_count": null,
   "metadata": {
    "executionInfo": {
     "elapsed": 640715,
     "status": "ok",
     "timestamp": 1693266951120,
     "user": {
      "displayName": "Ahmed Jaafar",
      "userId": "01925140053924734789"
     },
     "user_tz": 240
    },
    "id": "5AFuYuhGrHRB"
   },
   "outputs": [],
   "source": [
    "new_columns = valA.apply(\n",
    "    lambda row: pd.Series(\n",
    "        {\n",
    "            mod:\n",
    "            get_pred_chat(get_prompt(name_to_abb[row['section_header']], row[\"dialogue\"]), mod, max_tokens[row[\"section_header\"]]) if mod in [\"gpt-4\", \"gpt-3.5-turbo\"] else\n",
    "            get_pred_inst(get_prompt(name_to_abb[row['section_header']], row[\"dialogue\"]), mod, max_tokens[row[\"section_header\"]])\n",
    "            for mod in models\n",
    "        }\n",
    "    ),\n",
    "    axis=1\n",
    ")\n",
    "\n",
    "# Merge the new columns back into the original DataFrame\n",
    "valA = pd.concat([valA, new_columns], axis=1)"
   ]
  },
  {
   "cell_type": "code",
   "execution_count": null,
   "metadata": {
    "executionInfo": {
     "elapsed": 7,
     "status": "ok",
     "timestamp": 1693266951121,
     "user": {
      "displayName": "Ahmed Jaafar",
      "userId": "01925140053924734789"
     },
     "user_tz": 240
    },
    "id": "cdhKAKgUxg7m"
   },
   "outputs": [],
   "source": [
    "valA.to_csv(\"gpt_generic_prompt.csv\")"
   ]
  }
 ],
 "metadata": {
  "colab": {
   "authorship_tag": "ABX9TyPhJDDa41sRDruEBsvZIYV+",
   "provenance": []
  },
  "kernelspec": {
   "display_name": "Python (4.8.3-jupyterhub-stable) *",
   "language": "python",
   "name": "conda-env-4.8.3-jupyterhub-stable-py"
  },
  "language_info": {
   "name": "python"
  }
 },
 "nbformat": 4,
 "nbformat_minor": 4
}
