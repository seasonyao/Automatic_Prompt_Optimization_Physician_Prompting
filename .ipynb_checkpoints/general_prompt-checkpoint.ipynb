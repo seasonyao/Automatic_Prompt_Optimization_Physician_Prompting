{
 "cells": [
  {
   "cell_type": "code",
   "execution_count": 1,
   "metadata": {
    "executionInfo": {
     "elapsed": 9167,
     "status": "ok",
     "timestamp": 1693264344959,
     "user": {
      "displayName": "Ahmed Jaafar",
      "userId": "01925140053924734789"
     },
     "user_tz": 240
    },
    "id": "IggUfYWogmo-"
   },
   "outputs": [],
   "source": [
    "%%capture\n",
    "!pip install openai"
   ]
  },
  {
   "cell_type": "code",
   "execution_count": 2,
   "metadata": {
    "executionInfo": {
     "elapsed": 2044,
     "status": "ok",
     "timestamp": 1693264346999,
     "user": {
      "displayName": "Ahmed Jaafar",
      "userId": "01925140053924734789"
     },
     "user_tz": 240
    },
    "id": "C7BRyQklgtzN"
   },
   "outputs": [],
   "source": [
    "import pandas as pd\n",
    "import openai"
   ]
  },
  {
   "cell_type": "code",
   "execution_count": 19,
   "metadata": {
    "executionInfo": {
     "elapsed": 172,
     "status": "ok",
     "timestamp": 1693266215827,
     "user": {
      "displayName": "Ahmed Jaafar",
      "userId": "01925140053924734789"
     },
     "user_tz": 240
    },
    "id": "LOxlap56gv_V"
   },
   "outputs": [],
   "source": [
    "valA = pd.read_csv('TaskA-ValidationSet.csv')"
   ]
  },
  {
   "cell_type": "code",
   "execution_count": 20,
   "metadata": {
    "colab": {
     "base_uri": "https://localhost:8080/"
    },
    "executionInfo": {
     "elapsed": 165,
     "status": "ok",
     "timestamp": 1693266217771,
     "user": {
      "displayName": "Ahmed Jaafar",
      "userId": "01925140053924734789"
     },
     "user_tz": 240
    },
    "id": "7KhXmfKchAx1",
    "outputId": "2ee03d23-880a-4ab9-a39f-46020864a131"
   },
   "outputs": [
    {
     "name": "stdout",
     "output_type": "stream",
     "text": [
      "{'GENHX': 154, 'ROS': 60, 'PASTMEDICALHX': 9, 'MEDICATIONS': 11, 'CC': 11, 'PASTSURGICAL': 13, 'FAM/SOCHX': 33, 'DISPOSITION': 4, 'DIAGNOSIS': 26, 'EDCOURSE': 42, 'PLAN': 32, 'LABS': 47, 'ASSESSMENT': 42, 'ALLERGY': 33, 'GYNHX': 27, 'EXAM': 11, 'OTHER_HISTORY': 11, 'PROCEDURES': 16, 'IMAGING': 12, 'IMMUNIZATIONS': 3}\n"
     ]
    }
   ],
   "source": [
    "sections = valA['section_header'].unique().tolist()\n",
    "# sections = [\"LABS\"]\n",
    "max_tokens = {}\n",
    "\n",
    "for s in sections:\n",
    "  s_df = valA[valA['section_header'] == s]\n",
    "  avg_chars = s_df['section_text'].str.len().mean()\n",
    "  max_tokens[s] = int(round(avg_chars/4))\n",
    "print(max_tokens)"
   ]
  },
  {
   "cell_type": "code",
   "execution_count": 21,
   "metadata": {
    "executionInfo": {
     "elapsed": 150,
     "status": "ok",
     "timestamp": 1693266219298,
     "user": {
      "displayName": "Ahmed Jaafar",
      "userId": "01925140053924734789"
     },
     "user_tz": 240
    },
    "id": "_hYG0hRZYr72"
   },
   "outputs": [],
   "source": [
    "name_to_abb = {\n",
    "    'GENHX': 'HISTORY of PRESENT ILLNESS',\n",
    "    'ROS': 'REVIEW OF SYSTEMS',\n",
    "    'PASTMEDICALHX': 'PAST MEDICAL HISTORY',\n",
    "    'MEDICATIONS': 'Medications',\n",
    "    'CC': 'CHIEF COMPLAINT',\n",
    "    'PASTSURGICAL': 'PAST SURGICAL HISTORY',\n",
    "    'FAM/SOCHX': 'FAMILY HISTORY/SOCIAL HISTORY',\n",
    "    'DISPOSITION': 'Disposition',\n",
    "    'DIAGNOSIS': 'Diagnosis',\n",
    "    'EDCOURSE': 'EMERGENCY DEPARTMENT COURSE',\n",
    "    'PLAN': 'Plan',\n",
    "    'LABS': 'Labs',\n",
    "    'ASSESSMENT': 'Assessment',\n",
    "    'ALLERGY': 'Allergy',\n",
    "    'GYNHX': 'GYNECOLOGIC HISTORY',\n",
    "    'EXAM': 'Exam',\n",
    "    'OTHER_HISTORY': 'Other history',\n",
    "    'PROCEDURES': 'Procedures',\n",
    "    'IMAGING': 'Imaging',\n",
    "    'IMMUNIZATIONS': 'Immunizations'\n",
    "}"
   ]
  },
  {
   "cell_type": "code",
   "execution_count": 22,
   "metadata": {
    "executionInfo": {
     "elapsed": 4,
     "status": "ok",
     "timestamp": 1693266220753,
     "user": {
      "displayName": "Ahmed Jaafar",
      "userId": "01925140053924734789"
     },
     "user_tz": 240
    },
    "id": "gYnyGklfhK90"
   },
   "outputs": [],
   "source": [
    "# key = \n",
    "openai.api_key = key"
   ]
  },
  {
   "cell_type": "code",
   "execution_count": 23,
   "metadata": {
    "executionInfo": {
     "elapsed": 4,
     "status": "ok",
     "timestamp": 1693266221316,
     "user": {
      "displayName": "Ahmed Jaafar",
      "userId": "01925140053924734789"
     },
     "user_tz": 240
    },
    "id": "8cQhs1jrWY0f"
   },
   "outputs": [],
   "source": [
    "def get_pred_inst(prompt, model, max_tokens):\n",
    "  response = openai.Completion.create(\n",
    "            engine= model,\n",
    "            prompt= prompt,\n",
    "            max_tokens=max_tokens,\n",
    "            n=1,\n",
    "            stop=None,\n",
    "            temperature=0.2,\n",
    "            timeout=45\n",
    "        )\n",
    "  return response.choices[0].text.strip()"
   ]
  },
  {
   "cell_type": "code",
   "execution_count": 24,
   "metadata": {
    "executionInfo": {
     "elapsed": 3,
     "status": "ok",
     "timestamp": 1693266222020,
     "user": {
      "displayName": "Ahmed Jaafar",
      "userId": "01925140053924734789"
     },
     "user_tz": 240
    },
    "id": "vrORmObc3M0_"
   },
   "outputs": [],
   "source": [
    "def get_pred_chat(prompt, model, max_tokens):\n",
    "  response = openai.ChatCompletion.create(\n",
    "              model=model,\n",
    "              messages=[\n",
    "                  {\"role\": \"system\", \"content\": \"You are a smart doctor as well as a professional medical scribe with a lot of experience.\"},\n",
    "                  {\"role\": \"user\", \"content\": prompt},\n",
    "              ],\n",
    "              temperature=0.2,\n",
    "              max_tokens=max_tokens,\n",
    "              timeout=45,\n",
    "              n=1,\n",
    "              stop=None\n",
    "          )\n",
    "\n",
    "  return response['choices'][0]['message']['content']"
   ]
  },
  {
   "cell_type": "code",
   "execution_count": 25,
   "metadata": {
    "executionInfo": {
     "elapsed": 176,
     "status": "ok",
     "timestamp": 1693266225006,
     "user": {
      "displayName": "Ahmed Jaafar",
      "userId": "01925140053924734789"
     },
     "user_tz": 240
    },
    "id": "Yq6xno94irdf"
   },
   "outputs": [],
   "source": [
    "def get_prompt(section, dia):\n",
    "  prompt = \"\"\"Generate a summary for the section \"{section}\" in a SOAP\\\n",
    " note based on the provided doctor-patient dialogue.\\n\\nDialogue:\\n{dia}\\n\\n{section}\\\n",
    " Summary:\"\"\".format(section=section, dia=dia)\n",
    "  return prompt"
   ]
  },
  {
   "cell_type": "code",
   "execution_count": 26,
   "metadata": {
    "executionInfo": {
     "elapsed": 3,
     "status": "ok",
     "timestamp": 1693266225777,
     "user": {
      "displayName": "Ahmed Jaafar",
      "userId": "01925140053924734789"
     },
     "user_tz": 240
    },
    "id": "2HnRWoagrJVp"
   },
   "outputs": [],
   "source": [
    "models = [\"text-ada-001\", \"text-babbage-001\", \"text-curie-001\", \"text-davinci-003\", \"gpt-3.5-turbo\", \"gpt-4\"]"
   ]
  },
  {
   "cell_type": "code",
   "execution_count": 15,
   "metadata": {
    "executionInfo": {
     "elapsed": 137,
     "status": "ok",
     "timestamp": 1693265841108,
     "user": {
      "displayName": "Ahmed Jaafar",
      "userId": "01925140053924734789"
     },
     "user_tz": 240
    },
    "id": "o2L2S3PTwFZo"
   },
   "outputs": [],
   "source": [
    "# valA_sub = valA.head(3).copy()"
   ]
  },
  {
   "cell_type": "code",
   "execution_count": 27,
   "metadata": {
    "executionInfo": {
     "elapsed": 640715,
     "status": "ok",
     "timestamp": 1693266951120,
     "user": {
      "displayName": "Ahmed Jaafar",
      "userId": "01925140053924734789"
     },
     "user_tz": 240
    },
    "id": "5AFuYuhGrHRB"
   },
   "outputs": [],
   "source": [
    "new_columns = valA.apply(\n",
    "    lambda row: pd.Series(\n",
    "        {\n",
    "            mod:\n",
    "            get_pred_chat(get_prompt(name_to_abb[row['section_header']], row[\"dialogue\"]), mod, max_tokens[row[\"section_header\"]]) if mod in [\"gpt-4\", \"gpt-3.5-turbo\"] else\n",
    "            get_pred_inst(get_prompt(name_to_abb[row['section_header']], row[\"dialogue\"]), mod, max_tokens[row[\"section_header\"]])\n",
    "            for mod in models\n",
    "        }\n",
    "    ),\n",
    "    axis=1\n",
    ")\n",
    "\n",
    "# Merge the new columns back into the original DataFrame\n",
    "valA = pd.concat([valA, new_columns], axis=1)"
   ]
  },
  {
   "cell_type": "code",
   "execution_count": 28,
   "metadata": {
    "colab": {
     "base_uri": "https://localhost:8080/",
     "height": 1000
    },
    "executionInfo": {
     "elapsed": 10,
     "status": "ok",
     "timestamp": 1693266951121,
     "user": {
      "displayName": "Ahmed Jaafar",
      "userId": "01925140053924734789"
     },
     "user_tz": 240
    },
    "id": "D2PC5TtrwJV7",
    "outputId": "52036e8e-6a4b-4bc6-ff4a-9cc63cbafedd"
   },
   "outputs": [
    {
     "data": {
      "text/html": [
       "\n",
       "  <div id=\"df-e82fe168-27c1-4890-9d22-3404f8a5a9ff\" class=\"colab-df-container\">\n",
       "    <div>\n",
       "<style scoped>\n",
       "    .dataframe tbody tr th:only-of-type {\n",
       "        vertical-align: middle;\n",
       "    }\n",
       "\n",
       "    .dataframe tbody tr th {\n",
       "        vertical-align: top;\n",
       "    }\n",
       "\n",
       "    .dataframe thead th {\n",
       "        text-align: right;\n",
       "    }\n",
       "</style>\n",
       "<table border=\"1\" class=\"dataframe\">\n",
       "  <thead>\n",
       "    <tr style=\"text-align: right;\">\n",
       "      <th></th>\n",
       "      <th>ID</th>\n",
       "      <th>section_header</th>\n",
       "      <th>section_text</th>\n",
       "      <th>dialogue</th>\n",
       "      <th>text-ada-001</th>\n",
       "      <th>text-babbage-001</th>\n",
       "      <th>text-curie-001</th>\n",
       "      <th>text-davinci-003</th>\n",
       "      <th>gpt-3.5-turbo</th>\n",
       "      <th>gpt-4</th>\n",
       "    </tr>\n",
       "  </thead>\n",
       "  <tbody>\n",
       "    <tr>\n",
       "      <th>0</th>\n",
       "      <td>0</td>\n",
       "      <td>GENHX</td>\n",
       "      <td>The patient is a 26-year-old female, referred ...</td>\n",
       "      <td>Doctor: When did your pain begin? \\nPatient: I...</td>\n",
       "      <td>The patient has been having low back pain for ...</td>\n",
       "      <td>The patient has had low back pain for about 8 ...</td>\n",
       "      <td>The patient has had low back pain for about ei...</td>\n",
       "      <td>The patient is a 26-year-old female who has ha...</td>\n",
       "      <td>The patient has been experiencing low back pai...</td>\n",
       "      <td>The patient is a 26-year-old who has been expe...</td>\n",
       "    </tr>\n",
       "    <tr>\n",
       "      <th>1</th>\n",
       "      <td>1</td>\n",
       "      <td>ROS</td>\n",
       "      <td>As mentioned denies any oropharyngeal swelling...</td>\n",
       "      <td>Doctor: Hey, bud. What brings you in today? \\n...</td>\n",
       "      <td>The patient has a rash on their arms and torso...</td>\n",
       "      <td>The patient has a rash on their upper arms and...</td>\n",
       "      <td>The patient has a rash on his upper arms and t...</td>\n",
       "      <td>Patient presents with a rash on the upper arms...</td>\n",
       "      <td>The patient presents with a rash on the upper ...</td>\n",
       "      <td>The patient presents with a rash on the upper ...</td>\n",
       "    </tr>\n",
       "    <tr>\n",
       "      <th>2</th>\n",
       "      <td>2</td>\n",
       "      <td>PASTMEDICALHX</td>\n",
       "      <td>Essentially unchanged from her visit of 04/15/...</td>\n",
       "      <td>Doctor: Has anything changed in your medical h...</td>\n",
       "      <td>The patient is asking the doctor about</td>\n",
       "      <td>The patient has not been diagnosed with any</td>\n",
       "      <td>The patient reports that they have not</td>\n",
       "      <td>Patient reported no changes in their medical h...</td>\n",
       "      <td>The patient denies any changes in their medica...</td>\n",
       "      <td>The patient's past medical history remains unc...</td>\n",
       "    </tr>\n",
       "    <tr>\n",
       "      <th>3</th>\n",
       "      <td>3</td>\n",
       "      <td>MEDICATIONS</td>\n",
       "      <td>Accutane.</td>\n",
       "      <td>Doctor: How've you been treating your acne? \\n...</td>\n",
       "      <td>The patient tells the doctor that they are on</td>\n",
       "      <td>The patient has been taking Accutane for</td>\n",
       "      <td>The patient has been treating their acne with Acc</td>\n",
       "      <td>The patient has been taking Accutane for three...</td>\n",
       "      <td>The patient has been treating their acne with ...</td>\n",
       "      <td>The patient has been on Accutane for the treat...</td>\n",
       "    </tr>\n",
       "    <tr>\n",
       "      <th>4</th>\n",
       "      <td>4</td>\n",
       "      <td>CC</td>\n",
       "      <td>Confusion and hallucinations.</td>\n",
       "      <td>Doctor: Have you been experiencing any mental ...</td>\n",
       "      <td>The patient is protesting the doctor's treatment,</td>\n",
       "      <td>The patient is experiencing mental difficultie...</td>\n",
       "      <td>The patient denies experiencing any mental dif...</td>\n",
       "      <td>The patient reported no mental difficulties, c...</td>\n",
       "      <td>The patient denies experiencing any mental dif...</td>\n",
       "      <td>The patient denies experiencing any mental dif...</td>\n",
       "    </tr>\n",
       "    <tr>\n",
       "      <th>...</th>\n",
       "      <td>...</td>\n",
       "      <td>...</td>\n",
       "      <td>...</td>\n",
       "      <td>...</td>\n",
       "      <td>...</td>\n",
       "      <td>...</td>\n",
       "      <td>...</td>\n",
       "      <td>...</td>\n",
       "      <td>...</td>\n",
       "      <td>...</td>\n",
       "    </tr>\n",
       "    <tr>\n",
       "      <th>95</th>\n",
       "      <td>95</td>\n",
       "      <td>PROCEDURES</td>\n",
       "      <td>Permanent pacemaker placement after temporary ...</td>\n",
       "      <td>Doctor: How are you feeling?  \\nPatient: I am ...</td>\n",
       "      <td>The patient is described as being \"well.\" The ...</td>\n",
       "      <td>-The doctor removes the temporary internal pac...</td>\n",
       "      <td>The patient has undergone a procedure to repla...</td>\n",
       "      <td>The doctor discussed the patient's current con...</td>\n",
       "      <td>The patient has undergone a procedure to place...</td>\n",
       "      <td>The patient underwent two procedures: the plac...</td>\n",
       "    </tr>\n",
       "    <tr>\n",
       "      <th>96</th>\n",
       "      <td>96</td>\n",
       "      <td>ROS</td>\n",
       "      <td>The patient prior to today has been very well ...</td>\n",
       "      <td>Doctor: How has our little man being doing?\\nG...</td>\n",
       "      <td>The patient has been having problems with her ...</td>\n",
       "      <td>The guest family reports that their son has be...</td>\n",
       "      <td>The patient is exhibiting symptoms of a stomac...</td>\n",
       "      <td>The patient has been doing well until yesterda...</td>\n",
       "      <td>The patient has been experiencing nausea and v...</td>\n",
       "      <td>The patient has been experiencing nausea and v...</td>\n",
       "    </tr>\n",
       "    <tr>\n",
       "      <th>97</th>\n",
       "      <td>97</td>\n",
       "      <td>IMAGING</td>\n",
       "      <td>EKG shows sinus tachycardia, no acute ST changes.</td>\n",
       "      <td>Doctor: Well, I have your E K G report, shows ...</td>\n",
       "      <td>The patient's doctor would be understanding an...</td>\n",
       "      <td>The patient has sinus tachycardia and</td>\n",
       "      <td>The patient has sinus tachycardia,</td>\n",
       "      <td>The patient's EKG report showed sinus tachy</td>\n",
       "      <td>No imaging was mentioned or discussed in the d...</td>\n",
       "      <td>The patient's EKG report indicates sinus tachy...</td>\n",
       "    </tr>\n",
       "    <tr>\n",
       "      <th>98</th>\n",
       "      <td>98</td>\n",
       "      <td>IMMUNIZATIONS</td>\n",
       "      <td>Up-to-date.</td>\n",
       "      <td>Doctor: Good news! No need for any shots today...</td>\n",
       "      <td>The</td>\n",
       "      <td>The</td>\n",
       "      <td>The patient</td>\n",
       "      <td>Patient is up</td>\n",
       "      <td>The patient is</td>\n",
       "      <td>The patient is</td>\n",
       "    </tr>\n",
       "    <tr>\n",
       "      <th>99</th>\n",
       "      <td>99</td>\n",
       "      <td>ASSESSMENT</td>\n",
       "      <td>Chronic atrial fibrillation, the patient has b...</td>\n",
       "      <td>Doctor: I'm glad to hear that your Afib is und...</td>\n",
       "      <td>The patient says \"Okay. I'll take baby aspirin...</td>\n",
       "      <td>The patient is taking baby aspirin and Nexium....</td>\n",
       "      <td>The patient is glad to hear that their Afib is...</td>\n",
       "      <td>The patient's atrial fibrillation is under con...</td>\n",
       "      <td>The patient's Afib is currently under control....</td>\n",
       "      <td>The patient's atrial fibrillation (Afib) is cu...</td>\n",
       "    </tr>\n",
       "  </tbody>\n",
       "</table>\n",
       "<p>100 rows × 10 columns</p>\n",
       "</div>\n",
       "    <div class=\"colab-df-buttons\">\n",
       "\n",
       "  <div class=\"colab-df-container\">\n",
       "    <button class=\"colab-df-convert\" onclick=\"convertToInteractive('df-e82fe168-27c1-4890-9d22-3404f8a5a9ff')\"\n",
       "            title=\"Convert this dataframe to an interactive table.\"\n",
       "            style=\"display:none;\">\n",
       "\n",
       "  <svg xmlns=\"http://www.w3.org/2000/svg\" height=\"24px\" viewBox=\"0 -960 960 960\">\n",
       "    <path d=\"M120-120v-720h720v720H120Zm60-500h600v-160H180v160Zm220 220h160v-160H400v160Zm0 220h160v-160H400v160ZM180-400h160v-160H180v160Zm440 0h160v-160H620v160ZM180-180h160v-160H180v160Zm440 0h160v-160H620v160Z\"/>\n",
       "  </svg>\n",
       "    </button>\n",
       "\n",
       "  <style>\n",
       "    .colab-df-container {\n",
       "      display:flex;\n",
       "      gap: 12px;\n",
       "    }\n",
       "\n",
       "    .colab-df-convert {\n",
       "      background-color: #E8F0FE;\n",
       "      border: none;\n",
       "      border-radius: 50%;\n",
       "      cursor: pointer;\n",
       "      display: none;\n",
       "      fill: #1967D2;\n",
       "      height: 32px;\n",
       "      padding: 0 0 0 0;\n",
       "      width: 32px;\n",
       "    }\n",
       "\n",
       "    .colab-df-convert:hover {\n",
       "      background-color: #E2EBFA;\n",
       "      box-shadow: 0px 1px 2px rgba(60, 64, 67, 0.3), 0px 1px 3px 1px rgba(60, 64, 67, 0.15);\n",
       "      fill: #174EA6;\n",
       "    }\n",
       "\n",
       "    .colab-df-buttons div {\n",
       "      margin-bottom: 4px;\n",
       "    }\n",
       "\n",
       "    [theme=dark] .colab-df-convert {\n",
       "      background-color: #3B4455;\n",
       "      fill: #D2E3FC;\n",
       "    }\n",
       "\n",
       "    [theme=dark] .colab-df-convert:hover {\n",
       "      background-color: #434B5C;\n",
       "      box-shadow: 0px 1px 3px 1px rgba(0, 0, 0, 0.15);\n",
       "      filter: drop-shadow(0px 1px 2px rgba(0, 0, 0, 0.3));\n",
       "      fill: #FFFFFF;\n",
       "    }\n",
       "  </style>\n",
       "\n",
       "    <script>\n",
       "      const buttonEl =\n",
       "        document.querySelector('#df-e82fe168-27c1-4890-9d22-3404f8a5a9ff button.colab-df-convert');\n",
       "      buttonEl.style.display =\n",
       "        google.colab.kernel.accessAllowed ? 'block' : 'none';\n",
       "\n",
       "      async function convertToInteractive(key) {\n",
       "        const element = document.querySelector('#df-e82fe168-27c1-4890-9d22-3404f8a5a9ff');\n",
       "        const dataTable =\n",
       "          await google.colab.kernel.invokeFunction('convertToInteractive',\n",
       "                                                    [key], {});\n",
       "        if (!dataTable) return;\n",
       "\n",
       "        const docLinkHtml = 'Like what you see? Visit the ' +\n",
       "          '<a target=\"_blank\" href=https://colab.research.google.com/notebooks/data_table.ipynb>data table notebook</a>'\n",
       "          + ' to learn more about interactive tables.';\n",
       "        element.innerHTML = '';\n",
       "        dataTable['output_type'] = 'display_data';\n",
       "        await google.colab.output.renderOutput(dataTable, element);\n",
       "        const docLink = document.createElement('div');\n",
       "        docLink.innerHTML = docLinkHtml;\n",
       "        element.appendChild(docLink);\n",
       "      }\n",
       "    </script>\n",
       "  </div>\n",
       "\n",
       "\n",
       "<div id=\"df-9de01b97-c652-4d77-b01e-8eb196d9ad99\">\n",
       "  <button class=\"colab-df-quickchart\" onclick=\"quickchart('df-9de01b97-c652-4d77-b01e-8eb196d9ad99')\"\n",
       "            title=\"Suggest charts.\"\n",
       "            style=\"display:none;\">\n",
       "\n",
       "<svg xmlns=\"http://www.w3.org/2000/svg\" height=\"24px\"viewBox=\"0 0 24 24\"\n",
       "     width=\"24px\">\n",
       "    <g>\n",
       "        <path d=\"M19 3H5c-1.1 0-2 .9-2 2v14c0 1.1.9 2 2 2h14c1.1 0 2-.9 2-2V5c0-1.1-.9-2-2-2zM9 17H7v-7h2v7zm4 0h-2V7h2v10zm4 0h-2v-4h2v4z\"/>\n",
       "    </g>\n",
       "</svg>\n",
       "  </button>\n",
       "\n",
       "<style>\n",
       "  .colab-df-quickchart {\n",
       "    background-color: #E8F0FE;\n",
       "    border: none;\n",
       "    border-radius: 50%;\n",
       "    cursor: pointer;\n",
       "    display: none;\n",
       "    fill: #1967D2;\n",
       "    height: 32px;\n",
       "    padding: 0 0 0 0;\n",
       "    width: 32px;\n",
       "  }\n",
       "\n",
       "  .colab-df-quickchart:hover {\n",
       "    background-color: #E2EBFA;\n",
       "    box-shadow: 0px 1px 2px rgba(60, 64, 67, 0.3), 0px 1px 3px 1px rgba(60, 64, 67, 0.15);\n",
       "    fill: #174EA6;\n",
       "  }\n",
       "\n",
       "  [theme=dark] .colab-df-quickchart {\n",
       "    background-color: #3B4455;\n",
       "    fill: #D2E3FC;\n",
       "  }\n",
       "\n",
       "  [theme=dark] .colab-df-quickchart:hover {\n",
       "    background-color: #434B5C;\n",
       "    box-shadow: 0px 1px 3px 1px rgba(0, 0, 0, 0.15);\n",
       "    filter: drop-shadow(0px 1px 2px rgba(0, 0, 0, 0.3));\n",
       "    fill: #FFFFFF;\n",
       "  }\n",
       "</style>\n",
       "\n",
       "  <script>\n",
       "    async function quickchart(key) {\n",
       "      const charts = await google.colab.kernel.invokeFunction(\n",
       "          'suggestCharts', [key], {});\n",
       "    }\n",
       "    (() => {\n",
       "      let quickchartButtonEl =\n",
       "        document.querySelector('#df-9de01b97-c652-4d77-b01e-8eb196d9ad99 button');\n",
       "      quickchartButtonEl.style.display =\n",
       "        google.colab.kernel.accessAllowed ? 'block' : 'none';\n",
       "    })();\n",
       "  </script>\n",
       "</div>\n",
       "    </div>\n",
       "  </div>\n"
      ],
      "text/plain": [
       "    ID section_header                                       section_text  \\\n",
       "0    0          GENHX  The patient is a 26-year-old female, referred ...   \n",
       "1    1            ROS  As mentioned denies any oropharyngeal swelling...   \n",
       "2    2  PASTMEDICALHX  Essentially unchanged from her visit of 04/15/...   \n",
       "3    3    MEDICATIONS                                          Accutane.   \n",
       "4    4             CC                      Confusion and hallucinations.   \n",
       "..  ..            ...                                                ...   \n",
       "95  95     PROCEDURES  Permanent pacemaker placement after temporary ...   \n",
       "96  96            ROS  The patient prior to today has been very well ...   \n",
       "97  97        IMAGING  EKG shows sinus tachycardia, no acute ST changes.   \n",
       "98  98  IMMUNIZATIONS                                        Up-to-date.   \n",
       "99  99     ASSESSMENT  Chronic atrial fibrillation, the patient has b...   \n",
       "\n",
       "                                             dialogue  \\\n",
       "0   Doctor: When did your pain begin? \\nPatient: I...   \n",
       "1   Doctor: Hey, bud. What brings you in today? \\n...   \n",
       "2   Doctor: Has anything changed in your medical h...   \n",
       "3   Doctor: How've you been treating your acne? \\n...   \n",
       "4   Doctor: Have you been experiencing any mental ...   \n",
       "..                                                ...   \n",
       "95  Doctor: How are you feeling?  \\nPatient: I am ...   \n",
       "96  Doctor: How has our little man being doing?\\nG...   \n",
       "97  Doctor: Well, I have your E K G report, shows ...   \n",
       "98  Doctor: Good news! No need for any shots today...   \n",
       "99  Doctor: I'm glad to hear that your Afib is und...   \n",
       "\n",
       "                                         text-ada-001  \\\n",
       "0   The patient has been having low back pain for ...   \n",
       "1   The patient has a rash on their arms and torso...   \n",
       "2              The patient is asking the doctor about   \n",
       "3       The patient tells the doctor that they are on   \n",
       "4   The patient is protesting the doctor's treatment,   \n",
       "..                                                ...   \n",
       "95  The patient is described as being \"well.\" The ...   \n",
       "96  The patient has been having problems with her ...   \n",
       "97  The patient's doctor would be understanding an...   \n",
       "98                                                The   \n",
       "99  The patient says \"Okay. I'll take baby aspirin...   \n",
       "\n",
       "                                     text-babbage-001  \\\n",
       "0   The patient has had low back pain for about 8 ...   \n",
       "1   The patient has a rash on their upper arms and...   \n",
       "2         The patient has not been diagnosed with any   \n",
       "3            The patient has been taking Accutane for   \n",
       "4   The patient is experiencing mental difficultie...   \n",
       "..                                                ...   \n",
       "95  -The doctor removes the temporary internal pac...   \n",
       "96  The guest family reports that their son has be...   \n",
       "97              The patient has sinus tachycardia and   \n",
       "98                                                The   \n",
       "99  The patient is taking baby aspirin and Nexium....   \n",
       "\n",
       "                                       text-curie-001  \\\n",
       "0   The patient has had low back pain for about ei...   \n",
       "1   The patient has a rash on his upper arms and t...   \n",
       "2              The patient reports that they have not   \n",
       "3   The patient has been treating their acne with Acc   \n",
       "4   The patient denies experiencing any mental dif...   \n",
       "..                                                ...   \n",
       "95  The patient has undergone a procedure to repla...   \n",
       "96  The patient is exhibiting symptoms of a stomac...   \n",
       "97                 The patient has sinus tachycardia,   \n",
       "98                                        The patient   \n",
       "99  The patient is glad to hear that their Afib is...   \n",
       "\n",
       "                                     text-davinci-003  \\\n",
       "0   The patient is a 26-year-old female who has ha...   \n",
       "1   Patient presents with a rash on the upper arms...   \n",
       "2   Patient reported no changes in their medical h...   \n",
       "3   The patient has been taking Accutane for three...   \n",
       "4   The patient reported no mental difficulties, c...   \n",
       "..                                                ...   \n",
       "95  The doctor discussed the patient's current con...   \n",
       "96  The patient has been doing well until yesterda...   \n",
       "97        The patient's EKG report showed sinus tachy   \n",
       "98                                      Patient is up   \n",
       "99  The patient's atrial fibrillation is under con...   \n",
       "\n",
       "                                        gpt-3.5-turbo  \\\n",
       "0   The patient has been experiencing low back pai...   \n",
       "1   The patient presents with a rash on the upper ...   \n",
       "2   The patient denies any changes in their medica...   \n",
       "3   The patient has been treating their acne with ...   \n",
       "4   The patient denies experiencing any mental dif...   \n",
       "..                                                ...   \n",
       "95  The patient has undergone a procedure to place...   \n",
       "96  The patient has been experiencing nausea and v...   \n",
       "97  No imaging was mentioned or discussed in the d...   \n",
       "98                                     The patient is   \n",
       "99  The patient's Afib is currently under control....   \n",
       "\n",
       "                                                gpt-4  \n",
       "0   The patient is a 26-year-old who has been expe...  \n",
       "1   The patient presents with a rash on the upper ...  \n",
       "2   The patient's past medical history remains unc...  \n",
       "3   The patient has been on Accutane for the treat...  \n",
       "4   The patient denies experiencing any mental dif...  \n",
       "..                                                ...  \n",
       "95  The patient underwent two procedures: the plac...  \n",
       "96  The patient has been experiencing nausea and v...  \n",
       "97  The patient's EKG report indicates sinus tachy...  \n",
       "98                                     The patient is  \n",
       "99  The patient's atrial fibrillation (Afib) is cu...  \n",
       "\n",
       "[100 rows x 10 columns]"
      ]
     },
     "execution_count": 28,
     "metadata": {},
     "output_type": "execute_result"
    }
   ],
   "source": [
    "valA"
   ]
  },
  {
   "cell_type": "code",
   "execution_count": 29,
   "metadata": {
    "executionInfo": {
     "elapsed": 7,
     "status": "ok",
     "timestamp": 1693266951121,
     "user": {
      "displayName": "Ahmed Jaafar",
      "userId": "01925140053924734789"
     },
     "user_tz": 240
    },
    "id": "cdhKAKgUxg7m"
   },
   "outputs": [],
   "source": [
    "valA.to_csv(\"gpt_generic_prompt.csv\")"
   ]
  }
 ],
 "metadata": {
  "colab": {
   "authorship_tag": "ABX9TyPhJDDa41sRDruEBsvZIYV+",
   "provenance": []
  },
  "kernelspec": {
   "display_name": "Python (4.8.3-jupyterhub-stable) *",
   "language": "python",
   "name": "conda-env-4.8.3-jupyterhub-stable-py"
  },
  "language_info": {
   "name": "python"
  }
 },
 "nbformat": 4,
 "nbformat_minor": 4
}
