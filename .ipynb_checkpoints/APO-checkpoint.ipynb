{
 "cells": [
  {
   "cell_type": "code",
   "execution_count": null,
   "id": "j7-XxAqmI2NT",
   "metadata": {
    "id": "j7-XxAqmI2NT"
   },
   "outputs": [],
   "source": [
    "!pip install openai"
   ]
  },
  {
   "cell_type": "code",
   "execution_count": null,
   "id": "477749b6-e58c-44e2-97ab-8f496f40207a",
   "metadata": {
    "id": "477749b6-e58c-44e2-97ab-8f496f40207a"
   },
   "outputs": [],
   "source": [
    "import os\n",
    "# OPENAI_API_KEY = \n",
    "# os.environ[\"OPENAI_API_KEY\"] = OPENAI_API_KEY\n",
    "# import openai\n",
    "# openai.organization = \n",
    "\n",
    "import pandas as pd\n",
    "import json\n",
    "import math\n",
    "import numpy as np\n",
    "\n",
    "from sklearn.model_selection import train_test_split\n",
    "import matplotlib.pyplot as plt\n",
    "# from metrics import Rouge, AutomaticNgramEval, AutomaticFactEval\n",
    "\n",
    "# from tqdm import tqdm\n",
    "from tqdm.notebook import tqdm\n",
    "import time"
   ]
  },
  {
   "cell_type": "code",
   "execution_count": null,
   "id": "M6h-G4fAIg9B",
   "metadata": {
    "id": "M6h-G4fAIg9B"
   },
   "outputs": [],
   "source": [
    "samples_df = pd.read_csv(\"section_samples.csv\")"
   ]
  },
  {
   "cell_type": "code",
   "execution_count": null,
   "id": "c3051615-a791-4be1-8081-65e344ed72d4",
   "metadata": {
    "id": "c3051615-a791-4be1-8081-65e344ed72d4"
   },
   "outputs": [],
   "source": [
    "train_df = pd.read_csv('presidio/train.csv')\n",
    "eval_df = pd.read_csv('presidio/dev.csv')\n",
    "test_df = pd.read_csv('presidio/test.csv')\n",
    "\n",
    "train_df.rename(columns={'text': 'Conv_snippet'}, inplace=True)\n",
    "eval_df.rename(columns={'text': 'Conv_snippet'}, inplace=True)\n",
    "test_df.rename(columns={'text': 'Conv_snippet'}, inplace=True)"
   ]
  },
  {
   "cell_type": "code",
   "execution_count": null,
   "id": "44752f78-6731-446c-a261-494b224fbe72",
   "metadata": {
    "id": "44752f78-6731-446c-a261-494b224fbe72"
   },
   "outputs": [],
   "source": [
    "target_section = 'Assessment_and_Plan:Prescriptions_and_Therapeutics'\n",
    "# 'Objective:Laboratory_and_Imaging_Results',\n",
    "# 'Subjective:Review_of_Systems', 'Subjective:Miscellaneous',\n",
    "# 'Assessment_and_Plan:Assessment', 'Subjective:Chief_Complaint',\n",
    "# 'Subjective:Medications', 'Subjective:Past_Medical_History',\n",
    "# 'Assessment_and_Plan:Diagnostics_and_Appointments',\n",
    "# 'Other:Healthcare_Complaints',\n",
    "# 'Assessment_and_Plan:Prescriptions_and_Therapeutics',\n",
    "# 'Subjective:Past_Surgical_History', 'Objective:Immunizations',\n",
    "# 'Subjective:Family_Medical_History', 'Subjective:Social_History',\n",
    "# 'Subjective:Allergies'\n",
    "\n",
    "train_df = train_df[train_df['section']==target_section]\n",
    "train_df = train_df.iloc[:50]\n",
    "eval_df = eval_df[eval_df['section']==target_section]\n",
    "eval_df = eval_df.iloc[:50]\n",
    "test_df = test_df[test_df['section']==target_section]"
   ]
  },
  {
   "cell_type": "code",
   "execution_count": null,
   "id": "1176fdc1-b61d-4ed9-8fae-9b0e2ac806c1",
   "metadata": {
    "id": "1176fdc1-b61d-4ed9-8fae-9b0e2ac806c1",
    "outputId": "06c06508-6301-48d0-fefe-863c27f73198"
   },
   "outputs": [
    {
     "name": "stdout",
     "output_type": "stream",
     "text": [
      "Train set size: 50\n",
      "Evaluation set size: 50\n",
      "Test set size: 787\n"
     ]
    }
   ],
   "source": [
    "# print(f\"Train set size: {len(train_df)}\")\n",
    "# print(f\"Evaluation set size: {len(eval_df)}\")\n",
    "# print(f\"Test set size: {len(test_df)}\")"
   ]
  },
  {
   "cell_type": "code",
   "execution_count": null,
   "id": "8d9bd3e1-99e0-4a36-9bab-151d9abb9601",
   "metadata": {
    "id": "8d9bd3e1-99e0-4a36-9bab-151d9abb9601"
   },
   "outputs": [],
   "source": [
    "logging = {}"
   ]
  },
  {
   "cell_type": "code",
   "execution_count": null,
   "id": "fc2a6ab4-eb12-4d0c-9df4-c9d81ac280c2",
   "metadata": {
    "id": "fc2a6ab4-eb12-4d0c-9df4-c9d81ac280c2"
   },
   "outputs": [],
   "source": [
    "def dataloader(train_df, bsz,\n",
    "               target_trainable_instruction, rating_raw_instruction,\n",
    "               target_trainable_few_shot_examples, do_few_shot,\n",
    "               ngram_eval, factev,\n",
    "               sample_mode='random'):\n",
    "    if sample_mode == 'random':\n",
    "        sampled_data = train_df.sample(n=bsz)\n",
    "\n",
    "    if sample_mode == 'hard_negative':\n",
    "        print(\"----------------------------------------------------------------------------------------------------------------\")\n",
    "        print(\"eval results on all TRAIN DATA because of hard_negative sampling\")\n",
    "        print(\"----------------------------------------------------------------------------------------------------------------\")\n",
    "\n",
    "        eval_dict = eval_loop(train_df, target_trainable_instruction, rating_raw_instruction,\n",
    "                              target_trainable_few_shot_examples, do_few_shot,\n",
    "                              ngram_eval, factev, eval_training_step=True)\n",
    "\n",
    "        # Find indices with different values\n",
    "        different_indices = [i for i in range(len(eval_dict['labels'])) if eval_dict['labels'][i] != eval_dict['preds'][i]]\n",
    "        print('hard_negative target datapoints:', different_indices)\n",
    "\n",
    "        sampled_data = train_df.sample(n=bsz, weights=weights)\n",
    "\n",
    "    return sampled_data"
   ]
  },
  {
   "cell_type": "code",
   "execution_count": null,
   "id": "82fc2039-1520-4399-a9c0-98373d95a089",
   "metadata": {
    "id": "82fc2039-1520-4399-a9c0-98373d95a089"
   },
   "outputs": [],
   "source": [
    "summarize_raw_instruction = \"\"\"[target_trainable_instruction]\n",
    "[target_trainable_few_shot_examples]\n",
    "\n",
    "SOAP note section:\n",
    "[section]\n",
    "Conversation snippet:\n",
    "[Conv_snippet]\n",
    "\n",
    "Output your summary.\n",
    "Return the output as a dictionary object, adhering to the following structure:\n",
    "{\"summary\": ...}\n",
    "Please provide your response solely in the dictionary format without including any additional text.\n",
    "\"\"\""
   ]
  },
  {
   "cell_type": "code",
   "execution_count": null,
   "id": "fd4d8367-fed6-41be-bcc8-17bfa936d051",
   "metadata": {
    "id": "fd4d8367-fed6-41be-bcc8-17bfa936d051"
   },
   "outputs": [],
   "source": [
    "# input will be p0, x --> y^\n",
    "def do_summarize(target_trainable_instruction, rating_raw_instruction, section, Conv_snippet,\n",
    "              target_trainable_few_shot_examples='', do_few_shot=False):\n",
    "    instruction = rating_raw_instruction.replace('[target_trainable_instruction]', target_trainable_instruction) #p0\n",
    "    if do_few_shot:\n",
    "        instruction = instruction.replace('[target_trainable_few_shot_examples]', target_trainable_few_shot_examples)\n",
    "    else:\n",
    "        instruction = instruction.replace('[target_trainable_few_shot_examples]', '')\n",
    "    instruction = instruction.replace('[section]', section) #x\n",
    "    instruction = instruction.replace('[Conv_snippet]', Conv_snippet) #x\n",
    "    response = openai.ChatCompletion.create(\n",
    "        model=\"gpt-3.5-turbo-16k\",#gpt-3.5-turbo-16k\n",
    "        messages=[\n",
    "            {\"role\": \"system\", \"content\": instruction}\n",
    "        ],\n",
    "        temperature=0\n",
    "    )\n",
    "\n",
    "    summary = json.loads(response[\"choices\"][0][\"message\"][\"content\"], strict=False)['summary'] #y^\n",
    "    return summary"
   ]
  },
  {
   "cell_type": "code",
   "execution_count": null,
   "id": "400273a2-95e6-45a5-8622-367908e42b76",
   "metadata": {
    "id": "400273a2-95e6-45a5-8622-367908e42b76"
   },
   "outputs": [],
   "source": [
    "def eval_log(logging, epoch, eval_dict):\n",
    "    print('epoch:', epoch)\n",
    "\n",
    "    # Check if the epoch exists in the logging dictionary\n",
    "    if 'epoch'+str(epoch) not in logging:\n",
    "        logging['epoch'+str(epoch)]= {}  # Create a new dictionary for the epoch\n",
    "\n",
    "    for k, v in eval_dict.items():\n",
    "        logging['epoch'+str(epoch)][k] = v\n",
    "        if k != 'labels' and k != 'preds':\n",
    "            print('\\t', k, v)\n",
    "\n",
    "def eval_one_step(eval_data, target_trainable_instruction, summarize_raw_instruction, target_trainable_few_shot_examples='', do_few_shot=False):\n",
    "    section = eval_data['section']\n",
    "    Conv_snippet = eval_data['Conv_snippet']\n",
    "\n",
    "    # get the model's rating on training data before training\n",
    "    curr_summary = do_summarize(target_trainable_instruction,\n",
    "                                summarize_raw_instruction,\n",
    "                                section, Conv_snippet,\n",
    "                                target_trainable_few_shot_examples, do_few_shot)\n",
    "\n",
    "    return curr_summary\n",
    "\n",
    "def eval_loop(eval_df, target_trainable_instruction, summarize_raw_instruction, target_trainable_few_shot_examples, do_few_shot, ngram_eval, factev, eval_training_step=False):\n",
    "    summary_gpt = []\n",
    "    summary_doctor = []\n",
    "    for eval_step in tqdm(range(eval_df.shape[0]), desc=\"Evaluation\"):\n",
    "        eval_data = eval_df.iloc[eval_step]\n",
    "        try:\n",
    "            curr_summary = eval_one_step(eval_data, target_trainable_instruction, summarize_raw_instruction, target_trainable_few_shot_examples, do_few_shot)\n",
    "            summary_gpt.append(curr_summary)\n",
    "            summary_doctor.append(eval_df.iloc[eval_step]['summary'])\n",
    "        except:\n",
    "            continue\n",
    "\n",
    "    # eval generated critique\n",
    "    eval_dict = ngram_eval.run_all_evaluation(summary_doctor, summary_gpt)\n",
    "    UMLS_dict = factev.run_source_concept_faithfulness(ref_sums = summary_doctor, gen_sums = summary_gpt)\n",
    "    del UMLS_dict['pred_concepts_term']\n",
    "    del UMLS_dict['pred_concepts_cuis']\n",
    "    eval_dict.update(UMLS_dict)\n",
    "\n",
    "    eval_dict = {'summary_'+k: round(v, 4) for k, v in eval_dict.items()}\n",
    "\n",
    "    eval_dict['labels'] = summary_doctor\n",
    "    eval_dict['preds'] = summary_gpt\n",
    "\n",
    "    return eval_dict"
   ]
  },
  {
   "cell_type": "code",
   "execution_count": null,
   "id": "451697be-515c-4ae7-9126-902564b22ebb",
   "metadata": {
    "id": "451697be-515c-4ae7-9126-902564b22ebb"
   },
   "outputs": [],
   "source": [
    "#p0\n",
    "target_trainable_instruction = \"\"\"In this task, we ask for your expertise in writing SOAP notes from the doctor-patient conversation.\n",
    "Mainly we provide the target section in the SOAP note and the conversation snippet.\n",
    "We need you to generate a summary for the respective snippet.\n",
    "\n",
    "\"\"\"\n",
    "\n",
    "#gradient\n",
    "training_prompt_forward = \"\"\"In this task, you need to provide suggestions to modify the instruction in our SOAP notes writing system, which uses a model to generate SOAP notes from the doctor-patient conversation according to manually created instructions.\n",
    "Specifically, we feed the AI a conversation snippet and the target section in the SOAP note and ask it to generate the corresponding summary.\n",
    "But we found that the instruction in the current system is not perfect, so we need you to modify the instruction for this model to improve our system.\n",
    "\n",
    "The instruction now in our rating system:\n",
    "[target_trainable_instruction]\n",
    "SOAP note section for summary:\n",
    "[section]\n",
    "Conversation snippet for the model:\n",
    "[Conv_snippet]\n",
    "Current AI summary:\n",
    "[AI_summary]\n",
    "Reference summary:\n",
    "[label_summary]\n",
    "\n",
    "Here are some of the requirements you need to be aware of when suggesting the instruction modification in our system:\n",
    "1) For better generalization, what you suggest should be abstracted as high-level criteria as much as possible instead of only describing the details\n",
    "2) We will improve the instructions based on your suggestions. If I re-provide the system with the conversation snippet and the target section in the SOAP note, it needs to be able to generate the reference summary using your new suggested instructions.\n",
    "3) The instruction now in our system is for the zero-shot setting, don't try to add any examples to the instruction.\n",
    "4) We are currently only focusing on this target section, so you don't need to consider the situation of other sections in the SOAP note, just optimize the instructions completely for this section.\n",
    "\n",
    "Let's think step by step. First, output your reasons for why the current instruction in the system cannot generate the correct reference summary, then output your suggestions to modify the instruction for our system.\n",
    "Return the output as a dictionary object, adhering to the following structure:\n",
    "{\"reasons\": ..., \"suggestions\": ...}\n",
    "Ensure the 'suggestions' only includes text but not a list. Please provide your response solely in the dictionary format without including any additional text.\n",
    "\"\"\"\n",
    "\n",
    "#gradient\n",
    "training_prompt_backward_prefix = \"\"\"In this task, you need to provide suggestions to modify the instruction in our SOAP notes writing system, which uses a model to generate SOAP notes from the doctor-patient conversation according to manually created instructions.\n",
    "Specifically, we feed the AI a conversation snippet and the target section in the SOAP note and ask it to generate the corresponding summary.\n",
    "But we found that the instruction in the current system is not perfect, so we need you to modify the instruction for this model to improve our system.\n",
    "\n",
    "The instruction now in our system:\n",
    "[target_trainable_instruction]\n",
    "\"\"\"\n",
    "\n",
    "#gradient\n",
    "training_prompt_backward_suggestions = \"\"\"Suggestions from summary [i]:\n",
    "[suggestions]\n",
    "\"\"\"\n",
    "\n",
    "#gradient\n",
    "training_prompt_backward_suffix = \"\"\"\n",
    "Here are some of the requirements you need to be aware of when modifying the instruction in our system:\n",
    "1) For better generalization, what you suggest should be abstracted as high-level criteria as much as possible instead of only describing the details\n",
    "2) We will improve the instructions based on your suggestions. If I re-provide the system with the conversation snippet and the target section in the SOAP note, it needs to be able to generate the reference summary using your new suggested instructions.\n",
    "3) The instruction now in our system is for the zero-shot setting, don't try to add any examples to the instruction.\n",
    "4) We are currently only focusing on this target section, so you don't need to consider the situation of other sections in the SOAP note, just optimize the instructions completely for this section.\n",
    "\n",
    "Let's think step by step. First, briefly summarize the suggestions of all the data to get a final suggestion containing only the highest priority requirement, then output your modified instruction for our system based on the final suggestion.\n",
    "Return the output as a dictionary object, adhering to the following structure:\n",
    "{\"final suggestion\": ..., \"new instruction\": ...}\n",
    "Please provide your response solely in the dictionary format without including any additional text.\n",
    "\"\"\""
   ]
  },
  {
   "cell_type": "code",
   "execution_count": null,
   "id": "f681b9b6-f381-43c1-9fe8-0e910f712a37",
   "metadata": {
    "id": "f681b9b6-f381-43c1-9fe8-0e910f712a37"
   },
   "outputs": [],
   "source": [
    "def training_forward_step(training_prompt_forward, target_trainable_instruction,\n",
    "                          section, Conv_snippet,\n",
    "                          AI_summary,\n",
    "                          label_summary,\n",
    "                          learning_temperature_rate=0):\n",
    "    instruction = training_prompt_forward.replace('[target_trainable_instruction]', target_trainable_instruction)\n",
    "    instruction = instruction.replace('[section]', section)\n",
    "    instruction = instruction.replace('[Conv_snippet]', Conv_snippet)\n",
    "    instruction = instruction.replace('[AI_summary]', AI_summary)\n",
    "    instruction = instruction.replace('[label_summary]', label_summary)\n",
    "\n",
    "    response = openai.ChatCompletion.create(\n",
    "        model=\"gpt-3.5-turbo-16k\", #gpt-4\n",
    "        messages=[\n",
    "            {\"role\": \"system\", \"content\": instruction}\n",
    "        ],\n",
    "        temperature=learning_temperature_rate\n",
    "    )\n",
    "\n",
    "    suggestions = json.loads(response[\"choices\"][0][\"message\"][\"content\"], strict=False)['suggestions']\n",
    "\n",
    "    return suggestions\n",
    "\n",
    "def training_backward_step(training_prompt_backward_prefix,\n",
    "                           training_prompt_backward_suggestions,\n",
    "                           training_prompt_backward_suffix,\n",
    "                           target_trainable_instruction,\n",
    "                           bsz, bsz_suggestion,\n",
    "                           learning_temperature_rate=0):\n",
    "    # make backward instruction with prefix, suggestions, and suffix\n",
    "    instruction = training_prompt_backward_prefix.replace('[target_trainable_instruction]', target_trainable_instruction) #p0\n",
    "    for i in range(bsz): #g\n",
    "        suggestions_instruction = training_prompt_backward_suggestions.replace('[i]', str(i+1))\n",
    "        suggestions_instruction = suggestions_instruction.replace('[suggestions]', bsz_suggestion[i]['suggestions'])\n",
    "        instruction = instruction + suggestions_instruction\n",
    "    instruction = instruction + training_prompt_backward_suffix\n",
    "\n",
    "    response = openai.ChatCompletion.create(\n",
    "        model=\"gpt-3.5-turbo-16k\", #gpt-4\n",
    "        messages=[\n",
    "            {\"role\": \"system\", \"content\": instruction}\n",
    "        ],\n",
    "        temperature=learning_temperature_rate\n",
    "    )\n",
    "\n",
    "    response = json.loads(response[\"choices\"][0][\"message\"][\"content\"], strict=False)\n",
    "\n",
    "    new_target_trainable_instruction = response['new instruction']\n",
    "    final_suggestion = response['final suggestion']\n",
    "    print(\"final suggestion in this step: \", final_suggestion)\n",
    "\n",
    "    return new_target_trainable_instruction\n",
    "\n",
    "def train_one_step(epoch, step, training_data, bsz, target_trainable_instruction,\n",
    "                   summarize_raw_instruction,\n",
    "                   logging, learning_temperature_rate=0):\n",
    "\n",
    "    # get forward suggestions (cal loss)\n",
    "    bsz_suggestions = []\n",
    "    for i in tqdm(range(bsz), desc=\"batch cal loss\"):\n",
    "        section = training_data.iloc[i]['section'] #x\n",
    "        Conv_snippet = training_data.iloc[i]['Conv_snippet'] #x\n",
    "        label_summary = training_data.iloc[i]['summary'] #y\n",
    "\n",
    "        # get the model's summary on training data before training --> y^\n",
    "        AI_summary = do_summarize(target_trainable_instruction,\n",
    "                                  summarize_raw_instruction,\n",
    "                                  section, Conv_snippet)\n",
    "\n",
    "        # get suggestions for every data in batch --> input: p0, x, y^, y --> g\n",
    "        suggestions = training_forward_step(training_prompt_forward, target_trainable_instruction, section,\n",
    "                                     Conv_snippet, AI_summary, label_summary,\n",
    "                                     learning_temperature_rate)\n",
    "\n",
    "        bsz_suggestions.append({'label_summary': label_summary,\n",
    "                                'AI_summary': AI_summary,\n",
    "                                'suggestions': suggestions})\n",
    "\n",
    "    # make backward update\n",
    "    new_target_trainable_instruction = training_backward_step(training_prompt_backward_prefix,\n",
    "                                                              training_prompt_backward_suggestions,\n",
    "                                                              training_prompt_backward_suffix,\n",
    "                                                              target_trainable_instruction,\n",
    "                                                              bsz,\n",
    "                                                              bsz_suggestions,\n",
    "                                                              learning_temperature_rate)\n",
    "    #update to get new target_trainable_instruction\n",
    "    target_trainable_instruction = new_target_trainable_instruction\n",
    "    is_updated = True\n",
    "\n",
    "    return target_trainable_instruction, is_updated"
   ]
  },
  {
   "cell_type": "code",
   "execution_count": null,
   "id": "2341e86a-674c-4af6-9ba4-65dd0756cac8",
   "metadata": {
    "id": "2341e86a-674c-4af6-9ba4-65dd0756cac8"
   },
   "outputs": [],
   "source": [
    "target_trainable_few_shot_examples = \"\"\"Here are some examples of different summaries in SOAP notes to serve as reference points:\n",
    "\n",
    "\"\"\"\n",
    "\n",
    "training_example_selection_forward = \"\"\"In this task, you need to make some examples for our SOAP notes writing system, which uses a model to generate SOAP notes from the doctor-patient conversation according to manually created instructions.\n",
    "Specifically, we feed the AI a conversation snippet and the target section in the SOAP note and ask it to generate the corresponding summary.\n",
    "But we found that the instruction in the current system is not perfect, so we need you to modify the instruction for this model to improve our system.\n",
    "I need you to first judge whether the given new data is suitable to be added to the examples of the rating system based on the existing instructions and examples.\n",
    "If your judgment is \"yes\", then I need you to simplify the content of this example. In the process of simplification, you need to discard the unimportant details in the conversation snippet and summary, and retain and emphasize the most typical content in this example to better help the subsequent prediction of other data.\n",
    "\n",
    "The instruction now in our rating system:\n",
    "[target_trainable_instruction]\n",
    "The examples now in our rating system:\n",
    "[target_trainable_few_shot_examples]\n",
    "\n",
    "Here is the new candidate.\n",
    "SOAP note section for summary:\n",
    "[section]\n",
    "Conversation snippet for the model:\n",
    "[Conv_snippet]\n",
    "Reference summary:\n",
    "[label_summary]\n",
    "\n",
    "Here are some of the requirements you need to be aware of when you try to add examples in our rating system:\n",
    "1) First consider whether the example is typical, and it can be used as the representatives to help predict other data in the future.\n",
    "2) If I re-provide you with the original conversation snippet and the target section in the SOAP note, you need to be able to generate the reference summary accurately based on this instruction and few-shot examples in our system.\n",
    "3) Only keep the most critical part in few-shot examples. You can use ellipses (...) to skip unimportant parts.\n",
    "4) We are currently only focusing on this target section, so you don't need to consider the situation of other sections in the SOAP note, just optimize the instructions completely for this section.\n",
    "5) Every example needs to include a SOAP note section, Conversation snippet, and ground truth summary.\n",
    "\n",
    "Let's think step by step. First, output your judgment on whether the new candidate is suitable to be added to the examples of the system.\n",
    "If your judgment is \"no\", output \"{}\" in \"new example\".\n",
    "If your judgment is \"yes\", output your simplified version example in \"new example\".\n",
    "Return the output as a dictionary object, adhering to the following structure:\n",
    "{\"judgment\": ..., \"new example\": ...}\n",
    "Ensure the 'judgment' only includes 'yes' or 'no'.\n",
    "Ensure the 'new example' is a dictionary with 'SOAP note section', 'Conversation snippet', 'Ground truth summary'.\n",
    "Please provide your response solely in the dictionary format without including any additional text.\n",
    "\"\"\"\n",
    "\n",
    "training_example_selection_backward_prefix = \"\"\"In this task, you need to make some examples for our SOAP notes writing system, which uses a model to generate SOAP notes from the doctor-patient conversation according to manually created instructions.\n",
    "Specifically, we feed the AI a conversation snippet and the target section in the SOAP note and ask it to generate the corresponding summary.\n",
    "But we found that the instruction in the current system is not perfect, so we need you to modify the instruction for this model to improve our system.\n",
    "I need you to first judge whether the given new data is suitable to be added to the examples of the rating system based on the existing instructions and examples.\n",
    "If your judgment is \"yes\", then I need you to simplify the content of this example. In the process of simplification, you need to discard the unimportant details in the conversation snippet and summary, and retain and emphasize the most typical content in this example to better help the subsequent prediction of other data.\n",
    "\n",
    "The instruction now in our rating system:\n",
    "[target_trainable_instruction]\n",
    "The examples now in our rating system:\n",
    "[target_trainable_few_shot_example]\n",
    "\"\"\"\n",
    "\n",
    "training_example_selection_backward_suggestions = \"\"\"Example [i]:\n",
    "[example]\n",
    "\"\"\"\n",
    "\n",
    "training_example_selection_backward_suffix = \"\"\"Here are some of the requirements you need to be aware of when you try to add examples in our system:\n",
    "1) First consider whether the example is typical, and it can be used as the representatives to help predict other data in the future.\n",
    "2) If I re-provide you with the original conversation snippet and the target section in the SOAP note, you need to be able to generate the reference summary accurately based on this instruction and few-shot examples in our system.\n",
    "3) Only keep the most critical part in few-shot examples. You can use ellipses (...) to skip unimportant parts.\n",
    "4) We are currently only focusing on this target section, so you don't need to consider the situation of other sections in the SOAP note, just optimize the instructions completely for this section.\n",
    "5) Every example needs to include a SOAP note section, Conversation snippet, and Ground truth summary.\n",
    "6) The format for \"new few shot examples\" should be:\n",
    "Example 1:\n",
    "SOAP note section:\n",
    "Conversation snippet:\n",
    "Ground truth summary:\n",
    "\n",
    "Modify the few shot examples in the current instructions, consider the original examples and the new examples together, and then give the new few shot examples in the instructions.\n",
    "Return the output as a dictionary object, adhering to the following structure:\n",
    "{\"new few shot examples\": ...}\n",
    "Ensure the 'new few shot examples' only includes text but not a list or dictionary.\n",
    "Please provide your response solely in the dictionary format without including any additional text.\n",
    "\"\"\""
   ]
  },
  {
   "cell_type": "code",
   "execution_count": null,
   "id": "46dee8c7-f765-431a-bbd0-05c609913c9f",
   "metadata": {
    "id": "46dee8c7-f765-431a-bbd0-05c609913c9f"
   },
   "outputs": [],
   "source": [
    "def training_example_selection_forward_step(training_example_selection_forward,\n",
    "                                            target_trainable_instruction,\n",
    "                                            target_trainable_few_shot_examples,\n",
    "                                            section, Conv_snippet,\n",
    "                                            label_summary,\n",
    "                                            learning_temperature_rate=0):\n",
    "    instruction = training_example_selection_forward.replace('[target_trainable_instruction]', target_trainable_instruction)\n",
    "    instruction = instruction.replace('[target_trainable_few_shot_examples]', target_trainable_few_shot_examples)\n",
    "    instruction = instruction.replace('[section]', section)\n",
    "    instruction = instruction.replace('[Conv_snippet]', Conv_snippet)\n",
    "    instruction = instruction.replace('[label_summary]', label_summary)\n",
    "\n",
    "    response = openai.ChatCompletion.create(\n",
    "        model=\"gpt-3.5-turbo-16k\", #gpt-4\n",
    "        messages=[\n",
    "            {\"role\": \"system\", \"content\": instruction}\n",
    "        ],\n",
    "        temperature=learning_temperature_rate\n",
    "    )\n",
    "\n",
    "    judgment = json.loads(response[\"choices\"][0][\"message\"][\"content\"], strict=False)['judgment']\n",
    "    example = json.loads(response[\"choices\"][0][\"message\"][\"content\"], strict=False)['new example']\n",
    "\n",
    "    return {'judgment': judgment, 'example': example}\n",
    "\n",
    "def training_example_selection_backward_step(training_example_selection_backward_prefix,\n",
    "                           training_example_selection_backward_suggestions,\n",
    "                           training_example_selection_backward_suffix,\n",
    "                           target_trainable_instruction,\n",
    "                           target_trainable_few_shot_examples,\n",
    "                           bsz, new_examples,\n",
    "                           learning_temperature_rate=0):\n",
    "    # make backward instruction with prefix, suggestions, and suffix\n",
    "    instruction = training_example_selection_backward_prefix.replace('[target_trainable_instruction]', target_trainable_instruction)\n",
    "    instruction = instruction.replace('[target_trainable_few_shot_examples]', target_trainable_few_shot_examples)\n",
    "    for i in range(len(new_examples)):\n",
    "        new_example_instruction = training_example_selection_backward_suggestions.replace('[i]', str(i+1))\n",
    "        new_example_instruction = new_example_instruction.replace('[example]', new_examples[i]['example'])\n",
    "        instruction = instruction + new_example_instruction\n",
    "    instruction = instruction + training_example_selection_backward_suffix\n",
    "\n",
    "    response = openai.ChatCompletion.create(\n",
    "        model=\"gpt-3.5-turbo-16k\", #gpt-4\n",
    "        messages=[\n",
    "            {\"role\": \"system\", \"content\": instruction}\n",
    "        ],\n",
    "        temperature=learning_temperature_rate\n",
    "    )\n",
    "\n",
    "    response = json.loads(response[\"choices\"][0][\"message\"][\"content\"], strict=False)\n",
    "\n",
    "    new_target_trainable_few_shot_examples = response['new few shot examples']\n",
    "\n",
    "    return new_target_trainable_few_shot_examples\n",
    "\n",
    "def train_one_step_for_few_shot_example(epoch, step, training_data, bsz,\n",
    "                                        target_trainable_instruction,\n",
    "                                        target_trainable_few_shot_examples,\n",
    "                                        summarize_raw_instruction,\n",
    "                                        logging, learning_temperature_rate=0):\n",
    "\n",
    "    # get forward new_examples\n",
    "    new_examples = []\n",
    "    for i in tqdm(range(bsz), desc=\"batch few_shot forward\"):\n",
    "        section = training_data.iloc[i]['section']\n",
    "        Conv_snippet = training_data.iloc[i]['Conv_snippet']\n",
    "        label_summary = training_data.iloc[i]['summary']\n",
    "\n",
    "        try:\n",
    "            # get suggestions for every data in batch\n",
    "            new_example = training_example_selection_forward_step(training_example_selection_forward,\n",
    "                                                target_trainable_instruction,\n",
    "                                                target_trainable_few_shot_examples,\n",
    "                                                section, Conv_snippet, label_summary,\n",
    "                                                learning_temperature_rate)\n",
    "\n",
    "\n",
    "            if new_example['judgment'] == 'yes':\n",
    "                example_content = '\\n'.join(['SOAP note section:', new_example['example']['SOAP note section'],\n",
    "                                             'Conversation snippet:', new_example['example']['Conversation snippet'],\n",
    "                                             'Ground truth summary:', new_example['example']['Ground truth summary']])\n",
    "                new_examples.append({'judgment': new_example['judgment'],\n",
    "                                     'example': example_content})\n",
    "        except:\n",
    "            print('Encounter some errors in training_example_selection_forward_step')\n",
    "            continue\n",
    "\n",
    "    # make backward update\n",
    "    new_target_trainable_few_shot_examples = training_example_selection_backward_step(training_example_selection_backward_prefix,\n",
    "                                                                                training_example_selection_backward_suggestions,\n",
    "                                                                                training_example_selection_backward_suffix,\n",
    "                                                                                target_trainable_instruction,\n",
    "                                                                                target_trainable_few_shot_examples,\n",
    "                                                                                bsz, new_examples,\n",
    "                                                                                learning_temperature_rate)\n",
    "\n",
    "    #update to get new target_trainable_instruction\n",
    "    target_trainable_few_shot_examples = new_target_trainable_few_shot_examples\n",
    "\n",
    "    return target_trainable_few_shot_examples"
   ]
  },
  {
   "cell_type": "code",
   "execution_count": null,
   "id": "d4334563-0e23-441d-8d1c-20655d9e5302",
   "metadata": {
    "id": "d4334563-0e23-441d-8d1c-20655d9e5302"
   },
   "outputs": [],
   "source": [
    "def train_loop(train_df, eval_df, target_trainable_instruction, summarize_raw_instruction,\n",
    "               logging, ngram_eval, factev,\n",
    "               target_trainable_few_shot_examples='', do_few_shot=False,\n",
    "               EPOCH=1, steps_per_epoch=5, bsz=10,\n",
    "               eval_at_beginning=False, dataloader_sample_mode='random', learning_temperature_rate=0):\n",
    "\n",
    "    if eval_at_beginning:\n",
    "        print(\"the init target_trainable_instruction is:\")\n",
    "        print(target_trainable_instruction)\n",
    "        if do_few_shot:\n",
    "            print(\"the init target_trainable_few_shot_examples is:\")\n",
    "            print(target_trainable_few_shot_examples)\n",
    "\n",
    "        print(\"----------------------------------------------------------------------------------------------------------------\")\n",
    "        print(\"eval results on all TRAINING DATA in the beginning\")\n",
    "        print(\"----------------------------------------------------------------------------------------------------------------\")\n",
    "        eval_dict = eval_loop(train_df, target_trainable_instruction, summarize_raw_instruction,\n",
    "                              target_trainable_few_shot_examples, do_few_shot,\n",
    "                              ngram_eval, factev, eval_training_step=False)\n",
    "        eval_log(logging, -1, eval_dict)\n",
    "\n",
    "        print(\"----------------------------------------------------------------------------------------------------------------\")\n",
    "        print(\"eval results on all EVAL DATA in the beginning\")\n",
    "        print(\"----------------------------------------------------------------------------------------------------------------\")\n",
    "        eval_dict = eval_loop(eval_df, target_trainable_instruction, summarize_raw_instruction,\n",
    "                              target_trainable_few_shot_examples, do_few_shot,\n",
    "                              ngram_eval, factev, eval_training_step=False)\n",
    "        eval_log(logging, -1, eval_dict)\n",
    "\n",
    "    for epoch in range(EPOCH):\n",
    "        print(str(epoch), \"EPOCH BEGIN--------------------------------------------------------------------------------------------------\")\n",
    "        print(str(epoch), \"EPOCH BEGIN--------------------------------------------------------------------------------------------------\")\n",
    "        print(str(epoch), \"EPOCH BEGIN--------------------------------------------------------------------------------------------------\")\n",
    "\n",
    "        # Check if the epoch exists in the logging dictionary\n",
    "        if 'epoch'+str(epoch) not in logging:\n",
    "            logging['epoch'+str(epoch)] = {}  # Create a new dictionary for the epoch\n",
    "\n",
    "        any_change_in_this_epoch = False\n",
    "\n",
    "        for train_step in tqdm(range(steps_per_epoch), desc=\"Training\"):\n",
    "            print(\"------------------------------------------------------------------\")\n",
    "            print(\"START NEW TRAINING STEP\")\n",
    "            print(\"------------------------------------------------------------------\")\n",
    "\n",
    "            # try:\n",
    "            # load training data for the epoch\n",
    "            training_data = dataloader(train_df, bsz,\n",
    "                                       target_trainable_instruction, summarize_raw_instruction,\n",
    "                                       target_trainable_few_shot_examples, do_few_shot,\n",
    "                                       ngram_eval, factev,\n",
    "                                       dataloader_sample_mode)\n",
    "\n",
    "            #-----------\n",
    "            print(\"training metrics: before training step\")\n",
    "            eval_dict = eval_loop(training_data, target_trainable_instruction, summarize_raw_instruction,\n",
    "                                  target_trainable_few_shot_examples, do_few_shot,\n",
    "                                  ngram_eval, factev, eval_training_step=True)\n",
    "            eval_log(logging, epoch, eval_dict)\n",
    "            #-----------\n",
    "\n",
    "            print('training section:', training_data.index.tolist())\n",
    "\n",
    "            #train the \"instruction\"\n",
    "            if not do_few_shot:\n",
    "                target_trainable_instruction, is_updated = train_one_step(epoch, train_step, training_data, bsz,\n",
    "                                                                          target_trainable_instruction,\n",
    "                                                                          summarize_raw_instruction,\n",
    "                                                                          logging, learning_temperature_rate=learning_temperature_rate)\n",
    "\n",
    "            #train the few-shot-examples\n",
    "            if do_few_shot:\n",
    "                target_trainable_few_shot_examples = train_one_step_for_few_shot_example(epoch, train_step,\n",
    "                                                                                         training_data,\n",
    "                                                                                         bsz,\n",
    "                                                                                         target_trainable_instruction,\n",
    "                                                                                         target_trainable_few_shot_examples,\n",
    "                                                                                         summarize_raw_instruction,\n",
    "                                                                                         logging,\n",
    "                                                                                         learning_temperature_rate=0)\n",
    "                is_updated = True\n",
    "\n",
    "            if is_updated:\n",
    "                any_change_in_this_epoch = True\n",
    "\n",
    "            #-----------\n",
    "            print(\"training metrics: after training step\")\n",
    "            eval_dict = eval_loop(training_data, target_trainable_instruction, summarize_raw_instruction,\n",
    "                                  target_trainable_few_shot_examples, do_few_shot,\n",
    "                                  ngram_eval, factev, eval_training_step=True)\n",
    "            eval_log(logging, epoch, eval_dict)\n",
    "            #-----------\n",
    "            # except:\n",
    "            #     print('Encounter some errors from OpenAI API')\n",
    "            #     # print('Encounter some errors from OpenAI API, start to sleep 60s...')\n",
    "            #     # time.sleep(60)\n",
    "            #     # print('End sleep, resume the training')\n",
    "            #     continue\n",
    "\n",
    "\n",
    "            print(\"------------------------------------------------------------------\")\n",
    "            print(\"END THIS TRAINING STEP\")\n",
    "            print(\"------------------------------------------------------------------\")\n",
    "\n",
    "        print(str(epoch), \"EPOCH END----------------------------------------------------------------------------------------------------\")\n",
    "        print(str(epoch), \"EPOCH END----------------------------------------------------------------------------------------------------\")\n",
    "        print(str(epoch), \"EPOCH END----------------------------------------------------------------------------------------------------\")\n",
    "\n",
    "        # do eval\n",
    "        if any_change_in_this_epoch:\n",
    "            print(\"----------------------------------------------------------------------------------------------------------------\")\n",
    "            print(\"eval results on all TRAINING DATA for EPOCH\", str(epoch))\n",
    "            print(\"----------------------------------------------------------------------------------------------------------------\")\n",
    "            eval_dict = eval_loop(train_df, target_trainable_instruction, summarize_raw_instruction,\n",
    "                                  target_trainable_few_shot_examples, do_few_shot,\n",
    "                                  ngram_eval, factev, eval_training_step=False)\n",
    "            eval_log(logging, epoch, eval_dict)\n",
    "\n",
    "            print(\"----------------------------------------------------------------------------------------------------------------\")\n",
    "            print(\"eval results on all EVAL DATA for EPOCH\", str(epoch))\n",
    "            print(\"----------------------------------------------------------------------------------------------------------------\")\n",
    "            eval_dict = eval_loop(eval_df, target_trainable_instruction, summarize_raw_instruction,\n",
    "                                  target_trainable_few_shot_examples, do_few_shot,\n",
    "                                  ngram_eval, factev, eval_training_step=False)\n",
    "            eval_log(logging, epoch, eval_dict)\n",
    "\n",
    "            print(\"after curr epoch, the target_trainable_instruction is:\")\n",
    "            print(target_trainable_instruction)\n",
    "            if do_few_shot:\n",
    "                print(\"after curr epoch, the target_trainable_few_shot_examples is:\")\n",
    "                print(target_trainable_few_shot_examples)\n",
    "\n",
    "    return target_trainable_instruction, target_trainable_few_shot_examples"
   ]
  },
  {
   "cell_type": "code",
   "execution_count": null,
   "id": "1d943fc2-66f9-454b-be6c-c3cc2096a7b8",
   "metadata": {
    "colab": {
     "referenced_widgets": [
      "93f1324fc1ba429dabefed4ab75e57b7",
      "45e7f42adbdf4a0a928757a18db6c40b",
      "0e5dbaf7bbb2407fb3f6da37cbc0758a",
      "065069ce2f8042b581f21aa25e3e1ab4",
      "50ec0444dc7b4b729eee547e4dafea54",
      "f7883d2296a643758f22833126226d0b",
      "9850b5fa36e84df3802c6426649bb2f1",
      "660d191266af479a8d466cc9b47ac29a",
      "fd901da4afd34e228d35ca52736bf862",
      "dca09d58397445909d6ed2a01adba33e",
      "84401351bcd14bcfab78073d83c35f57",
      "f25e7e20f03a4f43b9d6f0c05a8c7c3d",
      "3ee20976b53e49d582819f4deb4656ed",
      "f12b0f48393848f4af5838e2444c7625",
      "09c901c476ca4501955bf2eb637bc0d2",
      "b376a04b6e2544d1a61ffdc5b0744214",
      "8a15218021ff49e7a5d179453b283e2a",
      "ce5622464c714331aaf0967b28389733",
      "c398cc843bdb4713a875c29884b12533",
      "4ea6adeec760402b9a30073e6284fb09",
      "d9ee0a362c8b4db88227005b556c9ba3",
      "d3104aca1cc2413c9f5e1c1c445f0270",
      "240007fc6a87407a93b79c27dbefb6c3",
      "df4f3c9d01574f5fab0a3f7c59b6141f",
      "1e2f440e813146749270e34ad5d2262b",
      "df41d4847f2e4c0f94e107c6ae6a1a44",
      "459874aa369644e9ad9ad810f4f35efe",
      "6c94b148a3f642d69d9852c69a49a1b9",
      "6b92e90b16884736a519ed8c482febf9",
      "713e9e393c9d4845abff5a9f50db89cb",
      "7808c12421c8445aa6883b46aceea8b6",
      "268ffa6797dd422abea5bd6d0974e114",
      "dd209dbf181b4d0ab3fd9786739da31a",
      "ad021fa8333d4085bbf083ac08d7d060",
      "d1d6885cf3e14f45bfdc42ee47729e93",
      "37a07820e87047548265b15869adef17",
      "555303474e714a72a6c54230db1dee68",
      "d023885d754741c2900a62c0845c6813",
      "7b71024225fb4932bca5460e8c0b2971",
      "0ea1437a9e63418ba288de9459e3454f",
      "0d0500936c9e4c97bc9866659f08d0cc",
      "dc85fecf190b48979695dbaeb5e3b4c5",
      "19d11a7e02fd49cab5da61ad1569e12a",
      "d5a1e9d94efd4d3b88220705ff575613",
      "06420b8a37284106b736f2a51166725a",
      "63a2bcc4048c4ac9a46bb3f5a11e66cc",
      "6477a24a3c09492c8f93d3a203c6b5e8",
      "b72d79e88a2d4bdf9f9389e92f414f20",
      "cbc65849070b4bfb9c9267be0b3b811c",
      "e215b34aa16141f493b71cf82d680b13",
      "4a86c0bcc1184ea8bf070b275138bc3d",
      "e772cab346ae452ab2f7f8b4da9bbde5",
      "853fc4ade7fe4320bd93009e353eb74b",
      "bcb307df922b42d68e7d12960dae1262",
      "a386f5b0e4074c479d9d3bbd92d2d832",
      "dbb692d4e9fd4b93ab20cc25a374fc8e",
      "c6d7b6fab14e48a098d76f75d4d6048e",
      "a498dabe14134bdb81ae67badd289b53",
      "3d34c85886144b4e917a36b1d35ed065",
      "4b3b40e9cf7d44a5a34f0123a377a7d7",
      "7c8df1483ece469a815c9966b766cb04",
      "94715e265c154b2ebaf9dcff594be0b0",
      "b15b320e7efa48bebc8d230dcb7b93ab",
      "fcb2f59e48954783b5af007e4be045f0",
      "7728e929bcb94138abee93877406e4f2",
      "b73b1ad003da4a63ad2e3b08c3e95675",
      "ac88042d360c402ab4f92ce638c46380",
      "8ef25bd5dec84a0391e7648d4d2a436f",
      "302149ac753445e0a47482066ab8f1f0",
      "18b727b4996e41b28ee0521016ed2a00",
      "0c4bd6d0289542258b9020911d71b3ff",
      "73bae42178f04db2a7445e6c674accdd",
      "3a62d857723a437d91ad40e017f33970",
      "ad097376e8c7469195330374ec5a717c",
      "39e621972ebb4db883f32ef5f8be89be",
      "1f7f1036a697453d8d7511c35dfbf9b8",
      "05d09c08e45643a093ca33821f9a4dde",
      "a302adbf54d14999bfd7bc24cdd8b7ad",
      "e87a4b0bf5f841b3b8041d42b8160fef",
      "cda81fdc64334ce3bb7a5462a1a838dd",
      "562b9dc2d76f4fbe997e5d2bfd189949",
      "0619aafd97944edcae6e79ce4e7d48e9",
      "c6b0e635597943f08756b08b3bf7606b",
      "9816f6ee8a0f4e688ea0e564d754b3e8",
      "2c240e3d4d4c4c1a9ba2b675fa47d0bc",
      "f8471867a51440ce90f660685e30e5b5",
      "eafd5de57d93428b9615b8f0b596385f",
      "22f0db82c40e4e598dd00e96f1bc01e6",
      "78b33d857c484d13b9a59bd7fdf11d78",
      "8a9968bc949e48a185c84c7e1a8cf159",
      "bffbb90797864986a59b32a5274839a7",
      "006fc8adec134f67b2f9370c744616d9",
      "b4fdd0d0299c451699733f6eed003e25",
      "5dc0c3bcd0434eacaa22a7beee1c34b1",
      "c6d0d24beef24b10af84a0691146a841",
      "49363471e2f74f21867e321f6f8d9a40",
      "18d8c3bb43944dd5992ac9a3920a4cae",
      "d2945dc5b6c44942aaaafaac5169f5e7",
      "02119f13a0184dc98459a2ac836d99e1",
      "de7b61eaf2b045d9a766c2413ae98253",
      "49a03f1b99b647dbab6265a951873b30",
      "d0583a311e614a1abc0fe2a1b46a45e8",
      "8f1168320293493b9e2549c958f791ea",
      "19cd47a896904854abb0c1ce2260f865",
      "3ba2d9eef7a24967bfa99aa69f4d3340",
      "79872659aecc49f593b241ef763ac1da",
      "22168cadae0640db96741a4b48b78508",
      "6b3e6c88c81e4bed9046c17faf862357",
      "e5afc6ce71be4c27854403fba023cff9",
      "1e03e5b43efa4d97b148e34e2a6a896f",
      "f6b0e078b331440fa71c8c5cdf2248d3",
      "7187cdbf6ce5490f83189c67fc57d613",
      "2d5aca0927b64d68a9711ac695c27bd8",
      "5dc713f722ef42db8273fd54ad8fff7f",
      "7e22f94a3188438fbadae3bea17663d0",
      "3f98bcb906ee41e7ae361f42ed0a26db",
      "6ddc8b966c4c408a80a5c970b8915cc4",
      "d4182cbeffe14030a3af2fcf4678874f",
      "a0535ae6a71440b1b59942c8aca198a2",
      "aa534ee5511e4e9a8cb0f6cc0fc9e1dd",
      "b31b44e693ed4c37a47d71c6a393acad",
      "48927e1ad3494b1e943edbe5b1018c39",
      "759f0c70e0b041b6807d222886fb3596",
      "88de90ad338f4f369b89e9ba874662c2",
      "fed7b3b53a944ea985941927ac5a2be2",
      "151ffe232e54487dbb3b2e466b7e5c6a",
      "e5a91a848b3646ddb7ac716ad5504e23",
      "698a6b73c7f94d17ad9e70d837114271",
      "6acae511c9c848a58b631da9dcede57f",
      "73c2b26ad9db46d3b16159820c9751c0",
      "eb60f3654d4247638fbe9196deb57ea5",
      "501ce46b484644afad4cc3a78275e3d9",
      "3c9ab6b24c744335b102244fdac36481",
      "36d1a50271cd41e09f68032eb50c1fad",
      "2124d3600f93425e80b5421a6b794673",
      "d5fd9de663954c3bb0f55aa2f5d99d7d",
      "a38e7798bfc44cb699c6d94248a76b38",
      "58b48d47e7ac4f9bbcbafbbac837de82",
      "e1e61564f8534c98bf864124596e7cdb",
      "8413b2781f9d4aee89f9fa1f4977605e",
      "25623a6645444b7982dbfd9d4219d916",
      "57d3ac099ebf4c8a8d9e434a6df0220f",
      "6bb829ea7c7c4e6684d32b0caf67fa80",
      "98a23a5a451142f68451fe78afa43d07",
      "bef76cd0babe404dbba900ad35fc14f2",
      "b8646866ce224256a13aa6ceb8532efe",
      "7f8b3aa62e3345209b439600882c77cd",
      "f8985e1f6aeb4c6eabe9238388b3c5fd",
      "3b85b3c6db144585994acbb16e77ab62",
      "f4e737186cb14efca0c3454475cc5305",
      "cf19f2883cb14cd0895b632f140cb1b3",
      "f1c77e1fe9a94175b3591ea08db820ad",
      "7afcc96257c84a0b92e814839d7c043d",
      "569c61e13f85483297253384ea21eca1",
      "33f4ab6ecfcf4159861c2ee6580d503b",
      "843c4cf86e574f318d76f53f95103e0b",
      "058547c8ff254c0d89479e152e81ed68",
      "633296583371430cb854c894cec558a8",
      "f8097b624f6d433c8d5894754d297513",
      "04af519972624581a4721e095415aefc",
      "41023941b8934bcb9e6e992d39689b38",
      "832cb891683c4fcc85152917bff5fd75",
      "d31dc9fbd008458aaf054680c0517c74",
      "c283b121e6c2408e9cc12a4b9185afef",
      "922d717f23244d0083a435da2538d14d",
      "e558de68bef241b3ab7f5ef9cf6f3987",
      "b117c92e1a5d4e51869fc835af24ba5a",
      "b7e63387c93a4c9fba01f3970dc057be",
      "db9848fc79ee470793b560dc982f86bc",
      "251191c7b9c8430498749681b2aa5dd1",
      "1f0a146ffd04470d966f1df0f72cef3b",
      "3a797a1e149344c8a82629b3617810e0",
      "20904aa82f9d41f39c954eb8381cfd8d"
     ]
    },
    "id": "1d943fc2-66f9-454b-be6c-c3cc2096a7b8",
    "outputId": "eb95b2e5-94ef-4787-ad6a-2ed1001d4030"
   },
   "outputs": [
    {
     "name": "stdout",
     "output_type": "stream",
     "text": [
      "the init target_trainable_instruction is:\n",
      "In this task, we ask for your expertise in writing SOAP notes from the doctor-patient conversation.\n",
      "Mainly we provide the target section in the SOAP note and the conversation snippet.\n",
      "We need you to generate a summary for the respective snippet.\n",
      "\n",
      "\n",
      "----------------------------------------------------------------------------------------------------------------\n",
      "eval results on all TRAINING DATA in the beginning\n",
      "----------------------------------------------------------------------------------------------------------------\n"
     ]
    },
    {
     "data": {
      "application/vnd.jupyter.widget-view+json": {
       "model_id": "93f1324fc1ba429dabefed4ab75e57b7",
       "version_major": 2,
       "version_minor": 0
      },
      "text/plain": [
       "Evaluation:   0%|          | 0/50 [00:00<?, ?it/s]"
      ]
     },
     "metadata": {},
     "output_type": "display_data"
    },
    {
     "name": "stdout",
     "output_type": "stream",
     "text": [
      "epoch: -1\n",
      "\t summary_rouge1 0.244\n",
      "\t summary_rouge2 0.0995\n",
      "\t summary_rougeL 0.2318\n",
      "\t summary_meteor 0.2946\n",
      "\t summary_UMLS_term_f 0.5804\n",
      "\t summary_UMLS_cuis_f 0.4823\n",
      "----------------------------------------------------------------------------------------------------------------\n",
      "eval results on all EVAL DATA in the beginning\n",
      "----------------------------------------------------------------------------------------------------------------\n"
     ]
    },
    {
     "data": {
      "application/vnd.jupyter.widget-view+json": {
       "model_id": "45e7f42adbdf4a0a928757a18db6c40b",
       "version_major": 2,
       "version_minor": 0
      },
      "text/plain": [
       "Evaluation:   0%|          | 0/50 [00:00<?, ?it/s]"
      ]
     },
     "metadata": {},
     "output_type": "display_data"
    },
    {
     "name": "stdout",
     "output_type": "stream",
     "text": [
      "epoch: -1\n",
      "\t summary_rouge1 0.246\n",
      "\t summary_rouge2 0.0908\n",
      "\t summary_rougeL 0.2327\n",
      "\t summary_meteor 0.2754\n",
      "\t summary_UMLS_term_f 0.5484\n",
      "\t summary_UMLS_cuis_f 0.4486\n",
      "0 EPOCH BEGIN--------------------------------------------------------------------------------------------------\n",
      "0 EPOCH BEGIN--------------------------------------------------------------------------------------------------\n",
      "0 EPOCH BEGIN--------------------------------------------------------------------------------------------------\n"
     ]
    },
    {
     "data": {
      "application/vnd.jupyter.widget-view+json": {
       "model_id": "0e5dbaf7bbb2407fb3f6da37cbc0758a",
       "version_major": 2,
       "version_minor": 0
      },
      "text/plain": [
       "Training:   0%|          | 0/1 [00:00<?, ?it/s]"
      ]
     },
     "metadata": {},
     "output_type": "display_data"
    },
    {
     "name": "stdout",
     "output_type": "stream",
     "text": [
      "------------------------------------------------------------------\n",
      "START NEW TRAINING STEP\n",
      "------------------------------------------------------------------\n",
      "training metrics: before training step\n"
     ]
    },
    {
     "data": {
      "application/vnd.jupyter.widget-view+json": {
       "model_id": "065069ce2f8042b581f21aa25e3e1ab4",
       "version_major": 2,
       "version_minor": 0
      },
      "text/plain": [
       "Evaluation:   0%|          | 0/10 [00:00<?, ?it/s]"
      ]
     },
     "metadata": {},
     "output_type": "display_data"
    },
    {
     "name": "stdout",
     "output_type": "stream",
     "text": [
      "epoch: 0\n",
      "\t summary_rouge1 0.2471\n",
      "\t summary_rouge2 0.1288\n",
      "\t summary_rougeL 0.2345\n",
      "\t summary_meteor 0.3704\n",
      "\t summary_UMLS_term_f 0.4556\n",
      "\t summary_UMLS_cuis_f 0.3602\n",
      "training section: [7758, 7721, 7742, 7718, 7720, 7735, 7727, 7746, 7722, 7726]\n"
     ]
    },
    {
     "data": {
      "application/vnd.jupyter.widget-view+json": {
       "model_id": "50ec0444dc7b4b729eee547e4dafea54",
       "version_major": 2,
       "version_minor": 0
      },
      "text/plain": [
       "batch cal loss:   0%|          | 0/10 [00:00<?, ?it/s]"
      ]
     },
     "metadata": {},
     "output_type": "display_data"
    },
    {
     "name": "stdout",
     "output_type": "stream",
     "text": [
      "final suggestion in this step:  Modify the instruction to include specific criteria for each conversation snippet, such as medication details, dosage, frequency, duration, and any changes in instructions. Also, mention any concerns or questions raised by the patient and the doctor's response. Provide clear and concise instructions that guide the model to generate accurate and informative summaries.\n",
      "training metrics: after training step\n"
     ]
    },
    {
     "data": {
      "application/vnd.jupyter.widget-view+json": {
       "model_id": "f7883d2296a643758f22833126226d0b",
       "version_major": 2,
       "version_minor": 0
      },
      "text/plain": [
       "Evaluation:   0%|          | 0/10 [00:00<?, ?it/s]"
      ]
     },
     "metadata": {},
     "output_type": "display_data"
    },
    {
     "name": "stdout",
     "output_type": "stream",
     "text": [
      "epoch: 0\n",
      "\t summary_rouge1 0.2327\n",
      "\t summary_rouge2 0.0971\n",
      "\t summary_rougeL 0.2171\n",
      "\t summary_meteor 0.3782\n",
      "\t summary_UMLS_term_f 0.4286\n",
      "\t summary_UMLS_cuis_f 0.3364\n",
      "------------------------------------------------------------------\n",
      "END THIS TRAINING STEP\n",
      "------------------------------------------------------------------\n",
      "0 EPOCH END----------------------------------------------------------------------------------------------------\n",
      "0 EPOCH END----------------------------------------------------------------------------------------------------\n",
      "0 EPOCH END----------------------------------------------------------------------------------------------------\n",
      "----------------------------------------------------------------------------------------------------------------\n",
      "eval results on all TRAINING DATA for EPOCH 0\n",
      "----------------------------------------------------------------------------------------------------------------\n"
     ]
    },
    {
     "data": {
      "application/vnd.jupyter.widget-view+json": {
       "model_id": "9850b5fa36e84df3802c6426649bb2f1",
       "version_major": 2,
       "version_minor": 0
      },
      "text/plain": [
       "Evaluation:   0%|          | 0/50 [00:00<?, ?it/s]"
      ]
     },
     "metadata": {},
     "output_type": "display_data"
    },
    {
     "name": "stdout",
     "output_type": "stream",
     "text": [
      "epoch: 0\n",
      "\t summary_rouge1 0.2227\n",
      "\t summary_rouge2 0.0756\n",
      "\t summary_rougeL 0.2074\n",
      "\t summary_meteor 0.2851\n",
      "\t summary_UMLS_term_f 0.5505\n",
      "\t summary_UMLS_cuis_f 0.4233\n",
      "----------------------------------------------------------------------------------------------------------------\n",
      "eval results on all EVAL DATA for EPOCH 0\n",
      "----------------------------------------------------------------------------------------------------------------\n"
     ]
    },
    {
     "data": {
      "application/vnd.jupyter.widget-view+json": {
       "model_id": "660d191266af479a8d466cc9b47ac29a",
       "version_major": 2,
       "version_minor": 0
      },
      "text/plain": [
       "Evaluation:   0%|          | 0/50 [00:00<?, ?it/s]"
      ]
     },
     "metadata": {},
     "output_type": "display_data"
    },
    {
     "name": "stdout",
     "output_type": "stream",
     "text": [
      "epoch: 0\n",
      "\t summary_rouge1 0.2234\n",
      "\t summary_rouge2 0.0761\n",
      "\t summary_rougeL 0.2098\n",
      "\t summary_meteor 0.2811\n",
      "\t summary_UMLS_term_f 0.5009\n",
      "\t summary_UMLS_cuis_f 0.4061\n",
      "after curr epoch, the target_trainable_instruction is:\n",
      "In this task, we ask for your expertise in writing SOAP notes from the doctor-patient conversation. Mainly we provide the target section in the SOAP note and the conversation snippet. We need you to generate a summary for the respective snippet. Please include specific details about the medications prescribed, such as dosage, frequency, and duration. Also, mention any concerns or questions raised by the patient and the doctor's response. Provide clear and concise instructions that guide the model to generate accurate and informative summaries.\n",
      "1 EPOCH BEGIN--------------------------------------------------------------------------------------------------\n",
      "1 EPOCH BEGIN--------------------------------------------------------------------------------------------------\n",
      "1 EPOCH BEGIN--------------------------------------------------------------------------------------------------\n"
     ]
    },
    {
     "data": {
      "application/vnd.jupyter.widget-view+json": {
       "model_id": "fd901da4afd34e228d35ca52736bf862",
       "version_major": 2,
       "version_minor": 0
      },
      "text/plain": [
       "Training:   0%|          | 0/1 [00:00<?, ?it/s]"
      ]
     },
     "metadata": {},
     "output_type": "display_data"
    },
    {
     "name": "stdout",
     "output_type": "stream",
     "text": [
      "------------------------------------------------------------------\n",
      "START NEW TRAINING STEP\n",
      "------------------------------------------------------------------\n",
      "training metrics: before training step\n"
     ]
    },
    {
     "data": {
      "application/vnd.jupyter.widget-view+json": {
       "model_id": "dca09d58397445909d6ed2a01adba33e",
       "version_major": 2,
       "version_minor": 0
      },
      "text/plain": [
       "Evaluation:   0%|          | 0/10 [00:00<?, ?it/s]"
      ]
     },
     "metadata": {},
     "output_type": "display_data"
    },
    {
     "name": "stdout",
     "output_type": "stream",
     "text": [
      "epoch: 1\n",
      "\t summary_rouge1 0.2498\n",
      "\t summary_rouge2 0.089\n",
      "\t summary_rougeL 0.2362\n",
      "\t summary_meteor 0.3132\n",
      "\t summary_UMLS_term_f 0.5664\n",
      "\t summary_UMLS_cuis_f 0.493\n",
      "training section: [7714, 7740, 7731, 7717, 7718, 7758, 7716, 7723, 7743, 7750]\n"
     ]
    },
    {
     "data": {
      "application/vnd.jupyter.widget-view+json": {
       "model_id": "84401351bcd14bcfab78073d83c35f57",
       "version_major": 2,
       "version_minor": 0
      },
      "text/plain": [
       "batch cal loss:   0%|          | 0/10 [00:00<?, ?it/s]"
      ]
     },
     "metadata": {},
     "output_type": "display_data"
    },
    {
     "name": "stdout",
     "output_type": "stream",
     "text": [
      "final suggestion in this step:  Revise the instruction to include the following points: 1. Specify that the summary should include the medication prescribed, including the name, dosage, frequency, and duration. 2. Instruct the model to mention any concerns or questions raised by the patient and the doctor's response. 3. Emphasize the need for clear and concise instructions that guide the model to generate accurate and informative summaries.\n",
      "training metrics: after training step\n"
     ]
    },
    {
     "data": {
      "application/vnd.jupyter.widget-view+json": {
       "model_id": "f25e7e20f03a4f43b9d6f0c05a8c7c3d",
       "version_major": 2,
       "version_minor": 0
      },
      "text/plain": [
       "Evaluation:   0%|          | 0/10 [00:00<?, ?it/s]"
      ]
     },
     "metadata": {},
     "output_type": "display_data"
    },
    {
     "name": "stdout",
     "output_type": "stream",
     "text": [
      "epoch: 1\n",
      "\t summary_rouge1 0.201\n",
      "\t summary_rouge2 0.0476\n",
      "\t summary_rougeL 0.1903\n",
      "\t summary_meteor 0.2527\n",
      "\t summary_UMLS_term_f 0.4813\n",
      "\t summary_UMLS_cuis_f 0.3771\n",
      "------------------------------------------------------------------\n",
      "END THIS TRAINING STEP\n",
      "------------------------------------------------------------------\n",
      "1 EPOCH END----------------------------------------------------------------------------------------------------\n",
      "1 EPOCH END----------------------------------------------------------------------------------------------------\n",
      "1 EPOCH END----------------------------------------------------------------------------------------------------\n",
      "----------------------------------------------------------------------------------------------------------------\n",
      "eval results on all TRAINING DATA for EPOCH 1\n",
      "----------------------------------------------------------------------------------------------------------------\n"
     ]
    },
    {
     "data": {
      "application/vnd.jupyter.widget-view+json": {
       "model_id": "3ee20976b53e49d582819f4deb4656ed",
       "version_major": 2,
       "version_minor": 0
      },
      "text/plain": [
       "Evaluation:   0%|          | 0/50 [00:00<?, ?it/s]"
      ]
     },
     "metadata": {},
     "output_type": "display_data"
    },
    {
     "name": "stdout",
     "output_type": "stream",
     "text": [
      "epoch: 1\n",
      "\t summary_rouge1 0.1669\n",
      "\t summary_rouge2 0.0494\n",
      "\t summary_rougeL 0.1552\n",
      "\t summary_meteor 0.2329\n",
      "\t summary_UMLS_term_f 0.4303\n",
      "\t summary_UMLS_cuis_f 0.2905\n",
      "----------------------------------------------------------------------------------------------------------------\n",
      "eval results on all EVAL DATA for EPOCH 1\n",
      "----------------------------------------------------------------------------------------------------------------\n"
     ]
    },
    {
     "data": {
      "application/vnd.jupyter.widget-view+json": {
       "model_id": "f12b0f48393848f4af5838e2444c7625",
       "version_major": 2,
       "version_minor": 0
      },
      "text/plain": [
       "Evaluation:   0%|          | 0/50 [00:00<?, ?it/s]"
      ]
     },
     "metadata": {},
     "output_type": "display_data"
    },
    {
     "name": "stdout",
     "output_type": "stream",
     "text": [
      "epoch: 1\n",
      "\t summary_rouge1 0.1722\n",
      "\t summary_rouge2 0.0563\n",
      "\t summary_rougeL 0.1656\n",
      "\t summary_meteor 0.2303\n",
      "\t summary_UMLS_term_f 0.353\n",
      "\t summary_UMLS_cuis_f 0.2545\n",
      "after curr epoch, the target_trainable_instruction is:\n",
      "Please modify the instruction to include the following: 1) Ask the model to specifically mention the medications prescribed, including their names, dosage, frequency, and duration. 2) Instruct the model to include any concerns or questions raised by the patient regarding the medications and the doctor's response to them. 3) Emphasize the importance of clear and concise instructions that guide the model to generate accurate and informative summaries.\n",
      "2 EPOCH BEGIN--------------------------------------------------------------------------------------------------\n",
      "2 EPOCH BEGIN--------------------------------------------------------------------------------------------------\n",
      "2 EPOCH BEGIN--------------------------------------------------------------------------------------------------\n"
     ]
    },
    {
     "data": {
      "application/vnd.jupyter.widget-view+json": {
       "model_id": "09c901c476ca4501955bf2eb637bc0d2",
       "version_major": 2,
       "version_minor": 0
      },
      "text/plain": [
       "Training:   0%|          | 0/1 [00:00<?, ?it/s]"
      ]
     },
     "metadata": {},
     "output_type": "display_data"
    },
    {
     "name": "stdout",
     "output_type": "stream",
     "text": [
      "------------------------------------------------------------------\n",
      "START NEW TRAINING STEP\n",
      "------------------------------------------------------------------\n",
      "training metrics: before training step\n"
     ]
    },
    {
     "data": {
      "application/vnd.jupyter.widget-view+json": {
       "model_id": "b376a04b6e2544d1a61ffdc5b0744214",
       "version_major": 2,
       "version_minor": 0
      },
      "text/plain": [
       "Evaluation:   0%|          | 0/10 [00:00<?, ?it/s]"
      ]
     },
     "metadata": {},
     "output_type": "display_data"
    },
    {
     "name": "stdout",
     "output_type": "stream",
     "text": [
      "epoch: 2\n",
      "\t summary_rouge1 0.1614\n",
      "\t summary_rouge2 0.0648\n",
      "\t summary_rougeL 0.1538\n",
      "\t summary_meteor 0.2489\n",
      "\t summary_UMLS_term_f 0.2999\n",
      "\t summary_UMLS_cuis_f 0.2153\n",
      "training section: [7733, 7737, 7753, 7757, 7742, 7726, 7752, 7740, 7735, 7727]\n"
     ]
    },
    {
     "data": {
      "application/vnd.jupyter.widget-view+json": {
       "model_id": "8a15218021ff49e7a5d179453b283e2a",
       "version_major": 2,
       "version_minor": 0
      },
      "text/plain": [
       "batch cal loss:   0%|          | 0/10 [00:00<?, ?it/s]"
      ]
     },
     "metadata": {},
     "output_type": "display_data"
    },
    {
     "name": "stdout",
     "output_type": "stream",
     "text": [
      "final suggestion in this step:  Please modify the instruction to include the following: 1) Ask the model to specifically mention the medications prescribed, including their names, dosage, frequency, and duration. 2) Instruct the model to include any concerns or questions raised by the patient regarding the medications and the doctor's response to them. 3) Emphasize the importance of clear and concise instructions that guide the model to generate accurate and informative summaries.\n",
      "training metrics: after training step\n"
     ]
    },
    {
     "data": {
      "application/vnd.jupyter.widget-view+json": {
       "model_id": "ce5622464c714331aaf0967b28389733",
       "version_major": 2,
       "version_minor": 0
      },
      "text/plain": [
       "Evaluation:   0%|          | 0/10 [00:00<?, ?it/s]"
      ]
     },
     "metadata": {},
     "output_type": "display_data"
    },
    {
     "name": "stdout",
     "output_type": "stream",
     "text": [
      "epoch: 2\n",
      "\t summary_rouge1 0.1771\n",
      "\t summary_rouge2 0.0683\n",
      "\t summary_rougeL 0.1702\n",
      "\t summary_meteor 0.241\n",
      "\t summary_UMLS_term_f 0.3079\n",
      "\t summary_UMLS_cuis_f 0.2312\n",
      "------------------------------------------------------------------\n",
      "END THIS TRAINING STEP\n",
      "------------------------------------------------------------------\n",
      "2 EPOCH END----------------------------------------------------------------------------------------------------\n",
      "2 EPOCH END----------------------------------------------------------------------------------------------------\n",
      "2 EPOCH END----------------------------------------------------------------------------------------------------\n",
      "----------------------------------------------------------------------------------------------------------------\n",
      "eval results on all TRAINING DATA for EPOCH 2\n",
      "----------------------------------------------------------------------------------------------------------------\n"
     ]
    },
    {
     "data": {
      "application/vnd.jupyter.widget-view+json": {
       "model_id": "c398cc843bdb4713a875c29884b12533",
       "version_major": 2,
       "version_minor": 0
      },
      "text/plain": [
       "Evaluation:   0%|          | 0/50 [00:00<?, ?it/s]"
      ]
     },
     "metadata": {},
     "output_type": "display_data"
    },
    {
     "name": "stdout",
     "output_type": "stream",
     "text": [
      "epoch: 2\n",
      "\t summary_rouge1 0.1748\n",
      "\t summary_rouge2 0.0534\n",
      "\t summary_rougeL 0.1671\n",
      "\t summary_meteor 0.2287\n",
      "\t summary_UMLS_term_f 0.4399\n",
      "\t summary_UMLS_cuis_f 0.3163\n",
      "----------------------------------------------------------------------------------------------------------------\n",
      "eval results on all EVAL DATA for EPOCH 2\n",
      "----------------------------------------------------------------------------------------------------------------\n"
     ]
    },
    {
     "data": {
      "application/vnd.jupyter.widget-view+json": {
       "model_id": "4ea6adeec760402b9a30073e6284fb09",
       "version_major": 2,
       "version_minor": 0
      },
      "text/plain": [
       "Evaluation:   0%|          | 0/50 [00:00<?, ?it/s]"
      ]
     },
     "metadata": {},
     "output_type": "display_data"
    },
    {
     "name": "stdout",
     "output_type": "stream",
     "text": [
      "epoch: 2\n",
      "\t summary_rouge1 0.1869\n",
      "\t summary_rouge2 0.0616\n",
      "\t summary_rougeL 0.1741\n",
      "\t summary_meteor 0.2445\n",
      "\t summary_UMLS_term_f 0.4137\n",
      "\t summary_UMLS_cuis_f 0.3022\n",
      "after curr epoch, the target_trainable_instruction is:\n",
      "Please modify the instruction to include the following: 1) Ask the model to specifically mention the medications prescribed, including their names, dosage, frequency, and duration. For example, instruct the model to include information like 'The doctor prescribed [medication name] at a dosage of [dosage] to be taken [frequency] for a duration of [duration].' 2) Instruct the model to include any concerns or questions raised by the patient regarding the medications and the doctor's response to them. For example, ask the model to include information like 'The patient expressed concerns about [specific concern] regarding the prescribed medication. The doctor reassured the patient by [doctor's response].' 3) Emphasize the importance of clear and concise instructions that guide the model to generate accurate and informative summaries. For example, instruct the model to 'Provide a clear and concise summary of the prescribed medications, including dosage, frequency, and duration, as well as any concerns or questions raised by the patient and the doctor's response to them.'\n",
      "3 EPOCH BEGIN--------------------------------------------------------------------------------------------------\n",
      "3 EPOCH BEGIN--------------------------------------------------------------------------------------------------\n",
      "3 EPOCH BEGIN--------------------------------------------------------------------------------------------------\n"
     ]
    },
    {
     "data": {
      "application/vnd.jupyter.widget-view+json": {
       "model_id": "d9ee0a362c8b4db88227005b556c9ba3",
       "version_major": 2,
       "version_minor": 0
      },
      "text/plain": [
       "Training:   0%|          | 0/1 [00:00<?, ?it/s]"
      ]
     },
     "metadata": {},
     "output_type": "display_data"
    },
    {
     "name": "stdout",
     "output_type": "stream",
     "text": [
      "------------------------------------------------------------------\n",
      "START NEW TRAINING STEP\n",
      "------------------------------------------------------------------\n",
      "training metrics: before training step\n"
     ]
    },
    {
     "data": {
      "application/vnd.jupyter.widget-view+json": {
       "model_id": "d3104aca1cc2413c9f5e1c1c445f0270",
       "version_major": 2,
       "version_minor": 0
      },
      "text/plain": [
       "Evaluation:   0%|          | 0/10 [00:00<?, ?it/s]"
      ]
     },
     "metadata": {},
     "output_type": "display_data"
    },
    {
     "name": "stdout",
     "output_type": "stream",
     "text": [
      "epoch: 3\n",
      "\t summary_rouge1 0.2307\n",
      "\t summary_rouge2 0.0962\n",
      "\t summary_rougeL 0.2307\n",
      "\t summary_meteor 0.3061\n",
      "\t summary_UMLS_term_f 0.5346\n",
      "\t summary_UMLS_cuis_f 0.4329\n",
      "training section: [7745, 7760, 7722, 7744, 7734, 7761, 7735, 7728, 7725, 7754]\n"
     ]
    },
    {
     "data": {
      "application/vnd.jupyter.widget-view+json": {
       "model_id": "240007fc6a87407a93b79c27dbefb6c3",
       "version_major": 2,
       "version_minor": 0
      },
      "text/plain": [
       "batch cal loss:   0%|          | 0/10 [00:00<?, ?it/s]"
      ]
     },
     "metadata": {},
     "output_type": "display_data"
    },
    {
     "name": "stdout",
     "output_type": "stream",
     "text": [
      "final suggestion in this step:  Emphasize the importance of clear and concise instructions that guide the model to generate accurate and informative summaries.\n",
      "training metrics: after training step\n"
     ]
    },
    {
     "data": {
      "application/vnd.jupyter.widget-view+json": {
       "model_id": "df4f3c9d01574f5fab0a3f7c59b6141f",
       "version_major": 2,
       "version_minor": 0
      },
      "text/plain": [
       "Evaluation:   0%|          | 0/10 [00:00<?, ?it/s]"
      ]
     },
     "metadata": {},
     "output_type": "display_data"
    },
    {
     "name": "stdout",
     "output_type": "stream",
     "text": [
      "epoch: 3\n",
      "\t summary_rouge1 0.2746\n",
      "\t summary_rouge2 0.1251\n",
      "\t summary_rougeL 0.2572\n",
      "\t summary_meteor 0.3652\n",
      "\t summary_UMLS_term_f 0.5583\n",
      "\t summary_UMLS_cuis_f 0.4268\n",
      "------------------------------------------------------------------\n",
      "END THIS TRAINING STEP\n",
      "------------------------------------------------------------------\n",
      "3 EPOCH END----------------------------------------------------------------------------------------------------\n",
      "3 EPOCH END----------------------------------------------------------------------------------------------------\n",
      "3 EPOCH END----------------------------------------------------------------------------------------------------\n",
      "----------------------------------------------------------------------------------------------------------------\n",
      "eval results on all TRAINING DATA for EPOCH 3\n",
      "----------------------------------------------------------------------------------------------------------------\n"
     ]
    },
    {
     "data": {
      "application/vnd.jupyter.widget-view+json": {
       "model_id": "1e2f440e813146749270e34ad5d2262b",
       "version_major": 2,
       "version_minor": 0
      },
      "text/plain": [
       "Evaluation:   0%|          | 0/50 [00:00<?, ?it/s]"
      ]
     },
     "metadata": {},
     "output_type": "display_data"
    },
    {
     "name": "stdout",
     "output_type": "stream",
     "text": [
      "epoch: 3\n",
      "\t summary_rouge1 0.207\n",
      "\t summary_rouge2 0.0637\n",
      "\t summary_rougeL 0.1929\n",
      "\t summary_meteor 0.2443\n",
      "\t summary_UMLS_term_f 0.499\n",
      "\t summary_UMLS_cuis_f 0.3862\n",
      "----------------------------------------------------------------------------------------------------------------\n",
      "eval results on all EVAL DATA for EPOCH 3\n",
      "----------------------------------------------------------------------------------------------------------------\n"
     ]
    },
    {
     "data": {
      "application/vnd.jupyter.widget-view+json": {
       "model_id": "df41d4847f2e4c0f94e107c6ae6a1a44",
       "version_major": 2,
       "version_minor": 0
      },
      "text/plain": [
       "Evaluation:   0%|          | 0/50 [00:00<?, ?it/s]"
      ]
     },
     "metadata": {},
     "output_type": "display_data"
    },
    {
     "name": "stdout",
     "output_type": "stream",
     "text": [
      "epoch: 3\n",
      "\t summary_rouge1 0.2144\n",
      "\t summary_rouge2 0.076\n",
      "\t summary_rougeL 0.2011\n",
      "\t summary_meteor 0.2621\n",
      "\t summary_UMLS_term_f 0.4649\n",
      "\t summary_UMLS_cuis_f 0.3699\n",
      "after curr epoch, the target_trainable_instruction is:\n",
      "Provide clear and concise instructions that guide the model to generate accurate and informative summaries of the prescribed medications, including dosage, frequency, and duration, as well as any concerns or questions raised by the patient and the doctor's response to them.\n",
      "4 EPOCH BEGIN--------------------------------------------------------------------------------------------------\n",
      "4 EPOCH BEGIN--------------------------------------------------------------------------------------------------\n",
      "4 EPOCH BEGIN--------------------------------------------------------------------------------------------------\n"
     ]
    },
    {
     "data": {
      "application/vnd.jupyter.widget-view+json": {
       "model_id": "459874aa369644e9ad9ad810f4f35efe",
       "version_major": 2,
       "version_minor": 0
      },
      "text/plain": [
       "Training:   0%|          | 0/1 [00:00<?, ?it/s]"
      ]
     },
     "metadata": {},
     "output_type": "display_data"
    },
    {
     "name": "stdout",
     "output_type": "stream",
     "text": [
      "------------------------------------------------------------------\n",
      "START NEW TRAINING STEP\n",
      "------------------------------------------------------------------\n",
      "training metrics: before training step\n"
     ]
    },
    {
     "data": {
      "application/vnd.jupyter.widget-view+json": {
       "model_id": "6c94b148a3f642d69d9852c69a49a1b9",
       "version_major": 2,
       "version_minor": 0
      },
      "text/plain": [
       "Evaluation:   0%|          | 0/10 [00:00<?, ?it/s]"
      ]
     },
     "metadata": {},
     "output_type": "display_data"
    },
    {
     "name": "stdout",
     "output_type": "stream",
     "text": [
      "epoch: 4\n",
      "\t summary_rouge1 0.2276\n",
      "\t summary_rouge2 0.089\n",
      "\t summary_rougeL 0.2012\n",
      "\t summary_meteor 0.2299\n",
      "\t summary_UMLS_term_f 0.5894\n",
      "\t summary_UMLS_cuis_f 0.4683\n",
      "training section: [7736, 7730, 7760, 7715, 7756, 7761, 7733, 7724, 7718, 7750]\n"
     ]
    },
    {
     "data": {
      "application/vnd.jupyter.widget-view+json": {
       "model_id": "6b92e90b16884736a519ed8c482febf9",
       "version_major": 2,
       "version_minor": 0
      },
      "text/plain": [
       "batch cal loss:   0%|          | 0/10 [00:00<?, ?it/s]"
      ]
     },
     "metadata": {},
     "output_type": "display_data"
    },
    {
     "name": "stdout",
     "output_type": "stream",
     "text": [
      "final suggestion in this step:  Revise the instruction to explicitly instruct the model to include the prescribed medication, dosage, frequency, and duration in the summary. Instruct the model to also include any concerns or questions raised by the patient and the doctor's response to them. Emphasize the importance of providing accurate and informative summaries of the prescribed medications.\n",
      "training metrics: after training step\n"
     ]
    },
    {
     "data": {
      "application/vnd.jupyter.widget-view+json": {
       "model_id": "713e9e393c9d4845abff5a9f50db89cb",
       "version_major": 2,
       "version_minor": 0
      },
      "text/plain": [
       "Evaluation:   0%|          | 0/10 [00:00<?, ?it/s]"
      ]
     },
     "metadata": {},
     "output_type": "display_data"
    },
    {
     "name": "stdout",
     "output_type": "stream",
     "text": [
      "epoch: 4\n",
      "\t summary_rouge1 0.2192\n",
      "\t summary_rouge2 0.082\n",
      "\t summary_rougeL 0.2072\n",
      "\t summary_meteor 0.253\n",
      "\t summary_UMLS_term_f 0.5567\n",
      "\t summary_UMLS_cuis_f 0.383\n",
      "------------------------------------------------------------------\n",
      "END THIS TRAINING STEP\n",
      "------------------------------------------------------------------\n",
      "4 EPOCH END----------------------------------------------------------------------------------------------------\n",
      "4 EPOCH END----------------------------------------------------------------------------------------------------\n",
      "4 EPOCH END----------------------------------------------------------------------------------------------------\n",
      "----------------------------------------------------------------------------------------------------------------\n",
      "eval results on all TRAINING DATA for EPOCH 4\n",
      "----------------------------------------------------------------------------------------------------------------\n"
     ]
    },
    {
     "data": {
      "application/vnd.jupyter.widget-view+json": {
       "model_id": "7808c12421c8445aa6883b46aceea8b6",
       "version_major": 2,
       "version_minor": 0
      },
      "text/plain": [
       "Evaluation:   0%|          | 0/50 [00:00<?, ?it/s]"
      ]
     },
     "metadata": {},
     "output_type": "display_data"
    },
    {
     "name": "stdout",
     "output_type": "stream",
     "text": [
      "epoch: 4\n",
      "\t summary_rouge1 0.1964\n",
      "\t summary_rouge2 0.0641\n",
      "\t summary_rougeL 0.1823\n",
      "\t summary_meteor 0.251\n",
      "\t summary_UMLS_term_f 0.4901\n",
      "\t summary_UMLS_cuis_f 0.3685\n",
      "----------------------------------------------------------------------------------------------------------------\n",
      "eval results on all EVAL DATA for EPOCH 4\n",
      "----------------------------------------------------------------------------------------------------------------\n"
     ]
    },
    {
     "data": {
      "application/vnd.jupyter.widget-view+json": {
       "model_id": "268ffa6797dd422abea5bd6d0974e114",
       "version_major": 2,
       "version_minor": 0
      },
      "text/plain": [
       "Evaluation:   0%|          | 0/50 [00:00<?, ?it/s]"
      ]
     },
     "metadata": {},
     "output_type": "display_data"
    },
    {
     "name": "stdout",
     "output_type": "stream",
     "text": [
      "epoch: 4\n",
      "\t summary_rouge1 0.1933\n",
      "\t summary_rouge2 0.0647\n",
      "\t summary_rougeL 0.1858\n",
      "\t summary_meteor 0.2362\n",
      "\t summary_UMLS_term_f 0.4151\n",
      "\t summary_UMLS_cuis_f 0.3074\n",
      "after curr epoch, the target_trainable_instruction is:\n",
      "Provide clear and concise instructions that guide the model to generate accurate and informative summaries of the prescribed medications. Instruct the model to include the prescribed medication, dosage, frequency, and duration in the summary. Additionally, instruct the model to include any concerns or questions raised by the patient and the doctor's response to them. Emphasize the importance of excluding irrelevant details and focusing on the main point of the doctor's response.\n",
      "5 EPOCH BEGIN--------------------------------------------------------------------------------------------------\n",
      "5 EPOCH BEGIN--------------------------------------------------------------------------------------------------\n",
      "5 EPOCH BEGIN--------------------------------------------------------------------------------------------------\n"
     ]
    },
    {
     "data": {
      "application/vnd.jupyter.widget-view+json": {
       "model_id": "dd209dbf181b4d0ab3fd9786739da31a",
       "version_major": 2,
       "version_minor": 0
      },
      "text/plain": [
       "Training:   0%|          | 0/1 [00:00<?, ?it/s]"
      ]
     },
     "metadata": {},
     "output_type": "display_data"
    },
    {
     "name": "stdout",
     "output_type": "stream",
     "text": [
      "------------------------------------------------------------------\n",
      "START NEW TRAINING STEP\n",
      "------------------------------------------------------------------\n",
      "training metrics: before training step\n"
     ]
    },
    {
     "data": {
      "application/vnd.jupyter.widget-view+json": {
       "model_id": "ad021fa8333d4085bbf083ac08d7d060",
       "version_major": 2,
       "version_minor": 0
      },
      "text/plain": [
       "Evaluation:   0%|          | 0/10 [00:00<?, ?it/s]"
      ]
     },
     "metadata": {},
     "output_type": "display_data"
    },
    {
     "name": "stdout",
     "output_type": "stream",
     "text": [
      "epoch: 5\n",
      "\t summary_rouge1 0.2054\n",
      "\t summary_rouge2 0.0694\n",
      "\t summary_rougeL 0.1839\n",
      "\t summary_meteor 0.2774\n",
      "\t summary_UMLS_term_f 0.451\n",
      "\t summary_UMLS_cuis_f 0.3085\n",
      "training section: [7758, 7736, 7730, 7748, 7737, 7720, 7734, 7743, 7742, 7713]\n"
     ]
    },
    {
     "data": {
      "application/vnd.jupyter.widget-view+json": {
       "model_id": "d1d6885cf3e14f45bfdc42ee47729e93",
       "version_major": 2,
       "version_minor": 0
      },
      "text/plain": [
       "batch cal loss:   0%|          | 0/10 [00:00<?, ?it/s]"
      ]
     },
     "metadata": {},
     "output_type": "display_data"
    },
    {
     "name": "stdout",
     "output_type": "stream",
     "text": [
      "final suggestion in this step:  Revise the instruction to explicitly instruct the model to include the following information in the summary: 1) The prescribed medication, 2) The dosage of the medication, 3) The frequency of taking the medication, 4) The duration of the medication. Additionally, instruct the model to include any concerns or questions raised by the patient and the doctor's response to them. Emphasize the importance of excluding irrelevant details and focusing on the main point of the doctor's response.\n",
      "training metrics: after training step\n"
     ]
    },
    {
     "data": {
      "application/vnd.jupyter.widget-view+json": {
       "model_id": "37a07820e87047548265b15869adef17",
       "version_major": 2,
       "version_minor": 0
      },
      "text/plain": [
       "Evaluation:   0%|          | 0/10 [00:00<?, ?it/s]"
      ]
     },
     "metadata": {},
     "output_type": "display_data"
    },
    {
     "name": "stdout",
     "output_type": "stream",
     "text": [
      "epoch: 5\n",
      "\t summary_rouge1 0.2062\n",
      "\t summary_rouge2 0.0694\n",
      "\t summary_rougeL 0.1844\n",
      "\t summary_meteor 0.2782\n",
      "\t summary_UMLS_term_f 0.451\n",
      "\t summary_UMLS_cuis_f 0.3085\n",
      "------------------------------------------------------------------\n",
      "END THIS TRAINING STEP\n",
      "------------------------------------------------------------------\n",
      "5 EPOCH END----------------------------------------------------------------------------------------------------\n",
      "5 EPOCH END----------------------------------------------------------------------------------------------------\n",
      "5 EPOCH END----------------------------------------------------------------------------------------------------\n",
      "----------------------------------------------------------------------------------------------------------------\n",
      "eval results on all TRAINING DATA for EPOCH 5\n",
      "----------------------------------------------------------------------------------------------------------------\n"
     ]
    },
    {
     "data": {
      "application/vnd.jupyter.widget-view+json": {
       "model_id": "555303474e714a72a6c54230db1dee68",
       "version_major": 2,
       "version_minor": 0
      },
      "text/plain": [
       "Evaluation:   0%|          | 0/50 [00:00<?, ?it/s]"
      ]
     },
     "metadata": {},
     "output_type": "display_data"
    },
    {
     "name": "stdout",
     "output_type": "stream",
     "text": [
      "epoch: 5\n",
      "\t summary_rouge1 0.1968\n",
      "\t summary_rouge2 0.0636\n",
      "\t summary_rougeL 0.1843\n",
      "\t summary_meteor 0.2523\n",
      "\t summary_UMLS_term_f 0.4901\n",
      "\t summary_UMLS_cuis_f 0.3688\n",
      "----------------------------------------------------------------------------------------------------------------\n",
      "eval results on all EVAL DATA for EPOCH 5\n",
      "----------------------------------------------------------------------------------------------------------------\n"
     ]
    },
    {
     "data": {
      "application/vnd.jupyter.widget-view+json": {
       "model_id": "d023885d754741c2900a62c0845c6813",
       "version_major": 2,
       "version_minor": 0
      },
      "text/plain": [
       "Evaluation:   0%|          | 0/50 [00:00<?, ?it/s]"
      ]
     },
     "metadata": {},
     "output_type": "display_data"
    },
    {
     "name": "stdout",
     "output_type": "stream",
     "text": [
      "epoch: 5\n",
      "\t summary_rouge1 0.1933\n",
      "\t summary_rouge2 0.0651\n",
      "\t summary_rougeL 0.1857\n",
      "\t summary_meteor 0.2328\n",
      "\t summary_UMLS_term_f 0.4135\n",
      "\t summary_UMLS_cuis_f 0.3054\n",
      "after curr epoch, the target_trainable_instruction is:\n",
      "Provide clear and concise instructions that guide the model to generate accurate and informative summaries of the prescribed medications. Instruct the model to include the prescribed medication, dosage, frequency, and duration in the summary. Additionally, instruct the model to include any concerns or questions raised by the patient and the doctor's response to them. Emphasize the importance of excluding irrelevant details and focusing on the main point of the doctor's response.\n",
      "6 EPOCH BEGIN--------------------------------------------------------------------------------------------------\n",
      "6 EPOCH BEGIN--------------------------------------------------------------------------------------------------\n",
      "6 EPOCH BEGIN--------------------------------------------------------------------------------------------------\n"
     ]
    },
    {
     "data": {
      "application/vnd.jupyter.widget-view+json": {
       "model_id": "7b71024225fb4932bca5460e8c0b2971",
       "version_major": 2,
       "version_minor": 0
      },
      "text/plain": [
       "Training:   0%|          | 0/1 [00:00<?, ?it/s]"
      ]
     },
     "metadata": {},
     "output_type": "display_data"
    },
    {
     "name": "stdout",
     "output_type": "stream",
     "text": [
      "------------------------------------------------------------------\n",
      "START NEW TRAINING STEP\n",
      "------------------------------------------------------------------\n",
      "training metrics: before training step\n"
     ]
    },
    {
     "data": {
      "application/vnd.jupyter.widget-view+json": {
       "model_id": "0ea1437a9e63418ba288de9459e3454f",
       "version_major": 2,
       "version_minor": 0
      },
      "text/plain": [
       "Evaluation:   0%|          | 0/10 [00:00<?, ?it/s]"
      ]
     },
     "metadata": {},
     "output_type": "display_data"
    },
    {
     "name": "stdout",
     "output_type": "stream",
     "text": [
      "epoch: 6\n",
      "\t summary_rouge1 0.1765\n",
      "\t summary_rouge2 0.0335\n",
      "\t summary_rougeL 0.1629\n",
      "\t summary_meteor 0.1791\n",
      "\t summary_UMLS_term_f 0.474\n",
      "\t summary_UMLS_cuis_f 0.3841\n",
      "training section: [7721, 7759, 7753, 7754, 7755, 7762, 7756, 7733, 7745, 7716]\n"
     ]
    },
    {
     "data": {
      "application/vnd.jupyter.widget-view+json": {
       "model_id": "0d0500936c9e4c97bc9866659f08d0cc",
       "version_major": 2,
       "version_minor": 0
      },
      "text/plain": [
       "batch cal loss:   0%|          | 0/10 [00:00<?, ?it/s]"
      ]
     },
     "metadata": {},
     "output_type": "display_data"
    },
    {
     "name": "stdout",
     "output_type": "stream",
     "text": [
      "final suggestion in this step:  Revise the instruction to explicitly instruct the model to include the prescribed medication, dosage, frequency, and duration in the summary. Additionally, instruct the model to exclude irrelevant details and focus on the main point of the doctor's response. Emphasize the importance of providing concise and accurate information in the summary.\n",
      "training metrics: after training step\n"
     ]
    },
    {
     "data": {
      "application/vnd.jupyter.widget-view+json": {
       "model_id": "dc85fecf190b48979695dbaeb5e3b4c5",
       "version_major": 2,
       "version_minor": 0
      },
      "text/plain": [
       "Evaluation:   0%|          | 0/10 [00:00<?, ?it/s]"
      ]
     },
     "metadata": {},
     "output_type": "display_data"
    },
    {
     "name": "stdout",
     "output_type": "stream",
     "text": [
      "epoch: 6\n",
      "\t summary_rouge1 0.2228\n",
      "\t summary_rouge2 0.0694\n",
      "\t summary_rougeL 0.2125\n",
      "\t summary_meteor 0.2357\n",
      "\t summary_UMLS_term_f 0.587\n",
      "\t summary_UMLS_cuis_f 0.5191\n",
      "------------------------------------------------------------------\n",
      "END THIS TRAINING STEP\n",
      "------------------------------------------------------------------\n",
      "6 EPOCH END----------------------------------------------------------------------------------------------------\n",
      "6 EPOCH END----------------------------------------------------------------------------------------------------\n",
      "6 EPOCH END----------------------------------------------------------------------------------------------------\n",
      "----------------------------------------------------------------------------------------------------------------\n",
      "eval results on all TRAINING DATA for EPOCH 6\n",
      "----------------------------------------------------------------------------------------------------------------\n"
     ]
    },
    {
     "data": {
      "application/vnd.jupyter.widget-view+json": {
       "model_id": "19d11a7e02fd49cab5da61ad1569e12a",
       "version_major": 2,
       "version_minor": 0
      },
      "text/plain": [
       "Evaluation:   0%|          | 0/50 [00:00<?, ?it/s]"
      ]
     },
     "metadata": {},
     "output_type": "display_data"
    },
    {
     "name": "stdout",
     "output_type": "stream",
     "text": [
      "epoch: 6\n",
      "\t summary_rouge1 0.2648\n",
      "\t summary_rouge2 0.1011\n",
      "\t summary_rougeL 0.2481\n",
      "\t summary_meteor 0.2982\n",
      "\t summary_UMLS_term_f 0.5734\n",
      "\t summary_UMLS_cuis_f 0.4563\n",
      "----------------------------------------------------------------------------------------------------------------\n",
      "eval results on all EVAL DATA for EPOCH 6\n",
      "----------------------------------------------------------------------------------------------------------------\n"
     ]
    },
    {
     "data": {
      "application/vnd.jupyter.widget-view+json": {
       "model_id": "d5a1e9d94efd4d3b88220705ff575613",
       "version_major": 2,
       "version_minor": 0
      },
      "text/plain": [
       "Evaluation:   0%|          | 0/50 [00:00<?, ?it/s]"
      ]
     },
     "metadata": {},
     "output_type": "display_data"
    },
    {
     "name": "stdout",
     "output_type": "stream",
     "text": [
      "epoch: 6\n",
      "\t summary_rouge1 0.2593\n",
      "\t summary_rouge2 0.0918\n",
      "\t summary_rougeL 0.2462\n",
      "\t summary_meteor 0.297\n",
      "\t summary_UMLS_term_f 0.4929\n",
      "\t summary_UMLS_cuis_f 0.3747\n",
      "after curr epoch, the target_trainable_instruction is:\n",
      "Generate a summary that includes the prescribed medication, dosage, frequency, and duration. Instruct the model to exclude irrelevant details and focus on the main point of the doctor's response. Emphasize the importance of providing concise and accurate information in the summary.\n",
      "7 EPOCH BEGIN--------------------------------------------------------------------------------------------------\n",
      "7 EPOCH BEGIN--------------------------------------------------------------------------------------------------\n",
      "7 EPOCH BEGIN--------------------------------------------------------------------------------------------------\n"
     ]
    },
    {
     "data": {
      "application/vnd.jupyter.widget-view+json": {
       "model_id": "06420b8a37284106b736f2a51166725a",
       "version_major": 2,
       "version_minor": 0
      },
      "text/plain": [
       "Training:   0%|          | 0/1 [00:00<?, ?it/s]"
      ]
     },
     "metadata": {},
     "output_type": "display_data"
    },
    {
     "name": "stdout",
     "output_type": "stream",
     "text": [
      "------------------------------------------------------------------\n",
      "START NEW TRAINING STEP\n",
      "------------------------------------------------------------------\n",
      "training metrics: before training step\n"
     ]
    },
    {
     "data": {
      "application/vnd.jupyter.widget-view+json": {
       "model_id": "63a2bcc4048c4ac9a46bb3f5a11e66cc",
       "version_major": 2,
       "version_minor": 0
      },
      "text/plain": [
       "Evaluation:   0%|          | 0/10 [00:00<?, ?it/s]"
      ]
     },
     "metadata": {},
     "output_type": "display_data"
    },
    {
     "name": "stdout",
     "output_type": "stream",
     "text": [
      "epoch: 7\n",
      "\t summary_rouge1 0.2118\n",
      "\t summary_rouge2 0.0828\n",
      "\t summary_rougeL 0.1979\n",
      "\t summary_meteor 0.285\n",
      "\t summary_UMLS_term_f 0.5518\n",
      "\t summary_UMLS_cuis_f 0.4029\n",
      "training section: [7722, 7749, 7714, 7731, 7740, 7716, 7718, 7739, 7724, 7721]\n"
     ]
    },
    {
     "data": {
      "application/vnd.jupyter.widget-view+json": {
       "model_id": "6477a24a3c09492c8f93d3a203c6b5e8",
       "version_major": 2,
       "version_minor": 0
      },
      "text/plain": [
       "batch cal loss:   0%|          | 0/10 [00:00<?, ?it/s]"
      ]
     },
     "metadata": {},
     "output_type": "display_data"
    },
    {
     "name": "stdout",
     "output_type": "stream",
     "text": [
      "final suggestion in this step:  Generate a summary that includes the prescribed medication, dosage, frequency, and duration. Instruct the model to exclude irrelevant details and focus on the main point of the doctor's response. Emphasize the importance of providing concise and accurate information in the summary.\n",
      "training metrics: after training step\n"
     ]
    },
    {
     "data": {
      "application/vnd.jupyter.widget-view+json": {
       "model_id": "b72d79e88a2d4bdf9f9389e92f414f20",
       "version_major": 2,
       "version_minor": 0
      },
      "text/plain": [
       "Evaluation:   0%|          | 0/10 [00:00<?, ?it/s]"
      ]
     },
     "metadata": {},
     "output_type": "display_data"
    },
    {
     "name": "stdout",
     "output_type": "stream",
     "text": [
      "epoch: 7\n",
      "\t summary_rouge1 0.2118\n",
      "\t summary_rouge2 0.0828\n",
      "\t summary_rougeL 0.1979\n",
      "\t summary_meteor 0.285\n",
      "\t summary_UMLS_term_f 0.5518\n",
      "\t summary_UMLS_cuis_f 0.4029\n",
      "------------------------------------------------------------------\n",
      "END THIS TRAINING STEP\n",
      "------------------------------------------------------------------\n",
      "7 EPOCH END----------------------------------------------------------------------------------------------------\n",
      "7 EPOCH END----------------------------------------------------------------------------------------------------\n",
      "7 EPOCH END----------------------------------------------------------------------------------------------------\n",
      "----------------------------------------------------------------------------------------------------------------\n",
      "eval results on all TRAINING DATA for EPOCH 7\n",
      "----------------------------------------------------------------------------------------------------------------\n"
     ]
    },
    {
     "data": {
      "application/vnd.jupyter.widget-view+json": {
       "model_id": "cbc65849070b4bfb9c9267be0b3b811c",
       "version_major": 2,
       "version_minor": 0
      },
      "text/plain": [
       "Evaluation:   0%|          | 0/50 [00:00<?, ?it/s]"
      ]
     },
     "metadata": {},
     "output_type": "display_data"
    },
    {
     "name": "stdout",
     "output_type": "stream",
     "text": [
      "epoch: 7\n",
      "\t summary_rouge1 0.2649\n",
      "\t summary_rouge2 0.1013\n",
      "\t summary_rougeL 0.2483\n",
      "\t summary_meteor 0.2981\n",
      "\t summary_UMLS_term_f 0.5714\n",
      "\t summary_UMLS_cuis_f 0.456\n",
      "----------------------------------------------------------------------------------------------------------------\n",
      "eval results on all EVAL DATA for EPOCH 7\n",
      "----------------------------------------------------------------------------------------------------------------\n"
     ]
    },
    {
     "data": {
      "application/vnd.jupyter.widget-view+json": {
       "model_id": "e215b34aa16141f493b71cf82d680b13",
       "version_major": 2,
       "version_minor": 0
      },
      "text/plain": [
       "Evaluation:   0%|          | 0/50 [00:00<?, ?it/s]"
      ]
     },
     "metadata": {},
     "output_type": "display_data"
    },
    {
     "name": "stdout",
     "output_type": "stream",
     "text": [
      "epoch: 7\n",
      "\t summary_rouge1 0.2593\n",
      "\t summary_rouge2 0.0918\n",
      "\t summary_rougeL 0.2462\n",
      "\t summary_meteor 0.297\n",
      "\t summary_UMLS_term_f 0.4929\n",
      "\t summary_UMLS_cuis_f 0.3747\n",
      "after curr epoch, the target_trainable_instruction is:\n",
      "Generate a summary that includes the prescribed medication, dosage, frequency, and duration. Instruct the model to exclude irrelevant details and focus on the main point of the doctor's response. Emphasize the importance of providing concise and accurate information in the summary.\n",
      "8 EPOCH BEGIN--------------------------------------------------------------------------------------------------\n",
      "8 EPOCH BEGIN--------------------------------------------------------------------------------------------------\n",
      "8 EPOCH BEGIN--------------------------------------------------------------------------------------------------\n"
     ]
    },
    {
     "data": {
      "application/vnd.jupyter.widget-view+json": {
       "model_id": "4a86c0bcc1184ea8bf070b275138bc3d",
       "version_major": 2,
       "version_minor": 0
      },
      "text/plain": [
       "Training:   0%|          | 0/1 [00:00<?, ?it/s]"
      ]
     },
     "metadata": {},
     "output_type": "display_data"
    },
    {
     "name": "stdout",
     "output_type": "stream",
     "text": [
      "------------------------------------------------------------------\n",
      "START NEW TRAINING STEP\n",
      "------------------------------------------------------------------\n",
      "training metrics: before training step\n"
     ]
    },
    {
     "data": {
      "application/vnd.jupyter.widget-view+json": {
       "model_id": "e772cab346ae452ab2f7f8b4da9bbde5",
       "version_major": 2,
       "version_minor": 0
      },
      "text/plain": [
       "Evaluation:   0%|          | 0/10 [00:00<?, ?it/s]"
      ]
     },
     "metadata": {},
     "output_type": "display_data"
    },
    {
     "name": "stdout",
     "output_type": "stream",
     "text": [
      "epoch: 8\n",
      "\t summary_rouge1 0.2773\n",
      "\t summary_rouge2 0.1008\n",
      "\t summary_rougeL 0.2642\n",
      "\t summary_meteor 0.276\n",
      "\t summary_UMLS_term_f 0.6169\n",
      "\t summary_UMLS_cuis_f 0.4913\n",
      "training section: [7731, 7749, 7740, 7742, 7730, 7747, 7759, 7718, 7728, 7743]\n"
     ]
    },
    {
     "data": {
      "application/vnd.jupyter.widget-view+json": {
       "model_id": "853fc4ade7fe4320bd93009e353eb74b",
       "version_major": 2,
       "version_minor": 0
      },
      "text/plain": [
       "batch cal loss:   0%|          | 0/10 [00:00<?, ?it/s]"
      ]
     },
     "metadata": {},
     "output_type": "display_data"
    },
    {
     "name": "stdout",
     "output_type": "stream",
     "text": [
      "final suggestion in this step:  Generate a summary that includes the prescribed medication, dosage, frequency, and duration. Instruct the model to exclude irrelevant details and focus on the main point of the doctor's response. Emphasize the importance of providing concise and accurate information in the summary. Specifically, instruct the model to extract the medication name, dosage, frequency, and duration mentioned by the doctor. Encourage the model to paraphrase the information in a concise and clear manner. Remind the model to exclude any unnecessary details or digressions from the doctor's response.\n",
      "training metrics: after training step\n"
     ]
    },
    {
     "data": {
      "application/vnd.jupyter.widget-view+json": {
       "model_id": "bcb307df922b42d68e7d12960dae1262",
       "version_major": 2,
       "version_minor": 0
      },
      "text/plain": [
       "Evaluation:   0%|          | 0/10 [00:00<?, ?it/s]"
      ]
     },
     "metadata": {},
     "output_type": "display_data"
    },
    {
     "name": "stdout",
     "output_type": "stream",
     "text": [
      "epoch: 8\n",
      "\t summary_rouge1 0.2379\n",
      "\t summary_rouge2 0.0913\n",
      "\t summary_rougeL 0.2286\n",
      "\t summary_meteor 0.2945\n",
      "\t summary_UMLS_term_f 0.59\n",
      "\t summary_UMLS_cuis_f 0.5064\n",
      "------------------------------------------------------------------\n",
      "END THIS TRAINING STEP\n",
      "------------------------------------------------------------------\n",
      "8 EPOCH END----------------------------------------------------------------------------------------------------\n",
      "8 EPOCH END----------------------------------------------------------------------------------------------------\n",
      "8 EPOCH END----------------------------------------------------------------------------------------------------\n",
      "----------------------------------------------------------------------------------------------------------------\n",
      "eval results on all TRAINING DATA for EPOCH 8\n",
      "----------------------------------------------------------------------------------------------------------------\n"
     ]
    },
    {
     "data": {
      "application/vnd.jupyter.widget-view+json": {
       "model_id": "a386f5b0e4074c479d9d3bbd92d2d832",
       "version_major": 2,
       "version_minor": 0
      },
      "text/plain": [
       "Evaluation:   0%|          | 0/50 [00:00<?, ?it/s]"
      ]
     },
     "metadata": {},
     "output_type": "display_data"
    },
    {
     "name": "stdout",
     "output_type": "stream",
     "text": [
      "epoch: 8\n",
      "\t summary_rouge1 0.2525\n",
      "\t summary_rouge2 0.0998\n",
      "\t summary_rougeL 0.2427\n",
      "\t summary_meteor 0.2938\n",
      "\t summary_UMLS_term_f 0.5465\n",
      "\t summary_UMLS_cuis_f 0.4196\n",
      "----------------------------------------------------------------------------------------------------------------\n",
      "eval results on all EVAL DATA for EPOCH 8\n",
      "----------------------------------------------------------------------------------------------------------------\n"
     ]
    },
    {
     "data": {
      "application/vnd.jupyter.widget-view+json": {
       "model_id": "dbb692d4e9fd4b93ab20cc25a374fc8e",
       "version_major": 2,
       "version_minor": 0
      },
      "text/plain": [
       "Evaluation:   0%|          | 0/50 [00:00<?, ?it/s]"
      ]
     },
     "metadata": {},
     "output_type": "display_data"
    },
    {
     "name": "stdout",
     "output_type": "stream",
     "text": [
      "epoch: 8\n",
      "\t summary_rouge1 0.2401\n",
      "\t summary_rouge2 0.0874\n",
      "\t summary_rougeL 0.2288\n",
      "\t summary_meteor 0.2816\n",
      "\t summary_UMLS_term_f 0.4868\n",
      "\t summary_UMLS_cuis_f 0.379\n",
      "after curr epoch, the target_trainable_instruction is:\n",
      "Generate a summary that includes the prescribed medication, dosage, frequency, and duration. Instruct the model to exclude irrelevant details and focus on the main point of the doctor's response. Emphasize the importance of providing concise and accurate information in the summary. Specifically, instruct the model to extract the medication name, dosage, frequency, and duration mentioned by the doctor. Encourage the model to paraphrase the information in a concise and clear manner. Remind the model to exclude any unnecessary details or digressions from the doctor's response.\n",
      "9 EPOCH BEGIN--------------------------------------------------------------------------------------------------\n",
      "9 EPOCH BEGIN--------------------------------------------------------------------------------------------------\n",
      "9 EPOCH BEGIN--------------------------------------------------------------------------------------------------\n"
     ]
    },
    {
     "data": {
      "application/vnd.jupyter.widget-view+json": {
       "model_id": "c6d7b6fab14e48a098d76f75d4d6048e",
       "version_major": 2,
       "version_minor": 0
      },
      "text/plain": [
       "Training:   0%|          | 0/1 [00:00<?, ?it/s]"
      ]
     },
     "metadata": {},
     "output_type": "display_data"
    },
    {
     "name": "stdout",
     "output_type": "stream",
     "text": [
      "------------------------------------------------------------------\n",
      "START NEW TRAINING STEP\n",
      "------------------------------------------------------------------\n",
      "training metrics: before training step\n"
     ]
    },
    {
     "data": {
      "application/vnd.jupyter.widget-view+json": {
       "model_id": "a498dabe14134bdb81ae67badd289b53",
       "version_major": 2,
       "version_minor": 0
      },
      "text/plain": [
       "Evaluation:   0%|          | 0/10 [00:00<?, ?it/s]"
      ]
     },
     "metadata": {},
     "output_type": "display_data"
    },
    {
     "name": "stdout",
     "output_type": "stream",
     "text": [
      "epoch: 9\n",
      "\t summary_rouge1 0.222\n",
      "\t summary_rouge2 0.0743\n",
      "\t summary_rougeL 0.2151\n",
      "\t summary_meteor 0.2269\n",
      "\t summary_UMLS_term_f 0.5709\n",
      "\t summary_UMLS_cuis_f 0.493\n",
      "training section: [7759, 7737, 7735, 7749, 7727, 7724, 7736, 7714, 7738, 7750]\n"
     ]
    },
    {
     "data": {
      "application/vnd.jupyter.widget-view+json": {
       "model_id": "3d34c85886144b4e917a36b1d35ed065",
       "version_major": 2,
       "version_minor": 0
      },
      "text/plain": [
       "batch cal loss:   0%|          | 0/10 [00:00<?, ?it/s]"
      ]
     },
     "metadata": {},
     "output_type": "display_data"
    },
    {
     "name": "stdout",
     "output_type": "stream",
     "text": [
      "final suggestion in this step:  Generate a concise summary that includes the medication name, dosage, frequency, and duration mentioned by the doctor. Instruct the model to paraphrase the information in a clear and concise manner. Emphasize the importance of excluding any irrelevant details or digressions from the doctor's response. Specifically, instruct the model to extract and include the medication name, dosage, frequency, and duration mentioned by the doctor in the summary.\n",
      "training metrics: after training step\n"
     ]
    },
    {
     "data": {
      "application/vnd.jupyter.widget-view+json": {
       "model_id": "4b3b40e9cf7d44a5a34f0123a377a7d7",
       "version_major": 2,
       "version_minor": 0
      },
      "text/plain": [
       "Evaluation:   0%|          | 0/10 [00:00<?, ?it/s]"
      ]
     },
     "metadata": {},
     "output_type": "display_data"
    },
    {
     "name": "stdout",
     "output_type": "stream",
     "text": [
      "epoch: 9\n",
      "\t summary_rouge1 0.26\n",
      "\t summary_rouge2 0.1118\n",
      "\t summary_rougeL 0.252\n",
      "\t summary_meteor 0.2794\n",
      "\t summary_UMLS_term_f 0.6028\n",
      "\t summary_UMLS_cuis_f 0.523\n",
      "------------------------------------------------------------------\n",
      "END THIS TRAINING STEP\n",
      "------------------------------------------------------------------\n",
      "9 EPOCH END----------------------------------------------------------------------------------------------------\n",
      "9 EPOCH END----------------------------------------------------------------------------------------------------\n",
      "9 EPOCH END----------------------------------------------------------------------------------------------------\n",
      "----------------------------------------------------------------------------------------------------------------\n",
      "eval results on all TRAINING DATA for EPOCH 9\n",
      "----------------------------------------------------------------------------------------------------------------\n"
     ]
    },
    {
     "data": {
      "application/vnd.jupyter.widget-view+json": {
       "model_id": "7c8df1483ece469a815c9966b766cb04",
       "version_major": 2,
       "version_minor": 0
      },
      "text/plain": [
       "Evaluation:   0%|          | 0/50 [00:00<?, ?it/s]"
      ]
     },
     "metadata": {},
     "output_type": "display_data"
    },
    {
     "name": "stdout",
     "output_type": "stream",
     "text": [
      "epoch: 9\n",
      "\t summary_rouge1 0.2648\n",
      "\t summary_rouge2 0.1183\n",
      "\t summary_rougeL 0.2543\n",
      "\t summary_meteor 0.2861\n",
      "\t summary_UMLS_term_f 0.6032\n",
      "\t summary_UMLS_cuis_f 0.5083\n",
      "----------------------------------------------------------------------------------------------------------------\n",
      "eval results on all EVAL DATA for EPOCH 9\n",
      "----------------------------------------------------------------------------------------------------------------\n"
     ]
    },
    {
     "data": {
      "application/vnd.jupyter.widget-view+json": {
       "model_id": "94715e265c154b2ebaf9dcff594be0b0",
       "version_major": 2,
       "version_minor": 0
      },
      "text/plain": [
       "Evaluation:   0%|          | 0/50 [00:00<?, ?it/s]"
      ]
     },
     "metadata": {},
     "output_type": "display_data"
    },
    {
     "name": "stdout",
     "output_type": "stream",
     "text": [
      "epoch: 9\n",
      "\t summary_rouge1 0.2684\n",
      "\t summary_rouge2 0.1122\n",
      "\t summary_rougeL 0.2606\n",
      "\t summary_meteor 0.2955\n",
      "\t summary_UMLS_term_f 0.5101\n",
      "\t summary_UMLS_cuis_f 0.4287\n",
      "after curr epoch, the target_trainable_instruction is:\n",
      "Generate a concise summary that includes the medication name, dosage, frequency, and duration mentioned by the doctor. Instruct the model to paraphrase the information in a clear and concise manner. Emphasize the importance of excluding any irrelevant details or digressions from the doctor's response. Specifically, instruct the model to extract and include the medication name, dosage, frequency, and duration mentioned by the doctor in the summary.\n",
      "10 EPOCH BEGIN--------------------------------------------------------------------------------------------------\n",
      "10 EPOCH BEGIN--------------------------------------------------------------------------------------------------\n",
      "10 EPOCH BEGIN--------------------------------------------------------------------------------------------------\n"
     ]
    },
    {
     "data": {
      "application/vnd.jupyter.widget-view+json": {
       "model_id": "b15b320e7efa48bebc8d230dcb7b93ab",
       "version_major": 2,
       "version_minor": 0
      },
      "text/plain": [
       "Training:   0%|          | 0/1 [00:00<?, ?it/s]"
      ]
     },
     "metadata": {},
     "output_type": "display_data"
    },
    {
     "name": "stdout",
     "output_type": "stream",
     "text": [
      "------------------------------------------------------------------\n",
      "START NEW TRAINING STEP\n",
      "------------------------------------------------------------------\n",
      "training metrics: before training step\n"
     ]
    },
    {
     "data": {
      "application/vnd.jupyter.widget-view+json": {
       "model_id": "fcb2f59e48954783b5af007e4be045f0",
       "version_major": 2,
       "version_minor": 0
      },
      "text/plain": [
       "Evaluation:   0%|          | 0/10 [00:00<?, ?it/s]"
      ]
     },
     "metadata": {},
     "output_type": "display_data"
    },
    {
     "name": "stdout",
     "output_type": "stream",
     "text": [
      "epoch: 10\n",
      "\t summary_rouge1 0.2315\n",
      "\t summary_rouge2 0.0717\n",
      "\t summary_rougeL 0.2092\n",
      "\t summary_meteor 0.2395\n",
      "\t summary_UMLS_term_f 0.6633\n",
      "\t summary_UMLS_cuis_f 0.5338\n",
      "training section: [7720, 7762, 7752, 7756, 7731, 7714, 7745, 7753, 7757, 7758]\n"
     ]
    },
    {
     "data": {
      "application/vnd.jupyter.widget-view+json": {
       "model_id": "7728e929bcb94138abee93877406e4f2",
       "version_major": 2,
       "version_minor": 0
      },
      "text/plain": [
       "batch cal loss:   0%|          | 0/10 [00:00<?, ?it/s]"
      ]
     },
     "metadata": {},
     "output_type": "display_data"
    },
    {
     "name": "stdout",
     "output_type": "stream",
     "text": [
      "final suggestion in this step:  Revise the instruction to explicitly instruct the model to extract and include the medication name, dosage, frequency, and duration mentioned by the doctor. Emphasize the importance of excluding any irrelevant details or digressions from the doctor's response. Specifically, instruct the model to paraphrase the information in a clear and concise manner.\n",
      "training metrics: after training step\n"
     ]
    },
    {
     "data": {
      "application/vnd.jupyter.widget-view+json": {
       "model_id": "b73b1ad003da4a63ad2e3b08c3e95675",
       "version_major": 2,
       "version_minor": 0
      },
      "text/plain": [
       "Evaluation:   0%|          | 0/10 [00:00<?, ?it/s]"
      ]
     },
     "metadata": {},
     "output_type": "display_data"
    },
    {
     "name": "stdout",
     "output_type": "stream",
     "text": [
      "epoch: 10\n",
      "\t summary_rouge1 0.2167\n",
      "\t summary_rouge2 0.0673\n",
      "\t summary_rougeL 0.203\n",
      "\t summary_meteor 0.2644\n",
      "\t summary_UMLS_term_f 0.6284\n",
      "\t summary_UMLS_cuis_f 0.495\n",
      "------------------------------------------------------------------\n",
      "END THIS TRAINING STEP\n",
      "------------------------------------------------------------------\n",
      "10 EPOCH END----------------------------------------------------------------------------------------------------\n",
      "10 EPOCH END----------------------------------------------------------------------------------------------------\n",
      "10 EPOCH END----------------------------------------------------------------------------------------------------\n",
      "----------------------------------------------------------------------------------------------------------------\n",
      "eval results on all TRAINING DATA for EPOCH 10\n",
      "----------------------------------------------------------------------------------------------------------------\n"
     ]
    },
    {
     "data": {
      "application/vnd.jupyter.widget-view+json": {
       "model_id": "ac88042d360c402ab4f92ce638c46380",
       "version_major": 2,
       "version_minor": 0
      },
      "text/plain": [
       "Evaluation:   0%|          | 0/50 [00:00<?, ?it/s]"
      ]
     },
     "metadata": {},
     "output_type": "display_data"
    },
    {
     "name": "stdout",
     "output_type": "stream",
     "text": [
      "epoch: 10\n",
      "\t summary_rouge1 0.2668\n",
      "\t summary_rouge2 0.117\n",
      "\t summary_rougeL 0.2556\n",
      "\t summary_meteor 0.2985\n",
      "\t summary_UMLS_term_f 0.5636\n",
      "\t summary_UMLS_cuis_f 0.4507\n",
      "----------------------------------------------------------------------------------------------------------------\n",
      "eval results on all EVAL DATA for EPOCH 10\n",
      "----------------------------------------------------------------------------------------------------------------\n"
     ]
    },
    {
     "data": {
      "application/vnd.jupyter.widget-view+json": {
       "model_id": "8ef25bd5dec84a0391e7648d4d2a436f",
       "version_major": 2,
       "version_minor": 0
      },
      "text/plain": [
       "Evaluation:   0%|          | 0/50 [00:00<?, ?it/s]"
      ]
     },
     "metadata": {},
     "output_type": "display_data"
    },
    {
     "name": "stdout",
     "output_type": "stream",
     "text": [
      "epoch: 10\n",
      "\t summary_rouge1 0.2666\n",
      "\t summary_rouge2 0.1074\n",
      "\t summary_rougeL 0.2569\n",
      "\t summary_meteor 0.2771\n",
      "\t summary_UMLS_term_f 0.5456\n",
      "\t summary_UMLS_cuis_f 0.4778\n",
      "after curr epoch, the target_trainable_instruction is:\n",
      "Generate a concise summary that includes the medication name, dosage, frequency, and duration mentioned by the doctor. Instruct the model to paraphrase the information in a clear and concise manner, excluding any irrelevant details or digressions from the doctor's response. Specifically, instruct the model to extract and include the medication name, dosage, frequency, and duration mentioned by the doctor in the summary.\n",
      "11 EPOCH BEGIN--------------------------------------------------------------------------------------------------\n",
      "11 EPOCH BEGIN--------------------------------------------------------------------------------------------------\n",
      "11 EPOCH BEGIN--------------------------------------------------------------------------------------------------\n"
     ]
    },
    {
     "data": {
      "application/vnd.jupyter.widget-view+json": {
       "model_id": "302149ac753445e0a47482066ab8f1f0",
       "version_major": 2,
       "version_minor": 0
      },
      "text/plain": [
       "Training:   0%|          | 0/1 [00:00<?, ?it/s]"
      ]
     },
     "metadata": {},
     "output_type": "display_data"
    },
    {
     "name": "stdout",
     "output_type": "stream",
     "text": [
      "------------------------------------------------------------------\n",
      "START NEW TRAINING STEP\n",
      "------------------------------------------------------------------\n",
      "training metrics: before training step\n"
     ]
    },
    {
     "data": {
      "application/vnd.jupyter.widget-view+json": {
       "model_id": "18b727b4996e41b28ee0521016ed2a00",
       "version_major": 2,
       "version_minor": 0
      },
      "text/plain": [
       "Evaluation:   0%|          | 0/10 [00:00<?, ?it/s]"
      ]
     },
     "metadata": {},
     "output_type": "display_data"
    },
    {
     "name": "stdout",
     "output_type": "stream",
     "text": [
      "epoch: 11\n",
      "\t summary_rouge1 0.3003\n",
      "\t summary_rouge2 0.1241\n",
      "\t summary_rougeL 0.3003\n",
      "\t summary_meteor 0.2745\n",
      "\t summary_UMLS_term_f 0.6139\n",
      "\t summary_UMLS_cuis_f 0.4925\n",
      "training section: [7731, 7726, 7749, 7733, 7754, 7761, 7747, 7744, 7746, 7715]\n"
     ]
    },
    {
     "data": {
      "application/vnd.jupyter.widget-view+json": {
       "model_id": "0c4bd6d0289542258b9020911d71b3ff",
       "version_major": 2,
       "version_minor": 0
      },
      "text/plain": [
       "batch cal loss:   0%|          | 0/10 [00:00<?, ?it/s]"
      ]
     },
     "metadata": {},
     "output_type": "display_data"
    },
    {
     "name": "stdout",
     "output_type": "stream",
     "text": [
      "final suggestion in this step:  Revise the instruction to explicitly instruct the model to include the medication name, dosage, frequency, and duration in the summary. Specifically, instruct the model to extract and include only the relevant information related to the medication, excluding any irrelevant details or digressions from the doctor's response. Additionally, specify the format in which the information should be presented, such as using bullet points or a structured sentence. This will help the model generate a more accurate and concise summary.\n",
      "training metrics: after training step\n"
     ]
    },
    {
     "data": {
      "application/vnd.jupyter.widget-view+json": {
       "model_id": "73bae42178f04db2a7445e6c674accdd",
       "version_major": 2,
       "version_minor": 0
      },
      "text/plain": [
       "Evaluation:   0%|          | 0/10 [00:00<?, ?it/s]"
      ]
     },
     "metadata": {},
     "output_type": "display_data"
    },
    {
     "name": "stdout",
     "output_type": "stream",
     "text": [
      "epoch: 11\n",
      "\t summary_rouge1 0.3171\n",
      "\t summary_rouge2 0.1545\n",
      "\t summary_rougeL 0.3171\n",
      "\t summary_meteor 0.313\n",
      "\t summary_UMLS_term_f 0.7294\n",
      "\t summary_UMLS_cuis_f 0.6531\n",
      "------------------------------------------------------------------\n",
      "END THIS TRAINING STEP\n",
      "------------------------------------------------------------------\n",
      "11 EPOCH END----------------------------------------------------------------------------------------------------\n",
      "11 EPOCH END----------------------------------------------------------------------------------------------------\n",
      "11 EPOCH END----------------------------------------------------------------------------------------------------\n",
      "----------------------------------------------------------------------------------------------------------------\n",
      "eval results on all TRAINING DATA for EPOCH 11\n",
      "----------------------------------------------------------------------------------------------------------------\n"
     ]
    },
    {
     "data": {
      "application/vnd.jupyter.widget-view+json": {
       "model_id": "3a62d857723a437d91ad40e017f33970",
       "version_major": 2,
       "version_minor": 0
      },
      "text/plain": [
       "Evaluation:   0%|          | 0/50 [00:00<?, ?it/s]"
      ]
     },
     "metadata": {},
     "output_type": "display_data"
    },
    {
     "name": "stdout",
     "output_type": "stream",
     "text": [
      "epoch: 11\n",
      "\t summary_rouge1 0.2697\n",
      "\t summary_rouge2 0.1155\n",
      "\t summary_rougeL 0.26\n",
      "\t summary_meteor 0.3062\n",
      "\t summary_UMLS_term_f 0.5994\n",
      "\t summary_UMLS_cuis_f 0.4756\n",
      "----------------------------------------------------------------------------------------------------------------\n",
      "eval results on all EVAL DATA for EPOCH 11\n",
      "----------------------------------------------------------------------------------------------------------------\n"
     ]
    },
    {
     "data": {
      "application/vnd.jupyter.widget-view+json": {
       "model_id": "ad097376e8c7469195330374ec5a717c",
       "version_major": 2,
       "version_minor": 0
      },
      "text/plain": [
       "Evaluation:   0%|          | 0/50 [00:00<?, ?it/s]"
      ]
     },
     "metadata": {},
     "output_type": "display_data"
    },
    {
     "name": "stdout",
     "output_type": "stream",
     "text": [
      "epoch: 11\n",
      "\t summary_rouge1 0.2587\n",
      "\t summary_rouge2 0.0928\n",
      "\t summary_rougeL 0.2476\n",
      "\t summary_meteor 0.2577\n",
      "\t summary_UMLS_term_f 0.519\n",
      "\t summary_UMLS_cuis_f 0.4246\n",
      "after curr epoch, the target_trainable_instruction is:\n",
      "Generate a concise summary that includes the medication name, dosage, frequency, and duration mentioned by the doctor. Instruct the model to extract and include only the relevant information related to the medication, excluding any irrelevant details or digressions from the doctor's response. Specify the format in which the information should be presented, such as using bullet points or a structured sentence.\n",
      "12 EPOCH BEGIN--------------------------------------------------------------------------------------------------\n",
      "12 EPOCH BEGIN--------------------------------------------------------------------------------------------------\n",
      "12 EPOCH BEGIN--------------------------------------------------------------------------------------------------\n"
     ]
    },
    {
     "data": {
      "application/vnd.jupyter.widget-view+json": {
       "model_id": "39e621972ebb4db883f32ef5f8be89be",
       "version_major": 2,
       "version_minor": 0
      },
      "text/plain": [
       "Training:   0%|          | 0/1 [00:00<?, ?it/s]"
      ]
     },
     "metadata": {},
     "output_type": "display_data"
    },
    {
     "name": "stdout",
     "output_type": "stream",
     "text": [
      "------------------------------------------------------------------\n",
      "START NEW TRAINING STEP\n",
      "------------------------------------------------------------------\n",
      "training metrics: before training step\n"
     ]
    },
    {
     "data": {
      "application/vnd.jupyter.widget-view+json": {
       "model_id": "1f7f1036a697453d8d7511c35dfbf9b8",
       "version_major": 2,
       "version_minor": 0
      },
      "text/plain": [
       "Evaluation:   0%|          | 0/10 [00:00<?, ?it/s]"
      ]
     },
     "metadata": {},
     "output_type": "display_data"
    },
    {
     "name": "stdout",
     "output_type": "stream",
     "text": [
      "epoch: 12\n",
      "\t summary_rouge1 0.2494\n",
      "\t summary_rouge2 0.0955\n",
      "\t summary_rougeL 0.243\n",
      "\t summary_meteor 0.2268\n",
      "\t summary_UMLS_term_f 0.73\n",
      "\t summary_UMLS_cuis_f 0.6229\n",
      "training section: [7751, 7722, 7724, 7731, 7730, 7716, 7748, 7732, 7739, 7723]\n"
     ]
    },
    {
     "data": {
      "application/vnd.jupyter.widget-view+json": {
       "model_id": "05d09c08e45643a093ca33821f9a4dde",
       "version_major": 2,
       "version_minor": 0
      },
      "text/plain": [
       "batch cal loss:   0%|          | 0/10 [00:00<?, ?it/s]"
      ]
     },
     "metadata": {},
     "output_type": "display_data"
    },
    {
     "name": "stdout",
     "output_type": "stream",
     "text": [
      "final suggestion in this step:  Revise the instruction to include the following criteria: 1. Generate a concise summary that includes the medication name, dosage, frequency, and duration mentioned by the doctor. 2. Instruct the model to extract and include only the relevant information related to the medication, excluding any irrelevant details or digressions from the doctor's response. 3. Specify the format in which the information should be presented, such as using bullet points or a structured sentence. 4. Emphasize that the summary should focus solely on the medication and not include any other information unrelated to prescriptions and therapeutics.\n",
      "training metrics: after training step\n"
     ]
    },
    {
     "data": {
      "application/vnd.jupyter.widget-view+json": {
       "model_id": "a302adbf54d14999bfd7bc24cdd8b7ad",
       "version_major": 2,
       "version_minor": 0
      },
      "text/plain": [
       "Evaluation:   0%|          | 0/10 [00:00<?, ?it/s]"
      ]
     },
     "metadata": {},
     "output_type": "display_data"
    },
    {
     "name": "stdout",
     "output_type": "stream",
     "text": [
      "epoch: 12\n",
      "\t summary_rouge1 0.2835\n",
      "\t summary_rouge2 0.0984\n",
      "\t summary_rougeL 0.2704\n",
      "\t summary_meteor 0.2744\n",
      "\t summary_UMLS_term_f 0.7433\n",
      "\t summary_UMLS_cuis_f 0.6569\n",
      "------------------------------------------------------------------\n",
      "END THIS TRAINING STEP\n",
      "------------------------------------------------------------------\n",
      "12 EPOCH END----------------------------------------------------------------------------------------------------\n",
      "12 EPOCH END----------------------------------------------------------------------------------------------------\n",
      "12 EPOCH END----------------------------------------------------------------------------------------------------\n",
      "----------------------------------------------------------------------------------------------------------------\n",
      "eval results on all TRAINING DATA for EPOCH 12\n",
      "----------------------------------------------------------------------------------------------------------------\n"
     ]
    },
    {
     "data": {
      "application/vnd.jupyter.widget-view+json": {
       "model_id": "e87a4b0bf5f841b3b8041d42b8160fef",
       "version_major": 2,
       "version_minor": 0
      },
      "text/plain": [
       "Evaluation:   0%|          | 0/50 [00:00<?, ?it/s]"
      ]
     },
     "metadata": {},
     "output_type": "display_data"
    },
    {
     "name": "stdout",
     "output_type": "stream",
     "text": [
      "epoch: 12\n",
      "\t summary_rouge1 0.2829\n",
      "\t summary_rouge2 0.1188\n",
      "\t summary_rougeL 0.272\n",
      "\t summary_meteor 0.3193\n",
      "\t summary_UMLS_term_f 0.6113\n",
      "\t summary_UMLS_cuis_f 0.502\n",
      "----------------------------------------------------------------------------------------------------------------\n",
      "eval results on all EVAL DATA for EPOCH 12\n",
      "----------------------------------------------------------------------------------------------------------------\n"
     ]
    },
    {
     "data": {
      "application/vnd.jupyter.widget-view+json": {
       "model_id": "cda81fdc64334ce3bb7a5462a1a838dd",
       "version_major": 2,
       "version_minor": 0
      },
      "text/plain": [
       "Evaluation:   0%|          | 0/50 [00:00<?, ?it/s]"
      ]
     },
     "metadata": {},
     "output_type": "display_data"
    },
    {
     "name": "stdout",
     "output_type": "stream",
     "text": [
      "epoch: 12\n",
      "\t summary_rouge1 0.2832\n",
      "\t summary_rouge2 0.1088\n",
      "\t summary_rougeL 0.2726\n",
      "\t summary_meteor 0.2763\n",
      "\t summary_UMLS_term_f 0.5505\n",
      "\t summary_UMLS_cuis_f 0.4511\n",
      "after curr epoch, the target_trainable_instruction is:\n",
      "Generate a concise summary that includes the medication name, dosage, frequency, and duration mentioned by the doctor. Instruct the model to extract and include only the relevant information related to the medication, excluding any irrelevant details or digressions from the doctor's response. Specify the format in which the information should be presented, such as using bullet points or a structured sentence. Emphasize that the summary should focus solely on the medication and not include any other information unrelated to prescriptions and therapeutics.\n",
      "13 EPOCH BEGIN--------------------------------------------------------------------------------------------------\n",
      "13 EPOCH BEGIN--------------------------------------------------------------------------------------------------\n",
      "13 EPOCH BEGIN--------------------------------------------------------------------------------------------------\n"
     ]
    },
    {
     "data": {
      "application/vnd.jupyter.widget-view+json": {
       "model_id": "562b9dc2d76f4fbe997e5d2bfd189949",
       "version_major": 2,
       "version_minor": 0
      },
      "text/plain": [
       "Training:   0%|          | 0/1 [00:00<?, ?it/s]"
      ]
     },
     "metadata": {},
     "output_type": "display_data"
    },
    {
     "name": "stdout",
     "output_type": "stream",
     "text": [
      "------------------------------------------------------------------\n",
      "START NEW TRAINING STEP\n",
      "------------------------------------------------------------------\n",
      "training metrics: before training step\n"
     ]
    },
    {
     "data": {
      "application/vnd.jupyter.widget-view+json": {
       "model_id": "0619aafd97944edcae6e79ce4e7d48e9",
       "version_major": 2,
       "version_minor": 0
      },
      "text/plain": [
       "Evaluation:   0%|          | 0/10 [00:00<?, ?it/s]"
      ]
     },
     "metadata": {},
     "output_type": "display_data"
    },
    {
     "name": "stdout",
     "output_type": "stream",
     "text": [
      "epoch: 13\n",
      "\t summary_rouge1 0.3974\n",
      "\t summary_rouge2 0.1835\n",
      "\t summary_rougeL 0.3922\n",
      "\t summary_meteor 0.3823\n",
      "\t summary_UMLS_term_f 0.6977\n",
      "\t summary_UMLS_cuis_f 0.5716\n",
      "training section: [7717, 7744, 7723, 7746, 7745, 7758, 7734, 7725, 7747, 7759]\n"
     ]
    },
    {
     "data": {
      "application/vnd.jupyter.widget-view+json": {
       "model_id": "c6b0e635597943f08756b08b3bf7606b",
       "version_major": 2,
       "version_minor": 0
      },
      "text/plain": [
       "batch cal loss:   0%|          | 0/10 [00:00<?, ?it/s]"
      ]
     },
     "metadata": {},
     "output_type": "display_data"
    },
    {
     "name": "stdout",
     "output_type": "stream",
     "text": [
      "final suggestion in this step:  Specify the format in which the information should be presented, such as using bullet points or a structured sentence. Emphasize excluding any irrelevant details or digressions from the doctor's response. Clarify that the summary should focus solely on the medication and not include any other information unrelated to prescriptions and therapeutics.\n",
      "training metrics: after training step\n"
     ]
    },
    {
     "data": {
      "application/vnd.jupyter.widget-view+json": {
       "model_id": "9816f6ee8a0f4e688ea0e564d754b3e8",
       "version_major": 2,
       "version_minor": 0
      },
      "text/plain": [
       "Evaluation:   0%|          | 0/10 [00:00<?, ?it/s]"
      ]
     },
     "metadata": {},
     "output_type": "display_data"
    },
    {
     "name": "stdout",
     "output_type": "stream",
     "text": [
      "epoch: 13\n",
      "\t summary_rouge1 0.3974\n",
      "\t summary_rouge2 0.1835\n",
      "\t summary_rougeL 0.3922\n",
      "\t summary_meteor 0.3823\n",
      "\t summary_UMLS_term_f 0.6977\n",
      "\t summary_UMLS_cuis_f 0.5716\n",
      "------------------------------------------------------------------\n",
      "END THIS TRAINING STEP\n",
      "------------------------------------------------------------------\n",
      "13 EPOCH END----------------------------------------------------------------------------------------------------\n",
      "13 EPOCH END----------------------------------------------------------------------------------------------------\n",
      "13 EPOCH END----------------------------------------------------------------------------------------------------\n",
      "----------------------------------------------------------------------------------------------------------------\n",
      "eval results on all TRAINING DATA for EPOCH 13\n",
      "----------------------------------------------------------------------------------------------------------------\n"
     ]
    },
    {
     "data": {
      "application/vnd.jupyter.widget-view+json": {
       "model_id": "2c240e3d4d4c4c1a9ba2b675fa47d0bc",
       "version_major": 2,
       "version_minor": 0
      },
      "text/plain": [
       "Evaluation:   0%|          | 0/50 [00:00<?, ?it/s]"
      ]
     },
     "metadata": {},
     "output_type": "display_data"
    },
    {
     "name": "stdout",
     "output_type": "stream",
     "text": [
      "epoch: 13\n",
      "\t summary_rouge1 0.2836\n",
      "\t summary_rouge2 0.1188\n",
      "\t summary_rougeL 0.2719\n",
      "\t summary_meteor 0.3174\n",
      "\t summary_UMLS_term_f 0.6111\n",
      "\t summary_UMLS_cuis_f 0.5016\n",
      "----------------------------------------------------------------------------------------------------------------\n",
      "eval results on all EVAL DATA for EPOCH 13\n",
      "----------------------------------------------------------------------------------------------------------------\n"
     ]
    },
    {
     "data": {
      "application/vnd.jupyter.widget-view+json": {
       "model_id": "f8471867a51440ce90f660685e30e5b5",
       "version_major": 2,
       "version_minor": 0
      },
      "text/plain": [
       "Evaluation:   0%|          | 0/50 [00:00<?, ?it/s]"
      ]
     },
     "metadata": {},
     "output_type": "display_data"
    },
    {
     "name": "stdout",
     "output_type": "stream",
     "text": [
      "epoch: 13\n",
      "\t summary_rouge1 0.2815\n",
      "\t summary_rouge2 0.1088\n",
      "\t summary_rougeL 0.2709\n",
      "\t summary_meteor 0.2763\n",
      "\t summary_UMLS_term_f 0.5502\n",
      "\t summary_UMLS_cuis_f 0.4511\n",
      "after curr epoch, the target_trainable_instruction is:\n",
      "Generate a concise summary that includes the medication name, dosage, frequency, and duration mentioned by the doctor. Instruct the model to extract and include only the relevant information related to the medication, excluding any irrelevant details or digressions from the doctor's response. Specify the format in which the information should be presented, such as using bullet points or a structured sentence. Emphasize that the summary should focus solely on the medication and not include any other information unrelated to prescriptions and therapeutics.\n",
      "14 EPOCH BEGIN--------------------------------------------------------------------------------------------------\n",
      "14 EPOCH BEGIN--------------------------------------------------------------------------------------------------\n",
      "14 EPOCH BEGIN--------------------------------------------------------------------------------------------------\n"
     ]
    },
    {
     "data": {
      "application/vnd.jupyter.widget-view+json": {
       "model_id": "eafd5de57d93428b9615b8f0b596385f",
       "version_major": 2,
       "version_minor": 0
      },
      "text/plain": [
       "Training:   0%|          | 0/1 [00:00<?, ?it/s]"
      ]
     },
     "metadata": {},
     "output_type": "display_data"
    },
    {
     "name": "stdout",
     "output_type": "stream",
     "text": [
      "------------------------------------------------------------------\n",
      "START NEW TRAINING STEP\n",
      "------------------------------------------------------------------\n",
      "training metrics: before training step\n"
     ]
    },
    {
     "data": {
      "application/vnd.jupyter.widget-view+json": {
       "model_id": "22f0db82c40e4e598dd00e96f1bc01e6",
       "version_major": 2,
       "version_minor": 0
      },
      "text/plain": [
       "Evaluation:   0%|          | 0/10 [00:00<?, ?it/s]"
      ]
     },
     "metadata": {},
     "output_type": "display_data"
    },
    {
     "name": "stdout",
     "output_type": "stream",
     "text": [
      "epoch: 14\n",
      "\t summary_rouge1 0.2756\n",
      "\t summary_rouge2 0.1207\n",
      "\t summary_rougeL 0.2656\n",
      "\t summary_meteor 0.3271\n",
      "\t summary_UMLS_term_f 0.6278\n",
      "\t summary_UMLS_cuis_f 0.5087\n",
      "training section: [7755, 7713, 7723, 7745, 7735, 7758, 7757, 7739, 7728, 7741]\n"
     ]
    },
    {
     "data": {
      "application/vnd.jupyter.widget-view+json": {
       "model_id": "78b33d857c484d13b9a59bd7fdf11d78",
       "version_major": 2,
       "version_minor": 0
      },
      "text/plain": [
       "batch cal loss:   0%|          | 0/10 [00:00<?, ?it/s]"
      ]
     },
     "metadata": {},
     "output_type": "display_data"
    },
    {
     "name": "stdout",
     "output_type": "stream",
     "text": [
      "final suggestion in this step:  Revise the instruction to explicitly guide the model on how to identify and extract the relevant medication information. Specifically, instruct the model to identify the medication name mentioned by the doctor and include it in the summary. Additionally, instruct the model to look for any mention of dosage, frequency, and duration related to the medication and include this information in the summary as well. Provide examples or guidelines on how to identify and extract this information, such as looking for specific keywords or patterns in the conversation snippet. Emphasize the importance of excluding any irrelevant details or digressions from the doctor's response and focusing solely on the medication-related information. Specify the format in which the information should be presented, such as using bullet points or a structured sentence.\n",
      "training metrics: after training step\n"
     ]
    },
    {
     "data": {
      "application/vnd.jupyter.widget-view+json": {
       "model_id": "8a9968bc949e48a185c84c7e1a8cf159",
       "version_major": 2,
       "version_minor": 0
      },
      "text/plain": [
       "Evaluation:   0%|          | 0/10 [00:00<?, ?it/s]"
      ]
     },
     "metadata": {},
     "output_type": "display_data"
    },
    {
     "name": "stdout",
     "output_type": "stream",
     "text": [
      "epoch: 14\n",
      "\t summary_rouge1 0.2519\n",
      "\t summary_rouge2 0.0994\n",
      "\t summary_rougeL 0.2519\n",
      "\t summary_meteor 0.2661\n",
      "\t summary_UMLS_term_f 0.5757\n",
      "\t summary_UMLS_cuis_f 0.501\n",
      "------------------------------------------------------------------\n",
      "END THIS TRAINING STEP\n",
      "------------------------------------------------------------------\n",
      "14 EPOCH END----------------------------------------------------------------------------------------------------\n",
      "14 EPOCH END----------------------------------------------------------------------------------------------------\n",
      "14 EPOCH END----------------------------------------------------------------------------------------------------\n",
      "----------------------------------------------------------------------------------------------------------------\n",
      "eval results on all TRAINING DATA for EPOCH 14\n",
      "----------------------------------------------------------------------------------------------------------------\n"
     ]
    },
    {
     "data": {
      "application/vnd.jupyter.widget-view+json": {
       "model_id": "bffbb90797864986a59b32a5274839a7",
       "version_major": 2,
       "version_minor": 0
      },
      "text/plain": [
       "Evaluation:   0%|          | 0/50 [00:00<?, ?it/s]"
      ]
     },
     "metadata": {},
     "output_type": "display_data"
    },
    {
     "name": "stdout",
     "output_type": "stream",
     "text": [
      "epoch: 14\n",
      "\t summary_rouge1 0.2322\n",
      "\t summary_rouge2 0.0919\n",
      "\t summary_rougeL 0.2277\n",
      "\t summary_meteor 0.2458\n",
      "\t summary_UMLS_term_f 0.5039\n",
      "\t summary_UMLS_cuis_f 0.394\n",
      "----------------------------------------------------------------------------------------------------------------\n",
      "eval results on all EVAL DATA for EPOCH 14\n",
      "----------------------------------------------------------------------------------------------------------------\n"
     ]
    },
    {
     "data": {
      "application/vnd.jupyter.widget-view+json": {
       "model_id": "006fc8adec134f67b2f9370c744616d9",
       "version_major": 2,
       "version_minor": 0
      },
      "text/plain": [
       "Evaluation:   0%|          | 0/50 [00:00<?, ?it/s]"
      ]
     },
     "metadata": {},
     "output_type": "display_data"
    },
    {
     "name": "stdout",
     "output_type": "stream",
     "text": [
      "epoch: 14\n",
      "\t summary_rouge1 0.2346\n",
      "\t summary_rouge2 0.0886\n",
      "\t summary_rougeL 0.2262\n",
      "\t summary_meteor 0.2324\n",
      "\t summary_UMLS_term_f 0.4726\n",
      "\t summary_UMLS_cuis_f 0.3781\n",
      "after curr epoch, the target_trainable_instruction is:\n",
      "Generate a concise summary that includes the medication name, dosage, frequency, and duration mentioned by the doctor. Instruct the model to identify the medication name mentioned by the doctor and include it in the summary. Additionally, instruct the model to look for any mention of dosage, frequency, and duration related to the medication and include this information in the summary as well. Provide examples or guidelines on how to identify and extract this information, such as looking for specific keywords or patterns in the conversation snippet. Emphasize the importance of excluding any irrelevant details or digressions from the doctor's response and focusing solely on the medication-related information. Specify the format in which the information should be presented, such as using bullet points or a structured sentence.\n",
      "15 EPOCH BEGIN--------------------------------------------------------------------------------------------------\n",
      "15 EPOCH BEGIN--------------------------------------------------------------------------------------------------\n",
      "15 EPOCH BEGIN--------------------------------------------------------------------------------------------------\n"
     ]
    },
    {
     "data": {
      "application/vnd.jupyter.widget-view+json": {
       "model_id": "b4fdd0d0299c451699733f6eed003e25",
       "version_major": 2,
       "version_minor": 0
      },
      "text/plain": [
       "Training:   0%|          | 0/1 [00:00<?, ?it/s]"
      ]
     },
     "metadata": {},
     "output_type": "display_data"
    },
    {
     "name": "stdout",
     "output_type": "stream",
     "text": [
      "------------------------------------------------------------------\n",
      "START NEW TRAINING STEP\n",
      "------------------------------------------------------------------\n",
      "training metrics: before training step\n"
     ]
    },
    {
     "data": {
      "application/vnd.jupyter.widget-view+json": {
       "model_id": "5dc0c3bcd0434eacaa22a7beee1c34b1",
       "version_major": 2,
       "version_minor": 0
      },
      "text/plain": [
       "Evaluation:   0%|          | 0/10 [00:00<?, ?it/s]"
      ]
     },
     "metadata": {},
     "output_type": "display_data"
    },
    {
     "name": "stdout",
     "output_type": "stream",
     "text": [
      "epoch: 15\n",
      "\t summary_rouge1 0.1799\n",
      "\t summary_rouge2 0.0503\n",
      "\t summary_rougeL 0.1799\n",
      "\t summary_meteor 0.146\n",
      "\t summary_UMLS_term_f 0.4402\n",
      "\t summary_UMLS_cuis_f 0.3489\n",
      "training section: [7727, 7757, 7739, 7745, 7747, 7741, 7737, 7726, 7718, 7750]\n"
     ]
    },
    {
     "data": {
      "application/vnd.jupyter.widget-view+json": {
       "model_id": "c6d0d24beef24b10af84a0691146a841",
       "version_major": 2,
       "version_minor": 0
      },
      "text/plain": [
       "batch cal loss:   0%|          | 0/10 [00:00<?, ?it/s]"
      ]
     },
     "metadata": {},
     "output_type": "display_data"
    },
    {
     "name": "stdout",
     "output_type": "stream",
     "text": [
      "final suggestion in this step:  Revise the instruction to guide the model in identifying and extracting the medication name, dosage, frequency, and duration. Specifically, instruct the model to look for keywords or patterns related to medication, dosage, frequency, and duration in the conversation snippet. Emphasize the importance of excluding any irrelevant details or digressions from the doctor's response. Provide examples or guidelines on how to identify and extract this information, such as specific phrases or formats commonly used in medication-related discussions. Specify the format in which the information should be presented, such as using bullet points or a structured sentence.\n",
      "training metrics: after training step\n"
     ]
    },
    {
     "data": {
      "application/vnd.jupyter.widget-view+json": {
       "model_id": "49363471e2f74f21867e321f6f8d9a40",
       "version_major": 2,
       "version_minor": 0
      },
      "text/plain": [
       "Evaluation:   0%|          | 0/10 [00:00<?, ?it/s]"
      ]
     },
     "metadata": {},
     "output_type": "display_data"
    },
    {
     "name": "stdout",
     "output_type": "stream",
     "text": [
      "epoch: 15\n",
      "\t summary_rouge1 0.175\n",
      "\t summary_rouge2 0.0358\n",
      "\t summary_rougeL 0.1645\n",
      "\t summary_meteor 0.1761\n",
      "\t summary_UMLS_term_f 0.5022\n",
      "\t summary_UMLS_cuis_f 0.3904\n",
      "------------------------------------------------------------------\n",
      "END THIS TRAINING STEP\n",
      "------------------------------------------------------------------\n",
      "15 EPOCH END----------------------------------------------------------------------------------------------------\n",
      "15 EPOCH END----------------------------------------------------------------------------------------------------\n",
      "15 EPOCH END----------------------------------------------------------------------------------------------------\n",
      "----------------------------------------------------------------------------------------------------------------\n",
      "eval results on all TRAINING DATA for EPOCH 15\n",
      "----------------------------------------------------------------------------------------------------------------\n"
     ]
    },
    {
     "data": {
      "application/vnd.jupyter.widget-view+json": {
       "model_id": "18d8c3bb43944dd5992ac9a3920a4cae",
       "version_major": 2,
       "version_minor": 0
      },
      "text/plain": [
       "Evaluation:   0%|          | 0/50 [00:00<?, ?it/s]"
      ]
     },
     "metadata": {},
     "output_type": "display_data"
    },
    {
     "name": "stdout",
     "output_type": "stream",
     "text": [
      "epoch: 15\n",
      "\t summary_rouge1 0.2511\n",
      "\t summary_rouge2 0.1018\n",
      "\t summary_rougeL 0.2421\n",
      "\t summary_meteor 0.2743\n",
      "\t summary_UMLS_term_f 0.5787\n",
      "\t summary_UMLS_cuis_f 0.4608\n",
      "----------------------------------------------------------------------------------------------------------------\n",
      "eval results on all EVAL DATA for EPOCH 15\n",
      "----------------------------------------------------------------------------------------------------------------\n"
     ]
    },
    {
     "data": {
      "application/vnd.jupyter.widget-view+json": {
       "model_id": "d2945dc5b6c44942aaaafaac5169f5e7",
       "version_major": 2,
       "version_minor": 0
      },
      "text/plain": [
       "Evaluation:   0%|          | 0/50 [00:00<?, ?it/s]"
      ]
     },
     "metadata": {},
     "output_type": "display_data"
    },
    {
     "name": "stdout",
     "output_type": "stream",
     "text": [
      "epoch: 15\n",
      "\t summary_rouge1 0.2477\n",
      "\t summary_rouge2 0.0937\n",
      "\t summary_rougeL 0.2412\n",
      "\t summary_meteor 0.2327\n",
      "\t summary_UMLS_term_f 0.4912\n",
      "\t summary_UMLS_cuis_f 0.4003\n",
      "after curr epoch, the target_trainable_instruction is:\n",
      "Generate a concise summary that includes the medication name, dosage, frequency, and duration mentioned by the doctor. Instruct the model to look for keywords or patterns related to medication, dosage, frequency, and duration in the conversation snippet. Emphasize the importance of excluding any irrelevant details or digressions from the doctor's response. Provide examples or guidelines on how to identify and extract this information, such as specific phrases or formats commonly used in medication-related discussions. Specify the format in which the information should be presented, such as using bullet points or a structured sentence.\n",
      "16 EPOCH BEGIN--------------------------------------------------------------------------------------------------\n",
      "16 EPOCH BEGIN--------------------------------------------------------------------------------------------------\n",
      "16 EPOCH BEGIN--------------------------------------------------------------------------------------------------\n"
     ]
    },
    {
     "data": {
      "application/vnd.jupyter.widget-view+json": {
       "model_id": "02119f13a0184dc98459a2ac836d99e1",
       "version_major": 2,
       "version_minor": 0
      },
      "text/plain": [
       "Training:   0%|          | 0/1 [00:00<?, ?it/s]"
      ]
     },
     "metadata": {},
     "output_type": "display_data"
    },
    {
     "name": "stdout",
     "output_type": "stream",
     "text": [
      "------------------------------------------------------------------\n",
      "START NEW TRAINING STEP\n",
      "------------------------------------------------------------------\n",
      "training metrics: before training step\n"
     ]
    },
    {
     "data": {
      "application/vnd.jupyter.widget-view+json": {
       "model_id": "de7b61eaf2b045d9a766c2413ae98253",
       "version_major": 2,
       "version_minor": 0
      },
      "text/plain": [
       "Evaluation:   0%|          | 0/10 [00:00<?, ?it/s]"
      ]
     },
     "metadata": {},
     "output_type": "display_data"
    },
    {
     "name": "stdout",
     "output_type": "stream",
     "text": [
      "epoch: 16\n",
      "\t summary_rouge1 0.191\n",
      "\t summary_rouge2 0.0702\n",
      "\t summary_rougeL 0.1862\n",
      "\t summary_meteor 0.1781\n",
      "\t summary_UMLS_term_f 0.5733\n",
      "\t summary_UMLS_cuis_f 0.4704\n",
      "training section: [7761, 7749, 7746, 7738, 7756, 7753, 7724, 7759, 7716, 7754]\n"
     ]
    },
    {
     "data": {
      "application/vnd.jupyter.widget-view+json": {
       "model_id": "49a03f1b99b647dbab6265a951873b30",
       "version_major": 2,
       "version_minor": 0
      },
      "text/plain": [
       "batch cal loss:   0%|          | 0/10 [00:00<?, ?it/s]"
      ]
     },
     "metadata": {},
     "output_type": "display_data"
    },
    {
     "name": "stdout",
     "output_type": "stream",
     "text": [
      "final suggestion in this step:  Revise the instruction to include specific phrases or formats commonly used in medication-related discussions. Provide examples or guidelines on how to identify medication names, dosage, frequency, and duration in the conversation snippet. Emphasize the importance of excluding any irrelevant details or digressions from the doctor's response. Specify the format in which the information should be presented, such as using bullet points or a structured sentence.\n",
      "training metrics: after training step\n"
     ]
    },
    {
     "data": {
      "application/vnd.jupyter.widget-view+json": {
       "model_id": "d0583a311e614a1abc0fe2a1b46a45e8",
       "version_major": 2,
       "version_minor": 0
      },
      "text/plain": [
       "Evaluation:   0%|          | 0/10 [00:00<?, ?it/s]"
      ]
     },
     "metadata": {},
     "output_type": "display_data"
    },
    {
     "name": "stdout",
     "output_type": "stream",
     "text": [
      "epoch: 16\n",
      "\t summary_rouge1 0.1964\n",
      "\t summary_rouge2 0.0734\n",
      "\t summary_rougeL 0.1964\n",
      "\t summary_meteor 0.1761\n",
      "\t summary_UMLS_term_f 0.6046\n",
      "\t summary_UMLS_cuis_f 0.5149\n",
      "------------------------------------------------------------------\n",
      "END THIS TRAINING STEP\n",
      "------------------------------------------------------------------\n",
      "16 EPOCH END----------------------------------------------------------------------------------------------------\n",
      "16 EPOCH END----------------------------------------------------------------------------------------------------\n",
      "16 EPOCH END----------------------------------------------------------------------------------------------------\n",
      "----------------------------------------------------------------------------------------------------------------\n",
      "eval results on all TRAINING DATA for EPOCH 16\n",
      "----------------------------------------------------------------------------------------------------------------\n"
     ]
    },
    {
     "data": {
      "application/vnd.jupyter.widget-view+json": {
       "model_id": "8f1168320293493b9e2549c958f791ea",
       "version_major": 2,
       "version_minor": 0
      },
      "text/plain": [
       "Evaluation:   0%|          | 0/50 [00:00<?, ?it/s]"
      ]
     },
     "metadata": {},
     "output_type": "display_data"
    },
    {
     "name": "stdout",
     "output_type": "stream",
     "text": [
      "epoch: 16\n",
      "\t summary_rouge1 0.2423\n",
      "\t summary_rouge2 0.0982\n",
      "\t summary_rougeL 0.237\n",
      "\t summary_meteor 0.2572\n",
      "\t summary_UMLS_term_f 0.5468\n",
      "\t summary_UMLS_cuis_f 0.4489\n",
      "----------------------------------------------------------------------------------------------------------------\n",
      "eval results on all EVAL DATA for EPOCH 16\n",
      "----------------------------------------------------------------------------------------------------------------\n"
     ]
    },
    {
     "data": {
      "application/vnd.jupyter.widget-view+json": {
       "model_id": "19cd47a896904854abb0c1ce2260f865",
       "version_major": 2,
       "version_minor": 0
      },
      "text/plain": [
       "Evaluation:   0%|          | 0/50 [00:00<?, ?it/s]"
      ]
     },
     "metadata": {},
     "output_type": "display_data"
    },
    {
     "name": "stdout",
     "output_type": "stream",
     "text": [
      "epoch: 16\n",
      "\t summary_rouge1 0.2442\n",
      "\t summary_rouge2 0.0834\n",
      "\t summary_rougeL 0.232\n",
      "\t summary_meteor 0.2418\n",
      "\t summary_UMLS_term_f 0.5048\n",
      "\t summary_UMLS_cuis_f 0.4259\n",
      "after curr epoch, the target_trainable_instruction is:\n",
      "Generate a concise summary that includes the medication name, dosage, frequency, and duration mentioned by the doctor. Instruct the model to look for specific phrases or formats commonly used in medication-related discussions, such as 'prescribed', 'medication name', 'dosage', 'frequency', and 'duration'. Provide examples or guidelines on how to identify and extract medication names, dosage, frequency, and duration in the conversation snippet. Emphasize the importance of excluding any irrelevant details or digressions from the doctor's response. Specify the format in which the information should be presented, such as using bullet points or a structured sentence.\n",
      "17 EPOCH BEGIN--------------------------------------------------------------------------------------------------\n",
      "17 EPOCH BEGIN--------------------------------------------------------------------------------------------------\n",
      "17 EPOCH BEGIN--------------------------------------------------------------------------------------------------\n"
     ]
    },
    {
     "data": {
      "application/vnd.jupyter.widget-view+json": {
       "model_id": "3ba2d9eef7a24967bfa99aa69f4d3340",
       "version_major": 2,
       "version_minor": 0
      },
      "text/plain": [
       "Training:   0%|          | 0/1 [00:00<?, ?it/s]"
      ]
     },
     "metadata": {},
     "output_type": "display_data"
    },
    {
     "name": "stdout",
     "output_type": "stream",
     "text": [
      "------------------------------------------------------------------\n",
      "START NEW TRAINING STEP\n",
      "------------------------------------------------------------------\n",
      "training metrics: before training step\n"
     ]
    },
    {
     "data": {
      "application/vnd.jupyter.widget-view+json": {
       "model_id": "79872659aecc49f593b241ef763ac1da",
       "version_major": 2,
       "version_minor": 0
      },
      "text/plain": [
       "Evaluation:   0%|          | 0/10 [00:00<?, ?it/s]"
      ]
     },
     "metadata": {},
     "output_type": "display_data"
    },
    {
     "name": "stdout",
     "output_type": "stream",
     "text": [
      "epoch: 17\n",
      "\t summary_rouge1 0.3032\n",
      "\t summary_rouge2 0.144\n",
      "\t summary_rougeL 0.2993\n",
      "\t summary_meteor 0.3362\n",
      "\t summary_UMLS_term_f 0.6013\n",
      "\t summary_UMLS_cuis_f 0.5647\n",
      "training section: [7748, 7728, 7735, 7758, 7723, 7757, 7716, 7737, 7725, 7741]\n"
     ]
    },
    {
     "data": {
      "application/vnd.jupyter.widget-view+json": {
       "model_id": "22168cadae0640db96741a4b48b78508",
       "version_major": 2,
       "version_minor": 0
      },
      "text/plain": [
       "batch cal loss:   0%|          | 0/10 [00:00<?, ?it/s]"
      ]
     },
     "metadata": {},
     "output_type": "display_data"
    },
    {
     "name": "stdout",
     "output_type": "stream",
     "text": [
      "final suggestion in this step:  Modify the instruction to include the following guidelines: Look for phrases or formats commonly used in medication-related discussions, such as 'prescribed', 'medication name', 'dosage', 'frequency', and 'duration'. Clearly specify how to identify and extract medication names, dosage, frequency, and duration from the conversation snippet. Emphasize the importance of excluding any irrelevant details or digressions from the doctor's response. Specify the format in which the information should be presented, such as using bullet points or a structured sentence. This will ensure a clear and organized summary.\n",
      "training metrics: after training step\n"
     ]
    },
    {
     "data": {
      "application/vnd.jupyter.widget-view+json": {
       "model_id": "6b3e6c88c81e4bed9046c17faf862357",
       "version_major": 2,
       "version_minor": 0
      },
      "text/plain": [
       "Evaluation:   0%|          | 0/10 [00:00<?, ?it/s]"
      ]
     },
     "metadata": {},
     "output_type": "display_data"
    },
    {
     "name": "stdout",
     "output_type": "stream",
     "text": [
      "epoch: 17\n",
      "\t summary_rouge1 0.3429\n",
      "\t summary_rouge2 0.1486\n",
      "\t summary_rougeL 0.3261\n",
      "\t summary_meteor 0.3823\n",
      "\t summary_UMLS_term_f 0.7114\n",
      "\t summary_UMLS_cuis_f 0.6112\n",
      "------------------------------------------------------------------\n",
      "END THIS TRAINING STEP\n",
      "------------------------------------------------------------------\n",
      "17 EPOCH END----------------------------------------------------------------------------------------------------\n",
      "17 EPOCH END----------------------------------------------------------------------------------------------------\n",
      "17 EPOCH END----------------------------------------------------------------------------------------------------\n",
      "----------------------------------------------------------------------------------------------------------------\n",
      "eval results on all TRAINING DATA for EPOCH 17\n",
      "----------------------------------------------------------------------------------------------------------------\n"
     ]
    },
    {
     "data": {
      "application/vnd.jupyter.widget-view+json": {
       "model_id": "e5afc6ce71be4c27854403fba023cff9",
       "version_major": 2,
       "version_minor": 0
      },
      "text/plain": [
       "Evaluation:   0%|          | 0/50 [00:00<?, ?it/s]"
      ]
     },
     "metadata": {},
     "output_type": "display_data"
    },
    {
     "name": "stdout",
     "output_type": "stream",
     "text": [
      "epoch: 17\n",
      "\t summary_rouge1 0.2636\n",
      "\t summary_rouge2 0.1063\n",
      "\t summary_rougeL 0.2548\n",
      "\t summary_meteor 0.2794\n",
      "\t summary_UMLS_term_f 0.599\n",
      "\t summary_UMLS_cuis_f 0.4818\n",
      "----------------------------------------------------------------------------------------------------------------\n",
      "eval results on all EVAL DATA for EPOCH 17\n",
      "----------------------------------------------------------------------------------------------------------------\n"
     ]
    },
    {
     "data": {
      "application/vnd.jupyter.widget-view+json": {
       "model_id": "1e03e5b43efa4d97b148e34e2a6a896f",
       "version_major": 2,
       "version_minor": 0
      },
      "text/plain": [
       "Evaluation:   0%|          | 0/50 [00:00<?, ?it/s]"
      ]
     },
     "metadata": {},
     "output_type": "display_data"
    },
    {
     "name": "stdout",
     "output_type": "stream",
     "text": [
      "epoch: 17\n",
      "\t summary_rouge1 0.2884\n",
      "\t summary_rouge2 0.1237\n",
      "\t summary_rougeL 0.278\n",
      "\t summary_meteor 0.3011\n",
      "\t summary_UMLS_term_f 0.5642\n",
      "\t summary_UMLS_cuis_f 0.4577\n",
      "after curr epoch, the target_trainable_instruction is:\n",
      "Generate a concise summary that includes the medication name, dosage, frequency, and duration mentioned by the doctor. Look for phrases or formats commonly used in medication-related discussions, such as 'prescribed', 'medication name', 'dosage', 'frequency', and 'duration'. Clearly specify how to identify and extract medication names, dosage, frequency, and duration from the conversation snippet. Emphasize the importance of excluding any irrelevant details or digressions from the doctor's response. Specify the format in which the information should be presented, such as using bullet points or a structured sentence. For example, 'The doctor prescribed [medication name] with a dosage of [dosage] to be taken [frequency] for [duration].'\n",
      "18 EPOCH BEGIN--------------------------------------------------------------------------------------------------\n",
      "18 EPOCH BEGIN--------------------------------------------------------------------------------------------------\n",
      "18 EPOCH BEGIN--------------------------------------------------------------------------------------------------\n"
     ]
    },
    {
     "data": {
      "application/vnd.jupyter.widget-view+json": {
       "model_id": "f6b0e078b331440fa71c8c5cdf2248d3",
       "version_major": 2,
       "version_minor": 0
      },
      "text/plain": [
       "Training:   0%|          | 0/1 [00:00<?, ?it/s]"
      ]
     },
     "metadata": {},
     "output_type": "display_data"
    },
    {
     "name": "stdout",
     "output_type": "stream",
     "text": [
      "------------------------------------------------------------------\n",
      "START NEW TRAINING STEP\n",
      "------------------------------------------------------------------\n",
      "training metrics: before training step\n"
     ]
    },
    {
     "data": {
      "application/vnd.jupyter.widget-view+json": {
       "model_id": "7187cdbf6ce5490f83189c67fc57d613",
       "version_major": 2,
       "version_minor": 0
      },
      "text/plain": [
       "Evaluation:   0%|          | 0/10 [00:00<?, ?it/s]"
      ]
     },
     "metadata": {},
     "output_type": "display_data"
    },
    {
     "name": "stdout",
     "output_type": "stream",
     "text": [
      "epoch: 18\n",
      "\t summary_rouge1 0.2725\n",
      "\t summary_rouge2 0.0998\n",
      "\t summary_rougeL 0.2527\n",
      "\t summary_meteor 0.2692\n",
      "\t summary_UMLS_term_f 0.6235\n",
      "\t summary_UMLS_cuis_f 0.435\n",
      "training section: [7718, 7759, 7722, 7729, 7739, 7730, 7762, 7721, 7753, 7737]\n"
     ]
    },
    {
     "data": {
      "application/vnd.jupyter.widget-view+json": {
       "model_id": "2d5aca0927b64d68a9711ac695c27bd8",
       "version_major": 2,
       "version_minor": 0
      },
      "text/plain": [
       "batch cal loss:   0%|          | 0/10 [00:00<?, ?it/s]"
      ]
     },
     "metadata": {},
     "output_type": "display_data"
    },
    {
     "name": "stdout",
     "output_type": "stream",
     "text": [
      "final suggestion in this step:  Clearly specify how to identify and extract medication names, dosage, frequency, and duration from the conversation snippet. Provide examples of phrases or formats commonly used in medication-related discussions. Emphasize the importance of excluding any irrelevant details or digressions from the doctor's response. Specify the format in which the information should be presented, such as using bullet points or a structured sentence. For example, 'The doctor prescribed [medication name] with a dosage of [dosage] to be taken [frequency] for [duration]'.\n",
      "training metrics: after training step\n"
     ]
    },
    {
     "data": {
      "application/vnd.jupyter.widget-view+json": {
       "model_id": "5dc713f722ef42db8273fd54ad8fff7f",
       "version_major": 2,
       "version_minor": 0
      },
      "text/plain": [
       "Evaluation:   0%|          | 0/10 [00:00<?, ?it/s]"
      ]
     },
     "metadata": {},
     "output_type": "display_data"
    },
    {
     "name": "stdout",
     "output_type": "stream",
     "text": [
      "epoch: 18\n",
      "\t summary_rouge1 0.2671\n",
      "\t summary_rouge2 0.1109\n",
      "\t summary_rougeL 0.2451\n",
      "\t summary_meteor 0.2937\n",
      "\t summary_UMLS_term_f 0.6102\n",
      "\t summary_UMLS_cuis_f 0.4498\n",
      "------------------------------------------------------------------\n",
      "END THIS TRAINING STEP\n",
      "------------------------------------------------------------------\n",
      "18 EPOCH END----------------------------------------------------------------------------------------------------\n",
      "18 EPOCH END----------------------------------------------------------------------------------------------------\n",
      "18 EPOCH END----------------------------------------------------------------------------------------------------\n",
      "----------------------------------------------------------------------------------------------------------------\n",
      "eval results on all TRAINING DATA for EPOCH 18\n",
      "----------------------------------------------------------------------------------------------------------------\n"
     ]
    },
    {
     "data": {
      "application/vnd.jupyter.widget-view+json": {
       "model_id": "7e22f94a3188438fbadae3bea17663d0",
       "version_major": 2,
       "version_minor": 0
      },
      "text/plain": [
       "Evaluation:   0%|          | 0/50 [00:00<?, ?it/s]"
      ]
     },
     "metadata": {},
     "output_type": "display_data"
    },
    {
     "name": "stdout",
     "output_type": "stream",
     "text": [
      "epoch: 18\n",
      "\t summary_rouge1 0.2648\n",
      "\t summary_rouge2 0.1041\n",
      "\t summary_rougeL 0.2462\n",
      "\t summary_meteor 0.2927\n",
      "\t summary_UMLS_term_f 0.5782\n",
      "\t summary_UMLS_cuis_f 0.4632\n",
      "----------------------------------------------------------------------------------------------------------------\n",
      "eval results on all EVAL DATA for EPOCH 18\n",
      "----------------------------------------------------------------------------------------------------------------\n"
     ]
    },
    {
     "data": {
      "application/vnd.jupyter.widget-view+json": {
       "model_id": "3f98bcb906ee41e7ae361f42ed0a26db",
       "version_major": 2,
       "version_minor": 0
      },
      "text/plain": [
       "Evaluation:   0%|          | 0/50 [00:00<?, ?it/s]"
      ]
     },
     "metadata": {},
     "output_type": "display_data"
    },
    {
     "name": "stdout",
     "output_type": "stream",
     "text": [
      "epoch: 18\n",
      "\t summary_rouge1 0.2771\n",
      "\t summary_rouge2 0.1108\n",
      "\t summary_rougeL 0.2596\n",
      "\t summary_meteor 0.2867\n",
      "\t summary_UMLS_term_f 0.5618\n",
      "\t summary_UMLS_cuis_f 0.4715\n",
      "after curr epoch, the target_trainable_instruction is:\n",
      "Generate a concise summary that includes the medication name, dosage, frequency, and duration mentioned by the doctor. Clearly specify how to identify and extract medication names, dosage, frequency, and duration from the conversation snippet. Provide examples of phrases or formats commonly used in medication-related discussions. Emphasize the importance of excluding any irrelevant details or digressions from the doctor's response. Specify the format in which the information should be presented, such as using bullet points or a structured sentence. For example, 'The doctor prescribed [medication name] with a dosage of [dosage] to be taken [frequency] for [duration]'.\n",
      "19 EPOCH BEGIN--------------------------------------------------------------------------------------------------\n",
      "19 EPOCH BEGIN--------------------------------------------------------------------------------------------------\n",
      "19 EPOCH BEGIN--------------------------------------------------------------------------------------------------\n"
     ]
    },
    {
     "data": {
      "application/vnd.jupyter.widget-view+json": {
       "model_id": "6ddc8b966c4c408a80a5c970b8915cc4",
       "version_major": 2,
       "version_minor": 0
      },
      "text/plain": [
       "Training:   0%|          | 0/1 [00:00<?, ?it/s]"
      ]
     },
     "metadata": {},
     "output_type": "display_data"
    },
    {
     "name": "stdout",
     "output_type": "stream",
     "text": [
      "------------------------------------------------------------------\n",
      "START NEW TRAINING STEP\n",
      "------------------------------------------------------------------\n",
      "training metrics: before training step\n"
     ]
    },
    {
     "data": {
      "application/vnd.jupyter.widget-view+json": {
       "model_id": "d4182cbeffe14030a3af2fcf4678874f",
       "version_major": 2,
       "version_minor": 0
      },
      "text/plain": [
       "Evaluation:   0%|          | 0/10 [00:00<?, ?it/s]"
      ]
     },
     "metadata": {},
     "output_type": "display_data"
    },
    {
     "name": "stdout",
     "output_type": "stream",
     "text": [
      "epoch: 19\n",
      "\t summary_rouge1 0.246\n",
      "\t summary_rouge2 0.0641\n",
      "\t summary_rougeL 0.2167\n",
      "\t summary_meteor 0.257\n",
      "\t summary_UMLS_term_f 0.432\n",
      "\t summary_UMLS_cuis_f 0.3347\n",
      "training section: [7748, 7736, 7759, 7760, 7744, 7756, 7751, 7729, 7713, 7726]\n"
     ]
    },
    {
     "data": {
      "application/vnd.jupyter.widget-view+json": {
       "model_id": "a0535ae6a71440b1b59942c8aca198a2",
       "version_major": 2,
       "version_minor": 0
      },
      "text/plain": [
       "batch cal loss:   0%|          | 0/10 [00:00<?, ?it/s]"
      ]
     },
     "metadata": {},
     "output_type": "display_data"
    },
    {
     "name": "stdout",
     "output_type": "stream",
     "text": [
      "final suggestion in this step:  Revise the instruction to include the following: Clearly specify how to identify and extract medication names, dosage, frequency, and duration from the conversation snippet. Provide examples of phrases or formats commonly used in medication-related discussions. Emphasize the importance of excluding any irrelevant details or digressions from the doctor's response. Specify the format in which the information should be presented, such as using bullet points or a structured sentence. Provide a clear template for the summary, such as 'The doctor prescribed [medication name] with a dosage of [dosage] to be taken [frequency] for [duration]'.\n",
      "training metrics: after training step\n"
     ]
    },
    {
     "data": {
      "application/vnd.jupyter.widget-view+json": {
       "model_id": "aa534ee5511e4e9a8cb0f6cc0fc9e1dd",
       "version_major": 2,
       "version_minor": 0
      },
      "text/plain": [
       "Evaluation:   0%|          | 0/10 [00:00<?, ?it/s]"
      ]
     },
     "metadata": {},
     "output_type": "display_data"
    },
    {
     "name": "stdout",
     "output_type": "stream",
     "text": [
      "epoch: 19\n",
      "\t summary_rouge1 0.2648\n",
      "\t summary_rouge2 0.0773\n",
      "\t summary_rougeL 0.2364\n",
      "\t summary_meteor 0.2756\n",
      "\t summary_UMLS_term_f 0.4738\n",
      "\t summary_UMLS_cuis_f 0.3622\n",
      "------------------------------------------------------------------\n",
      "END THIS TRAINING STEP\n",
      "------------------------------------------------------------------\n",
      "19 EPOCH END----------------------------------------------------------------------------------------------------\n",
      "19 EPOCH END----------------------------------------------------------------------------------------------------\n",
      "19 EPOCH END----------------------------------------------------------------------------------------------------\n",
      "----------------------------------------------------------------------------------------------------------------\n",
      "eval results on all TRAINING DATA for EPOCH 19\n",
      "----------------------------------------------------------------------------------------------------------------\n"
     ]
    },
    {
     "data": {
      "application/vnd.jupyter.widget-view+json": {
       "model_id": "b31b44e693ed4c37a47d71c6a393acad",
       "version_major": 2,
       "version_minor": 0
      },
      "text/plain": [
       "Evaluation:   0%|          | 0/50 [00:00<?, ?it/s]"
      ]
     },
     "metadata": {},
     "output_type": "display_data"
    },
    {
     "name": "stdout",
     "output_type": "stream",
     "text": [
      "epoch: 19\n",
      "\t summary_rouge1 0.2595\n",
      "\t summary_rouge2 0.101\n",
      "\t summary_rougeL 0.2423\n",
      "\t summary_meteor 0.2875\n",
      "\t summary_UMLS_term_f 0.5709\n",
      "\t summary_UMLS_cuis_f 0.4584\n",
      "----------------------------------------------------------------------------------------------------------------\n",
      "eval results on all EVAL DATA for EPOCH 19\n",
      "----------------------------------------------------------------------------------------------------------------\n"
     ]
    },
    {
     "data": {
      "application/vnd.jupyter.widget-view+json": {
       "model_id": "48927e1ad3494b1e943edbe5b1018c39",
       "version_major": 2,
       "version_minor": 0
      },
      "text/plain": [
       "Evaluation:   0%|          | 0/50 [00:00<?, ?it/s]"
      ]
     },
     "metadata": {},
     "output_type": "display_data"
    },
    {
     "name": "stdout",
     "output_type": "stream",
     "text": [
      "epoch: 19\n",
      "\t summary_rouge1 0.2772\n",
      "\t summary_rouge2 0.1105\n",
      "\t summary_rougeL 0.2593\n",
      "\t summary_meteor 0.2868\n",
      "\t summary_UMLS_term_f 0.567\n",
      "\t summary_UMLS_cuis_f 0.4742\n",
      "after curr epoch, the target_trainable_instruction is:\n",
      "Generate a concise summary that includes the medication name, dosage, frequency, and duration mentioned by the doctor. Clearly specify how to identify and extract medication names, dosage, frequency, and duration from the conversation snippet. Provide examples of phrases or formats commonly used in medication-related discussions. Emphasize the importance of excluding any irrelevant details or digressions from the doctor's response. Specify the format in which the information should be presented, such as using bullet points or a structured sentence. For example, 'The doctor prescribed [medication name] with a dosage of [dosage] to be taken [frequency] for [duration]'.\n",
      "20 EPOCH BEGIN--------------------------------------------------------------------------------------------------\n",
      "20 EPOCH BEGIN--------------------------------------------------------------------------------------------------\n",
      "20 EPOCH BEGIN--------------------------------------------------------------------------------------------------\n"
     ]
    },
    {
     "data": {
      "application/vnd.jupyter.widget-view+json": {
       "model_id": "759f0c70e0b041b6807d222886fb3596",
       "version_major": 2,
       "version_minor": 0
      },
      "text/plain": [
       "Training:   0%|          | 0/1 [00:00<?, ?it/s]"
      ]
     },
     "metadata": {},
     "output_type": "display_data"
    },
    {
     "name": "stdout",
     "output_type": "stream",
     "text": [
      "------------------------------------------------------------------\n",
      "START NEW TRAINING STEP\n",
      "------------------------------------------------------------------\n",
      "training metrics: before training step\n"
     ]
    },
    {
     "data": {
      "application/vnd.jupyter.widget-view+json": {
       "model_id": "88de90ad338f4f369b89e9ba874662c2",
       "version_major": 2,
       "version_minor": 0
      },
      "text/plain": [
       "Evaluation:   0%|          | 0/10 [00:00<?, ?it/s]"
      ]
     },
     "metadata": {},
     "output_type": "display_data"
    },
    {
     "name": "stdout",
     "output_type": "stream",
     "text": [
      "epoch: 20\n",
      "\t summary_rouge1 0.2821\n",
      "\t summary_rouge2 0.0995\n",
      "\t summary_rougeL 0.2556\n",
      "\t summary_meteor 0.3192\n",
      "\t summary_UMLS_term_f 0.7246\n",
      "\t summary_UMLS_cuis_f 0.62\n",
      "training section: [7752, 7751, 7714, 7715, 7756, 7739, 7760, 7717, 7727, 7747]\n"
     ]
    },
    {
     "data": {
      "application/vnd.jupyter.widget-view+json": {
       "model_id": "fed7b3b53a944ea985941927ac5a2be2",
       "version_major": 2,
       "version_minor": 0
      },
      "text/plain": [
       "batch cal loss:   0%|          | 0/10 [00:00<?, ?it/s]"
      ]
     },
     "metadata": {},
     "output_type": "display_data"
    },
    {
     "name": "stdout",
     "output_type": "stream",
     "text": [
      "final suggestion in this step:  Revise the instruction to include the following guidelines: Clearly specify how to identify and extract medication names, dosage, frequency, and duration from the conversation snippet. Emphasize the importance of excluding any irrelevant details or digressions from the doctor's response. Specify the format in which the information should be presented, such as using bullet points or a structured sentence. Provide a clear template for the summary, such as 'The doctor prescribed [medication name] with a dosage of [dosage] to be taken [frequency] for [duration]'.\n",
      "training metrics: after training step\n"
     ]
    },
    {
     "data": {
      "application/vnd.jupyter.widget-view+json": {
       "model_id": "151ffe232e54487dbb3b2e466b7e5c6a",
       "version_major": 2,
       "version_minor": 0
      },
      "text/plain": [
       "Evaluation:   0%|          | 0/10 [00:00<?, ?it/s]"
      ]
     },
     "metadata": {},
     "output_type": "display_data"
    },
    {
     "name": "stdout",
     "output_type": "stream",
     "text": [
      "epoch: 20\n",
      "\t summary_rouge1 0.3128\n",
      "\t summary_rouge2 0.1215\n",
      "\t summary_rougeL 0.2954\n",
      "\t summary_meteor 0.3326\n",
      "\t summary_UMLS_term_f 0.719\n",
      "\t summary_UMLS_cuis_f 0.6086\n",
      "------------------------------------------------------------------\n",
      "END THIS TRAINING STEP\n",
      "------------------------------------------------------------------\n",
      "20 EPOCH END----------------------------------------------------------------------------------------------------\n",
      "20 EPOCH END----------------------------------------------------------------------------------------------------\n",
      "20 EPOCH END----------------------------------------------------------------------------------------------------\n",
      "----------------------------------------------------------------------------------------------------------------\n",
      "eval results on all TRAINING DATA for EPOCH 20\n",
      "----------------------------------------------------------------------------------------------------------------\n"
     ]
    },
    {
     "data": {
      "application/vnd.jupyter.widget-view+json": {
       "model_id": "e5a91a848b3646ddb7ac716ad5504e23",
       "version_major": 2,
       "version_minor": 0
      },
      "text/plain": [
       "Evaluation:   0%|          | 0/50 [00:00<?, ?it/s]"
      ]
     },
     "metadata": {},
     "output_type": "display_data"
    },
    {
     "name": "stdout",
     "output_type": "stream",
     "text": [
      "epoch: 20\n",
      "\t summary_rouge1 0.2879\n",
      "\t summary_rouge2 0.1168\n",
      "\t summary_rougeL 0.2709\n",
      "\t summary_meteor 0.3049\n",
      "\t summary_UMLS_term_f 0.6017\n",
      "\t summary_UMLS_cuis_f 0.4795\n",
      "----------------------------------------------------------------------------------------------------------------\n",
      "eval results on all EVAL DATA for EPOCH 20\n",
      "----------------------------------------------------------------------------------------------------------------\n"
     ]
    },
    {
     "data": {
      "application/vnd.jupyter.widget-view+json": {
       "model_id": "698a6b73c7f94d17ad9e70d837114271",
       "version_major": 2,
       "version_minor": 0
      },
      "text/plain": [
       "Evaluation:   0%|          | 0/50 [00:00<?, ?it/s]"
      ]
     },
     "metadata": {},
     "output_type": "display_data"
    },
    {
     "name": "stdout",
     "output_type": "stream",
     "text": [
      "epoch: 20\n",
      "\t summary_rouge1 0.2842\n",
      "\t summary_rouge2 0.1155\n",
      "\t summary_rougeL 0.2672\n",
      "\t summary_meteor 0.2901\n",
      "\t summary_UMLS_term_f 0.5472\n",
      "\t summary_UMLS_cuis_f 0.4446\n",
      "after curr epoch, the target_trainable_instruction is:\n",
      "Generate a concise summary that includes the medication name, dosage, frequency, and duration mentioned by the doctor. Clearly specify how to identify and extract medication names, dosage, frequency, and duration from the conversation snippet. Emphasize the importance of excluding any irrelevant details or digressions from the doctor's response. Specify the format in which the information should be presented, such as using bullet points or a structured sentence. For example, 'The doctor prescribed [medication name] with a dosage of [dosage] to be taken [frequency] for [duration]'.\n",
      "21 EPOCH BEGIN--------------------------------------------------------------------------------------------------\n",
      "21 EPOCH BEGIN--------------------------------------------------------------------------------------------------\n",
      "21 EPOCH BEGIN--------------------------------------------------------------------------------------------------\n"
     ]
    },
    {
     "data": {
      "application/vnd.jupyter.widget-view+json": {
       "model_id": "6acae511c9c848a58b631da9dcede57f",
       "version_major": 2,
       "version_minor": 0
      },
      "text/plain": [
       "Training:   0%|          | 0/1 [00:00<?, ?it/s]"
      ]
     },
     "metadata": {},
     "output_type": "display_data"
    },
    {
     "name": "stdout",
     "output_type": "stream",
     "text": [
      "------------------------------------------------------------------\n",
      "START NEW TRAINING STEP\n",
      "------------------------------------------------------------------\n",
      "training metrics: before training step\n"
     ]
    },
    {
     "data": {
      "application/vnd.jupyter.widget-view+json": {
       "model_id": "73c2b26ad9db46d3b16159820c9751c0",
       "version_major": 2,
       "version_minor": 0
      },
      "text/plain": [
       "Evaluation:   0%|          | 0/10 [00:00<?, ?it/s]"
      ]
     },
     "metadata": {},
     "output_type": "display_data"
    },
    {
     "name": "stdout",
     "output_type": "stream",
     "text": [
      "epoch: 21\n",
      "\t summary_rouge1 0.3108\n",
      "\t summary_rouge2 0.1109\n",
      "\t summary_rougeL 0.2754\n",
      "\t summary_meteor 0.3225\n",
      "\t summary_UMLS_term_f 0.5757\n",
      "\t summary_UMLS_cuis_f 0.4803\n",
      "training section: [7714, 7759, 7728, 7725, 7713, 7717, 7715, 7732, 7726, 7748]\n"
     ]
    },
    {
     "data": {
      "application/vnd.jupyter.widget-view+json": {
       "model_id": "eb60f3654d4247638fbe9196deb57ea5",
       "version_major": 2,
       "version_minor": 0
      },
      "text/plain": [
       "batch cal loss:   0%|          | 0/10 [00:00<?, ?it/s]"
      ]
     },
     "metadata": {},
     "output_type": "display_data"
    },
    {
     "name": "stdout",
     "output_type": "stream",
     "text": [
      "final suggestion in this step:  Revise the instruction to include clear guidelines on how to identify and extract medication names, dosage, frequency, and duration from the conversation snippet. Emphasize the importance of excluding any irrelevant details or digressions from the doctor's response. Specify the format in which the information should be presented, such as using bullet points or a structured sentence.\n",
      "training metrics: after training step\n"
     ]
    },
    {
     "data": {
      "application/vnd.jupyter.widget-view+json": {
       "model_id": "501ce46b484644afad4cc3a78275e3d9",
       "version_major": 2,
       "version_minor": 0
      },
      "text/plain": [
       "Evaluation:   0%|          | 0/10 [00:00<?, ?it/s]"
      ]
     },
     "metadata": {},
     "output_type": "display_data"
    },
    {
     "name": "stdout",
     "output_type": "stream",
     "text": [
      "epoch: 21\n",
      "\t summary_rouge1 0.3108\n",
      "\t summary_rouge2 0.1109\n",
      "\t summary_rougeL 0.2754\n",
      "\t summary_meteor 0.3225\n",
      "\t summary_UMLS_term_f 0.5757\n",
      "\t summary_UMLS_cuis_f 0.4803\n",
      "------------------------------------------------------------------\n",
      "END THIS TRAINING STEP\n",
      "------------------------------------------------------------------\n",
      "21 EPOCH END----------------------------------------------------------------------------------------------------\n",
      "21 EPOCH END----------------------------------------------------------------------------------------------------\n",
      "21 EPOCH END----------------------------------------------------------------------------------------------------\n",
      "----------------------------------------------------------------------------------------------------------------\n",
      "eval results on all TRAINING DATA for EPOCH 21\n",
      "----------------------------------------------------------------------------------------------------------------\n"
     ]
    },
    {
     "data": {
      "application/vnd.jupyter.widget-view+json": {
       "model_id": "3c9ab6b24c744335b102244fdac36481",
       "version_major": 2,
       "version_minor": 0
      },
      "text/plain": [
       "Evaluation:   0%|          | 0/50 [00:00<?, ?it/s]"
      ]
     },
     "metadata": {},
     "output_type": "display_data"
    },
    {
     "name": "stdout",
     "output_type": "stream",
     "text": [
      "epoch: 21\n",
      "\t summary_rouge1 0.2863\n",
      "\t summary_rouge2 0.116\n",
      "\t summary_rougeL 0.2693\n",
      "\t summary_meteor 0.3029\n",
      "\t summary_UMLS_term_f 0.5995\n",
      "\t summary_UMLS_cuis_f 0.477\n",
      "----------------------------------------------------------------------------------------------------------------\n",
      "eval results on all EVAL DATA for EPOCH 21\n",
      "----------------------------------------------------------------------------------------------------------------\n"
     ]
    },
    {
     "data": {
      "application/vnd.jupyter.widget-view+json": {
       "model_id": "36d1a50271cd41e09f68032eb50c1fad",
       "version_major": 2,
       "version_minor": 0
      },
      "text/plain": [
       "Evaluation:   0%|          | 0/50 [00:00<?, ?it/s]"
      ]
     },
     "metadata": {},
     "output_type": "display_data"
    },
    {
     "name": "stdout",
     "output_type": "stream",
     "text": [
      "epoch: 21\n",
      "\t summary_rouge1 0.2851\n",
      "\t summary_rouge2 0.1154\n",
      "\t summary_rougeL 0.2678\n",
      "\t summary_meteor 0.2928\n",
      "\t summary_UMLS_term_f 0.5505\n",
      "\t summary_UMLS_cuis_f 0.4473\n",
      "after curr epoch, the target_trainable_instruction is:\n",
      "Generate a concise summary that includes the medication name, dosage, frequency, and duration mentioned by the doctor. Clearly specify how to identify and extract medication names, dosage, frequency, and duration from the conversation snippet. Emphasize the importance of excluding any irrelevant details or digressions from the doctor's response. Specify the format in which the information should be presented, such as using bullet points or a structured sentence. For example, 'The doctor prescribed [medication name] with a dosage of [dosage] to be taken [frequency] for [duration]'.\n",
      "22 EPOCH BEGIN--------------------------------------------------------------------------------------------------\n",
      "22 EPOCH BEGIN--------------------------------------------------------------------------------------------------\n",
      "22 EPOCH BEGIN--------------------------------------------------------------------------------------------------\n"
     ]
    },
    {
     "data": {
      "application/vnd.jupyter.widget-view+json": {
       "model_id": "2124d3600f93425e80b5421a6b794673",
       "version_major": 2,
       "version_minor": 0
      },
      "text/plain": [
       "Training:   0%|          | 0/1 [00:00<?, ?it/s]"
      ]
     },
     "metadata": {},
     "output_type": "display_data"
    },
    {
     "name": "stdout",
     "output_type": "stream",
     "text": [
      "------------------------------------------------------------------\n",
      "START NEW TRAINING STEP\n",
      "------------------------------------------------------------------\n",
      "training metrics: before training step\n"
     ]
    },
    {
     "data": {
      "application/vnd.jupyter.widget-view+json": {
       "model_id": "d5fd9de663954c3bb0f55aa2f5d99d7d",
       "version_major": 2,
       "version_minor": 0
      },
      "text/plain": [
       "Evaluation:   0%|          | 0/10 [00:00<?, ?it/s]"
      ]
     },
     "metadata": {},
     "output_type": "display_data"
    },
    {
     "name": "stdout",
     "output_type": "stream",
     "text": [
      "epoch: 22\n",
      "\t summary_rouge1 0.3002\n",
      "\t summary_rouge2 0.0943\n",
      "\t summary_rougeL 0.2903\n",
      "\t summary_meteor 0.3075\n",
      "\t summary_UMLS_term_f 0.6162\n",
      "\t summary_UMLS_cuis_f 0.4848\n",
      "training section: [7762, 7734, 7743, 7731, 7728, 7730, 7718, 7726, 7713, 7725]\n"
     ]
    },
    {
     "data": {
      "application/vnd.jupyter.widget-view+json": {
       "model_id": "a38e7798bfc44cb699c6d94248a76b38",
       "version_major": 2,
       "version_minor": 0
      },
      "text/plain": [
       "batch cal loss:   0%|          | 0/10 [00:00<?, ?it/s]"
      ]
     },
     "metadata": {},
     "output_type": "display_data"
    },
    {
     "name": "stdout",
     "output_type": "stream",
     "text": [
      "final suggestion in this step:  Revise the instruction to include the following guidelines: 1. Clearly specify how to identify and extract medication names, dosage, frequency, and duration from the conversation snippet. This can be done by providing specific keywords or phrases to look for, such as 'prescribed', 'dosage', 'frequency', and 'duration'. 2. Emphasize the importance of excluding any irrelevant details or digressions from the doctor's response by explicitly stating that only information related to medication names, dosage, frequency, and duration should be included in the summary. 3. Specify the format in which the information should be presented, such as using bullet points or a structured sentence. For example, 'The doctor prescribed [medication name] with a dosage of [dosage] to be taken [frequency] for [duration]'. This will ensure consistency in the generated summaries and make it easier for users to read and understand them.\n",
      "training metrics: after training step\n"
     ]
    },
    {
     "data": {
      "application/vnd.jupyter.widget-view+json": {
       "model_id": "58b48d47e7ac4f9bbcbafbbac837de82",
       "version_major": 2,
       "version_minor": 0
      },
      "text/plain": [
       "Evaluation:   0%|          | 0/10 [00:00<?, ?it/s]"
      ]
     },
     "metadata": {},
     "output_type": "display_data"
    },
    {
     "name": "stdout",
     "output_type": "stream",
     "text": [
      "epoch: 22\n",
      "\t summary_rouge1 0.274\n",
      "\t summary_rouge2 0.068\n",
      "\t summary_rougeL 0.2639\n",
      "\t summary_meteor 0.2697\n",
      "\t summary_UMLS_term_f 0.5602\n",
      "\t summary_UMLS_cuis_f 0.4631\n",
      "------------------------------------------------------------------\n",
      "END THIS TRAINING STEP\n",
      "------------------------------------------------------------------\n",
      "22 EPOCH END----------------------------------------------------------------------------------------------------\n",
      "22 EPOCH END----------------------------------------------------------------------------------------------------\n",
      "22 EPOCH END----------------------------------------------------------------------------------------------------\n",
      "----------------------------------------------------------------------------------------------------------------\n",
      "eval results on all TRAINING DATA for EPOCH 22\n",
      "----------------------------------------------------------------------------------------------------------------\n"
     ]
    },
    {
     "data": {
      "application/vnd.jupyter.widget-view+json": {
       "model_id": "e1e61564f8534c98bf864124596e7cdb",
       "version_major": 2,
       "version_minor": 0
      },
      "text/plain": [
       "Evaluation:   0%|          | 0/50 [00:00<?, ?it/s]"
      ]
     },
     "metadata": {},
     "output_type": "display_data"
    },
    {
     "name": "stdout",
     "output_type": "stream",
     "text": [
      "epoch: 22\n",
      "\t summary_rouge1 0.2787\n",
      "\t summary_rouge2 0.1119\n",
      "\t summary_rougeL 0.2653\n",
      "\t summary_meteor 0.2834\n",
      "\t summary_UMLS_term_f 0.6178\n",
      "\t summary_UMLS_cuis_f 0.5369\n",
      "----------------------------------------------------------------------------------------------------------------\n",
      "eval results on all EVAL DATA for EPOCH 22\n",
      "----------------------------------------------------------------------------------------------------------------\n"
     ]
    },
    {
     "data": {
      "application/vnd.jupyter.widget-view+json": {
       "model_id": "8413b2781f9d4aee89f9fa1f4977605e",
       "version_major": 2,
       "version_minor": 0
      },
      "text/plain": [
       "Evaluation:   0%|          | 0/50 [00:00<?, ?it/s]"
      ]
     },
     "metadata": {},
     "output_type": "display_data"
    },
    {
     "name": "stdout",
     "output_type": "stream",
     "text": [
      "epoch: 22\n",
      "\t summary_rouge1 0.2831\n",
      "\t summary_rouge2 0.1244\n",
      "\t summary_rougeL 0.2681\n",
      "\t summary_meteor 0.2775\n",
      "\t summary_UMLS_term_f 0.561\n",
      "\t summary_UMLS_cuis_f 0.464\n",
      "after curr epoch, the target_trainable_instruction is:\n",
      "Generate a concise summary that includes the medication name, dosage, frequency, and duration mentioned by the doctor. Clearly specify how to identify and extract medication names, dosage, frequency, and duration from the conversation snippet. This can be done by providing specific keywords or phrases to look for, such as 'prescribed', 'dosage', 'frequency', and 'duration'. Emphasize the importance of excluding any irrelevant details or digressions from the doctor's response by explicitly stating that only information related to medication names, dosage, frequency, and duration should be included in the summary. Specify the format in which the information should be presented, such as using bullet points or a structured sentence. For example, 'The doctor prescribed [medication name] with a dosage of [dosage] to be taken [frequency] for [duration]'.\n",
      "23 EPOCH BEGIN--------------------------------------------------------------------------------------------------\n",
      "23 EPOCH BEGIN--------------------------------------------------------------------------------------------------\n",
      "23 EPOCH BEGIN--------------------------------------------------------------------------------------------------\n"
     ]
    },
    {
     "data": {
      "application/vnd.jupyter.widget-view+json": {
       "model_id": "25623a6645444b7982dbfd9d4219d916",
       "version_major": 2,
       "version_minor": 0
      },
      "text/plain": [
       "Training:   0%|          | 0/1 [00:00<?, ?it/s]"
      ]
     },
     "metadata": {},
     "output_type": "display_data"
    },
    {
     "name": "stdout",
     "output_type": "stream",
     "text": [
      "------------------------------------------------------------------\n",
      "START NEW TRAINING STEP\n",
      "------------------------------------------------------------------\n",
      "training metrics: before training step\n"
     ]
    },
    {
     "data": {
      "application/vnd.jupyter.widget-view+json": {
       "model_id": "57d3ac099ebf4c8a8d9e434a6df0220f",
       "version_major": 2,
       "version_minor": 0
      },
      "text/plain": [
       "Evaluation:   0%|          | 0/10 [00:00<?, ?it/s]"
      ]
     },
     "metadata": {},
     "output_type": "display_data"
    },
    {
     "name": "stdout",
     "output_type": "stream",
     "text": [
      "epoch: 23\n",
      "\t summary_rouge1 0.2379\n",
      "\t summary_rouge2 0.0804\n",
      "\t summary_rougeL 0.2379\n",
      "\t summary_meteor 0.2733\n",
      "\t summary_UMLS_term_f 0.6852\n",
      "\t summary_UMLS_cuis_f 0.6636\n",
      "training section: [7740, 7721, 7724, 7743, 7725, 7756, 7733, 7739, 7753, 7730]\n"
     ]
    },
    {
     "data": {
      "application/vnd.jupyter.widget-view+json": {
       "model_id": "6bb829ea7c7c4e6684d32b0caf67fa80",
       "version_major": 2,
       "version_minor": 0
      },
      "text/plain": [
       "batch cal loss:   0%|          | 0/10 [00:00<?, ?it/s]"
      ]
     },
     "metadata": {},
     "output_type": "display_data"
    },
    {
     "name": "stdout",
     "output_type": "stream",
     "text": [
      "final suggestion in this step:  Modify the instruction to include specific keywords or phrases to look for when identifying medication names, dosage, frequency, and duration. Emphasize the importance of excluding any irrelevant details or digressions from the doctor's response by explicitly stating that only information related to medication should be included in the summary. Specify the format in which the information should be presented, such as using bullet points or a structured sentence. For example, instruct the model to generate a summary in the format: 'The doctor prescribed [medication name] with a dosage of [dosage] to be taken [frequency] for [duration]'.\n",
      "training metrics: after training step\n"
     ]
    },
    {
     "data": {
      "application/vnd.jupyter.widget-view+json": {
       "model_id": "98a23a5a451142f68451fe78afa43d07",
       "version_major": 2,
       "version_minor": 0
      },
      "text/plain": [
       "Evaluation:   0%|          | 0/10 [00:00<?, ?it/s]"
      ]
     },
     "metadata": {},
     "output_type": "display_data"
    },
    {
     "name": "stdout",
     "output_type": "stream",
     "text": [
      "epoch: 23\n",
      "\t summary_rouge1 0.2212\n",
      "\t summary_rouge2 0.0757\n",
      "\t summary_rougeL 0.2212\n",
      "\t summary_meteor 0.2715\n",
      "\t summary_UMLS_term_f 0.647\n",
      "\t summary_UMLS_cuis_f 0.5857\n",
      "------------------------------------------------------------------\n",
      "END THIS TRAINING STEP\n",
      "------------------------------------------------------------------\n",
      "23 EPOCH END----------------------------------------------------------------------------------------------------\n",
      "23 EPOCH END----------------------------------------------------------------------------------------------------\n",
      "23 EPOCH END----------------------------------------------------------------------------------------------------\n",
      "----------------------------------------------------------------------------------------------------------------\n",
      "eval results on all TRAINING DATA for EPOCH 23\n",
      "----------------------------------------------------------------------------------------------------------------\n"
     ]
    },
    {
     "data": {
      "application/vnd.jupyter.widget-view+json": {
       "model_id": "bef76cd0babe404dbba900ad35fc14f2",
       "version_major": 2,
       "version_minor": 0
      },
      "text/plain": [
       "Evaluation:   0%|          | 0/50 [00:00<?, ?it/s]"
      ]
     },
     "metadata": {},
     "output_type": "display_data"
    },
    {
     "name": "stdout",
     "output_type": "stream",
     "text": [
      "epoch: 23\n",
      "\t summary_rouge1 0.2678\n",
      "\t summary_rouge2 0.1073\n",
      "\t summary_rougeL 0.2534\n",
      "\t summary_meteor 0.2912\n",
      "\t summary_UMLS_term_f 0.5918\n",
      "\t summary_UMLS_cuis_f 0.4833\n",
      "----------------------------------------------------------------------------------------------------------------\n",
      "eval results on all EVAL DATA for EPOCH 23\n",
      "----------------------------------------------------------------------------------------------------------------\n"
     ]
    },
    {
     "data": {
      "application/vnd.jupyter.widget-view+json": {
       "model_id": "b8646866ce224256a13aa6ceb8532efe",
       "version_major": 2,
       "version_minor": 0
      },
      "text/plain": [
       "Evaluation:   0%|          | 0/50 [00:00<?, ?it/s]"
      ]
     },
     "metadata": {},
     "output_type": "display_data"
    },
    {
     "name": "stdout",
     "output_type": "stream",
     "text": [
      "epoch: 23\n",
      "\t summary_rouge1 0.2963\n",
      "\t summary_rouge2 0.1314\n",
      "\t summary_rougeL 0.2798\n",
      "\t summary_meteor 0.2945\n",
      "\t summary_UMLS_term_f 0.6134\n",
      "\t summary_UMLS_cuis_f 0.5345\n",
      "after curr epoch, the target_trainable_instruction is:\n",
      "Generate a concise summary that includes the medication name, dosage, frequency, and duration mentioned by the doctor. To identify medication names, look for keywords or phrases such as 'prescribed', 'medication', or specific drug names. To extract dosage, frequency, and duration, look for keywords or phrases such as 'dosage', 'frequency', 'duration', or specific dosage instructions mentioned by the doctor. Emphasize that only information related to medication names, dosage, frequency, and duration should be included in the summary, excluding any irrelevant details or digressions. Specify the format in which the information should be presented, such as using bullet points or a structured sentence. For example, 'The doctor prescribed [medication name] with a dosage of [dosage] to be taken [frequency] for [duration]'.\n",
      "24 EPOCH BEGIN--------------------------------------------------------------------------------------------------\n",
      "24 EPOCH BEGIN--------------------------------------------------------------------------------------------------\n",
      "24 EPOCH BEGIN--------------------------------------------------------------------------------------------------\n"
     ]
    },
    {
     "data": {
      "application/vnd.jupyter.widget-view+json": {
       "model_id": "7f8b3aa62e3345209b439600882c77cd",
       "version_major": 2,
       "version_minor": 0
      },
      "text/plain": [
       "Training:   0%|          | 0/1 [00:00<?, ?it/s]"
      ]
     },
     "metadata": {},
     "output_type": "display_data"
    },
    {
     "name": "stdout",
     "output_type": "stream",
     "text": [
      "------------------------------------------------------------------\n",
      "START NEW TRAINING STEP\n",
      "------------------------------------------------------------------\n",
      "training metrics: before training step\n"
     ]
    },
    {
     "data": {
      "application/vnd.jupyter.widget-view+json": {
       "model_id": "f8985e1f6aeb4c6eabe9238388b3c5fd",
       "version_major": 2,
       "version_minor": 0
      },
      "text/plain": [
       "Evaluation:   0%|          | 0/10 [00:00<?, ?it/s]"
      ]
     },
     "metadata": {},
     "output_type": "display_data"
    },
    {
     "name": "stdout",
     "output_type": "stream",
     "text": [
      "epoch: 24\n",
      "\t summary_rouge1 0.2612\n",
      "\t summary_rouge2 0.1083\n",
      "\t summary_rougeL 0.2357\n",
      "\t summary_meteor 0.2328\n",
      "\t summary_UMLS_term_f 0.5779\n",
      "\t summary_UMLS_cuis_f 0.5105\n",
      "training section: [7733, 7722, 7748, 7717, 7719, 7729, 7754, 7745, 7753, 7730]\n"
     ]
    },
    {
     "data": {
      "application/vnd.jupyter.widget-view+json": {
       "model_id": "3b85b3c6db144585994acbb16e77ab62",
       "version_major": 2,
       "version_minor": 0
      },
      "text/plain": [
       "batch cal loss:   0%|          | 0/10 [00:00<?, ?it/s]"
      ]
     },
     "metadata": {},
     "output_type": "display_data"
    },
    {
     "name": "stdout",
     "output_type": "stream",
     "text": [
      "final suggestion in this step:  Revise the instruction to provide clear guidelines on how to identify medication names, dosage, frequency, and duration. Specify the format in which the information should be presented, such as using bullet points or a structured sentence. Emphasize the importance of excluding any irrelevant details or digressions from the summary.\n",
      "training metrics: after training step\n"
     ]
    },
    {
     "data": {
      "application/vnd.jupyter.widget-view+json": {
       "model_id": "f4e737186cb14efca0c3454475cc5305",
       "version_major": 2,
       "version_minor": 0
      },
      "text/plain": [
       "Evaluation:   0%|          | 0/10 [00:00<?, ?it/s]"
      ]
     },
     "metadata": {},
     "output_type": "display_data"
    },
    {
     "name": "stdout",
     "output_type": "stream",
     "text": [
      "epoch: 24\n",
      "\t summary_rouge1 0.1943\n",
      "\t summary_rouge2 0.0731\n",
      "\t summary_rougeL 0.1879\n",
      "\t summary_meteor 0.237\n",
      "\t summary_UMLS_term_f 0.3622\n",
      "\t summary_UMLS_cuis_f 0.2547\n",
      "------------------------------------------------------------------\n",
      "END THIS TRAINING STEP\n",
      "------------------------------------------------------------------\n",
      "24 EPOCH END----------------------------------------------------------------------------------------------------\n",
      "24 EPOCH END----------------------------------------------------------------------------------------------------\n",
      "24 EPOCH END----------------------------------------------------------------------------------------------------\n",
      "----------------------------------------------------------------------------------------------------------------\n",
      "eval results on all TRAINING DATA for EPOCH 24\n",
      "----------------------------------------------------------------------------------------------------------------\n"
     ]
    },
    {
     "data": {
      "application/vnd.jupyter.widget-view+json": {
       "model_id": "cf19f2883cb14cd0895b632f140cb1b3",
       "version_major": 2,
       "version_minor": 0
      },
      "text/plain": [
       "Evaluation:   0%|          | 0/50 [00:00<?, ?it/s]"
      ]
     },
     "metadata": {},
     "output_type": "display_data"
    },
    {
     "name": "stdout",
     "output_type": "stream",
     "text": [
      "epoch: 24\n",
      "\t summary_rouge1 0.2428\n",
      "\t summary_rouge2 0.097\n",
      "\t summary_rougeL 0.237\n",
      "\t summary_meteor 0.2613\n",
      "\t summary_UMLS_term_f 0.4981\n",
      "\t summary_UMLS_cuis_f 0.3747\n",
      "----------------------------------------------------------------------------------------------------------------\n",
      "eval results on all EVAL DATA for EPOCH 24\n",
      "----------------------------------------------------------------------------------------------------------------\n"
     ]
    },
    {
     "data": {
      "application/vnd.jupyter.widget-view+json": {
       "model_id": "f1c77e1fe9a94175b3591ea08db820ad",
       "version_major": 2,
       "version_minor": 0
      },
      "text/plain": [
       "Evaluation:   0%|          | 0/50 [00:00<?, ?it/s]"
      ]
     },
     "metadata": {},
     "output_type": "display_data"
    },
    {
     "name": "stdout",
     "output_type": "stream",
     "text": [
      "epoch: 24\n",
      "\t summary_rouge1 0.2174\n",
      "\t summary_rouge2 0.0688\n",
      "\t summary_rougeL 0.2086\n",
      "\t summary_meteor 0.2377\n",
      "\t summary_UMLS_term_f 0.4305\n",
      "\t summary_UMLS_cuis_f 0.3109\n",
      "after curr epoch, the target_trainable_instruction is:\n",
      "Revise the instruction to provide clear guidelines on how to identify medication names, dosage, frequency, and duration. Specify the format in which the information should be presented, such as using bullet points or a structured sentence. Emphasize the importance of excluding any irrelevant details or digressions from the summary.\n",
      "25 EPOCH BEGIN--------------------------------------------------------------------------------------------------\n",
      "25 EPOCH BEGIN--------------------------------------------------------------------------------------------------\n",
      "25 EPOCH BEGIN--------------------------------------------------------------------------------------------------\n"
     ]
    },
    {
     "data": {
      "application/vnd.jupyter.widget-view+json": {
       "model_id": "7afcc96257c84a0b92e814839d7c043d",
       "version_major": 2,
       "version_minor": 0
      },
      "text/plain": [
       "Training:   0%|          | 0/1 [00:00<?, ?it/s]"
      ]
     },
     "metadata": {},
     "output_type": "display_data"
    },
    {
     "name": "stdout",
     "output_type": "stream",
     "text": [
      "------------------------------------------------------------------\n",
      "START NEW TRAINING STEP\n",
      "------------------------------------------------------------------\n",
      "training metrics: before training step\n"
     ]
    },
    {
     "data": {
      "application/vnd.jupyter.widget-view+json": {
       "model_id": "569c61e13f85483297253384ea21eca1",
       "version_major": 2,
       "version_minor": 0
      },
      "text/plain": [
       "Evaluation:   0%|          | 0/10 [00:00<?, ?it/s]"
      ]
     },
     "metadata": {},
     "output_type": "display_data"
    },
    {
     "name": "stdout",
     "output_type": "stream",
     "text": [
      "epoch: 25\n",
      "\t summary_rouge1 0.2538\n",
      "\t summary_rouge2 0.1105\n",
      "\t summary_rougeL 0.2497\n",
      "\t summary_meteor 0.2995\n",
      "\t summary_UMLS_term_f 0.4514\n",
      "\t summary_UMLS_cuis_f 0.2763\n",
      "training section: [7734, 7733, 7717, 7743, 7732, 7753, 7741, 7746, 7735, 7739]\n"
     ]
    },
    {
     "data": {
      "application/vnd.jupyter.widget-view+json": {
       "model_id": "33f4ab6ecfcf4159861c2ee6580d503b",
       "version_major": 2,
       "version_minor": 0
      },
      "text/plain": [
       "batch cal loss:   0%|          | 0/10 [00:00<?, ?it/s]"
      ]
     },
     "metadata": {},
     "output_type": "display_data"
    },
    {
     "name": "stdout",
     "output_type": "stream",
     "text": [
      "final suggestion in this step:  Revise the instruction to provide clear guidelines on how to identify medication names, dosage, frequency, and duration. Specify that medication names should be mentioned explicitly, dosage should include the amount and unit of measurement, frequency should indicate how often the medication should be taken, and duration should specify the length of time the medication should be taken. Instruct the model to present this information in a structured sentence format. Emphasize the importance of excluding any irrelevant details or digressions from the summary by instructing the model to focus only on the relevant medication information.\n",
      "training metrics: after training step\n"
     ]
    },
    {
     "data": {
      "application/vnd.jupyter.widget-view+json": {
       "model_id": "843c4cf86e574f318d76f53f95103e0b",
       "version_major": 2,
       "version_minor": 0
      },
      "text/plain": [
       "Evaluation:   0%|          | 0/10 [00:00<?, ?it/s]"
      ]
     },
     "metadata": {},
     "output_type": "display_data"
    },
    {
     "name": "stdout",
     "output_type": "stream",
     "text": [
      "epoch: 25\n",
      "\t summary_rouge1 0.1862\n",
      "\t summary_rouge2 0.0519\n",
      "\t summary_rougeL 0.1788\n",
      "\t summary_meteor 0.2223\n",
      "\t summary_UMLS_term_f 0.5292\n",
      "\t summary_UMLS_cuis_f 0.4288\n",
      "------------------------------------------------------------------\n",
      "END THIS TRAINING STEP\n",
      "------------------------------------------------------------------\n",
      "25 EPOCH END----------------------------------------------------------------------------------------------------\n",
      "25 EPOCH END----------------------------------------------------------------------------------------------------\n",
      "25 EPOCH END----------------------------------------------------------------------------------------------------\n",
      "----------------------------------------------------------------------------------------------------------------\n",
      "eval results on all TRAINING DATA for EPOCH 25\n",
      "----------------------------------------------------------------------------------------------------------------\n"
     ]
    },
    {
     "data": {
      "application/vnd.jupyter.widget-view+json": {
       "model_id": "058547c8ff254c0d89479e152e81ed68",
       "version_major": 2,
       "version_minor": 0
      },
      "text/plain": [
       "Evaluation:   0%|          | 0/50 [00:00<?, ?it/s]"
      ]
     },
     "metadata": {},
     "output_type": "display_data"
    },
    {
     "name": "stdout",
     "output_type": "stream",
     "text": [
      "epoch: 25\n",
      "\t summary_rouge1 0.2337\n",
      "\t summary_rouge2 0.0843\n",
      "\t summary_rougeL 0.2184\n",
      "\t summary_meteor 0.2841\n",
      "\t summary_UMLS_term_f 0.5476\n",
      "\t summary_UMLS_cuis_f 0.4166\n",
      "----------------------------------------------------------------------------------------------------------------\n",
      "eval results on all EVAL DATA for EPOCH 25\n",
      "----------------------------------------------------------------------------------------------------------------\n"
     ]
    },
    {
     "data": {
      "application/vnd.jupyter.widget-view+json": {
       "model_id": "633296583371430cb854c894cec558a8",
       "version_major": 2,
       "version_minor": 0
      },
      "text/plain": [
       "Evaluation:   0%|          | 0/50 [00:00<?, ?it/s]"
      ]
     },
     "metadata": {},
     "output_type": "display_data"
    },
    {
     "name": "stdout",
     "output_type": "stream",
     "text": [
      "epoch: 25\n",
      "\t summary_rouge1 0.235\n",
      "\t summary_rouge2 0.0926\n",
      "\t summary_rougeL 0.2211\n",
      "\t summary_meteor 0.2878\n",
      "\t summary_UMLS_term_f 0.4993\n",
      "\t summary_UMLS_cuis_f 0.3778\n",
      "after curr epoch, the target_trainable_instruction is:\n",
      "Revise the instruction to provide clear guidelines on how to identify medication names, dosage, frequency, and duration. Specify that medication names should be mentioned explicitly, dosage should include the amount and unit of measurement, frequency should indicate how often the medication should be taken, and duration should specify the length of time the medication should be taken. Instruct the model to present this information in a structured sentence format, such as 'The patient is prescribed [medication name] with a dosage of [dosage] [unit] to be taken [frequency] for [duration].' Emphasize the importance of excluding any irrelevant details or digressions from the summary by instructing the model to focus only on the relevant medication information.\n",
      "26 EPOCH BEGIN--------------------------------------------------------------------------------------------------\n",
      "26 EPOCH BEGIN--------------------------------------------------------------------------------------------------\n",
      "26 EPOCH BEGIN--------------------------------------------------------------------------------------------------\n"
     ]
    },
    {
     "data": {
      "application/vnd.jupyter.widget-view+json": {
       "model_id": "f8097b624f6d433c8d5894754d297513",
       "version_major": 2,
       "version_minor": 0
      },
      "text/plain": [
       "Training:   0%|          | 0/1 [00:00<?, ?it/s]"
      ]
     },
     "metadata": {},
     "output_type": "display_data"
    },
    {
     "name": "stdout",
     "output_type": "stream",
     "text": [
      "------------------------------------------------------------------\n",
      "START NEW TRAINING STEP\n",
      "------------------------------------------------------------------\n",
      "training metrics: before training step\n"
     ]
    },
    {
     "data": {
      "application/vnd.jupyter.widget-view+json": {
       "model_id": "04af519972624581a4721e095415aefc",
       "version_major": 2,
       "version_minor": 0
      },
      "text/plain": [
       "Evaluation:   0%|          | 0/10 [00:00<?, ?it/s]"
      ]
     },
     "metadata": {},
     "output_type": "display_data"
    },
    {
     "name": "stdout",
     "output_type": "stream",
     "text": [
      "epoch: 26\n",
      "\t summary_rouge1 0.2709\n",
      "\t summary_rouge2 0.0961\n",
      "\t summary_rougeL 0.2626\n",
      "\t summary_meteor 0.3119\n",
      "\t summary_UMLS_term_f 0.5834\n",
      "\t summary_UMLS_cuis_f 0.4937\n",
      "training section: [7750, 7759, 7747, 7718, 7727, 7721, 7741, 7753, 7743, 7761]\n"
     ]
    },
    {
     "data": {
      "application/vnd.jupyter.widget-view+json": {
       "model_id": "41023941b8934bcb9e6e992d39689b38",
       "version_major": 2,
       "version_minor": 0
      },
      "text/plain": [
       "batch cal loss:   0%|          | 0/10 [00:00<?, ?it/s]"
      ]
     },
     "metadata": {},
     "output_type": "display_data"
    },
    {
     "name": "stdout",
     "output_type": "stream",
     "text": [
      "final suggestion in this step:  Revise the instruction to provide clear and specific guidelines on how to identify medication names, dosage, frequency, and duration. Instruct the model to explicitly mention medication names, include the amount and unit of measurement for dosage, indicate how often the medication should be taken for frequency, and specify the length of time the medication should be taken for duration. Emphasize the importance of excluding any irrelevant details or digressions from the summary. Instruct the model to present the medication information in a structured sentence format, such as 'The patient is prescribed [medication name] with a dosage of [dosage] [unit] to be taken [frequency] for [duration].' \n",
      "training metrics: after training step\n"
     ]
    },
    {
     "data": {
      "application/vnd.jupyter.widget-view+json": {
       "model_id": "832cb891683c4fcc85152917bff5fd75",
       "version_major": 2,
       "version_minor": 0
      },
      "text/plain": [
       "Evaluation:   0%|          | 0/10 [00:00<?, ?it/s]"
      ]
     },
     "metadata": {},
     "output_type": "display_data"
    },
    {
     "name": "stdout",
     "output_type": "stream",
     "text": [
      "epoch: 26\n",
      "\t summary_rouge1 0.2182\n",
      "\t summary_rouge2 0.0655\n",
      "\t summary_rougeL 0.2182\n",
      "\t summary_meteor 0.204\n",
      "\t summary_UMLS_term_f 0.4787\n",
      "\t summary_UMLS_cuis_f 0.3509\n",
      "------------------------------------------------------------------\n",
      "END THIS TRAINING STEP\n",
      "------------------------------------------------------------------\n",
      "26 EPOCH END----------------------------------------------------------------------------------------------------\n",
      "26 EPOCH END----------------------------------------------------------------------------------------------------\n",
      "26 EPOCH END----------------------------------------------------------------------------------------------------\n",
      "----------------------------------------------------------------------------------------------------------------\n",
      "eval results on all TRAINING DATA for EPOCH 26\n",
      "----------------------------------------------------------------------------------------------------------------\n"
     ]
    },
    {
     "data": {
      "application/vnd.jupyter.widget-view+json": {
       "model_id": "d31dc9fbd008458aaf054680c0517c74",
       "version_major": 2,
       "version_minor": 0
      },
      "text/plain": [
       "Evaluation:   0%|          | 0/50 [00:00<?, ?it/s]"
      ]
     },
     "metadata": {},
     "output_type": "display_data"
    },
    {
     "name": "stdout",
     "output_type": "stream",
     "text": [
      "epoch: 26\n",
      "\t summary_rouge1 0.2336\n",
      "\t summary_rouge2 0.0853\n",
      "\t summary_rougeL 0.2234\n",
      "\t summary_meteor 0.2785\n",
      "\t summary_UMLS_term_f 0.5271\n",
      "\t summary_UMLS_cuis_f 0.3859\n",
      "----------------------------------------------------------------------------------------------------------------\n",
      "eval results on all EVAL DATA for EPOCH 26\n",
      "----------------------------------------------------------------------------------------------------------------\n"
     ]
    },
    {
     "data": {
      "application/vnd.jupyter.widget-view+json": {
       "model_id": "c283b121e6c2408e9cc12a4b9185afef",
       "version_major": 2,
       "version_minor": 0
      },
      "text/plain": [
       "Evaluation:   0%|          | 0/50 [00:00<?, ?it/s]"
      ]
     },
     "metadata": {},
     "output_type": "display_data"
    },
    {
     "name": "stdout",
     "output_type": "stream",
     "text": [
      "epoch: 26\n",
      "\t summary_rouge1 0.2499\n",
      "\t summary_rouge2 0.0998\n",
      "\t summary_rougeL 0.2336\n",
      "\t summary_meteor 0.2977\n",
      "\t summary_UMLS_term_f 0.4925\n",
      "\t summary_UMLS_cuis_f 0.3842\n",
      "after curr epoch, the target_trainable_instruction is:\n",
      "Revise the instruction to provide clear and specific guidelines on how to identify medication names, dosage, frequency, and duration. Specify that medication names should be mentioned explicitly, dosage should include the amount and unit of measurement, frequency should indicate how often the medication should be taken, and duration should specify the length of time the medication should be taken. Instruct the model to explicitly mention medication names, include the amount and unit of measurement for dosage, indicate how often the medication should be taken for frequency, and specify the length of time the medication should be taken for duration. Emphasize the importance of excluding any irrelevant details or digressions from the summary. Instruct the model to present the medication information in a structured sentence format, such as 'The patient is prescribed [medication name] with a dosage of [dosage] [unit] to be taken [frequency] for [duration].' \n",
      "27 EPOCH BEGIN--------------------------------------------------------------------------------------------------\n",
      "27 EPOCH BEGIN--------------------------------------------------------------------------------------------------\n",
      "27 EPOCH BEGIN--------------------------------------------------------------------------------------------------\n"
     ]
    },
    {
     "data": {
      "application/vnd.jupyter.widget-view+json": {
       "model_id": "922d717f23244d0083a435da2538d14d",
       "version_major": 2,
       "version_minor": 0
      },
      "text/plain": [
       "Training:   0%|          | 0/1 [00:00<?, ?it/s]"
      ]
     },
     "metadata": {},
     "output_type": "display_data"
    },
    {
     "name": "stdout",
     "output_type": "stream",
     "text": [
      "------------------------------------------------------------------\n",
      "START NEW TRAINING STEP\n",
      "------------------------------------------------------------------\n",
      "training metrics: before training step\n"
     ]
    },
    {
     "data": {
      "application/vnd.jupyter.widget-view+json": {
       "model_id": "e558de68bef241b3ab7f5ef9cf6f3987",
       "version_major": 2,
       "version_minor": 0
      },
      "text/plain": [
       "Evaluation:   0%|          | 0/10 [00:00<?, ?it/s]"
      ]
     },
     "metadata": {},
     "output_type": "display_data"
    },
    {
     "name": "stdout",
     "output_type": "stream",
     "text": [
      "epoch: 27\n",
      "\t summary_rouge1 0.2367\n",
      "\t summary_rouge2 0.11\n",
      "\t summary_rougeL 0.2299\n",
      "\t summary_meteor 0.2708\n",
      "\t summary_UMLS_term_f 0.5356\n",
      "\t summary_UMLS_cuis_f 0.3894\n",
      "training section: [7753, 7718, 7721, 7739, 7745, 7757, 7738, 7744, 7723, 7762]\n"
     ]
    },
    {
     "data": {
      "application/vnd.jupyter.widget-view+json": {
       "model_id": "b117c92e1a5d4e51869fc835af24ba5a",
       "version_major": 2,
       "version_minor": 0
      },
      "text/plain": [
       "batch cal loss:   0%|          | 0/10 [00:00<?, ?it/s]"
      ]
     },
     "metadata": {},
     "output_type": "display_data"
    },
    {
     "name": "stdout",
     "output_type": "stream",
     "text": [
      "final suggestion in this step:  Revise the instruction to provide clear and specific guidelines on how to identify medication names, dosage, frequency, and duration. Specify that medication names should be mentioned explicitly, dosage should include the amount and unit of measurement, frequency should indicate how often the medication should be taken, and duration should specify the length of time the medication should be taken. Instruct the model to explicitly mention medication names, include the amount and unit of measurement for dosage, indicate how often the medication should be taken for frequency, and specify the length of time the medication should be taken for duration. Emphasize the importance of excluding any irrelevant details or digressions from the summary. Instruct the model to present the medication information in a structured sentence format, such as 'The patient is prescribed [medication name] with a dosage of [dosage] [unit] to be taken [frequency] for [duration].' \n",
      "training metrics: after training step\n"
     ]
    },
    {
     "data": {
      "application/vnd.jupyter.widget-view+json": {
       "model_id": "b7e63387c93a4c9fba01f3970dc057be",
       "version_major": 2,
       "version_minor": 0
      },
      "text/plain": [
       "Evaluation:   0%|          | 0/10 [00:00<?, ?it/s]"
      ]
     },
     "metadata": {},
     "output_type": "display_data"
    },
    {
     "name": "stdout",
     "output_type": "stream",
     "text": [
      "epoch: 27\n",
      "\t summary_rouge1 0.2367\n",
      "\t summary_rouge2 0.11\n",
      "\t summary_rougeL 0.2299\n",
      "\t summary_meteor 0.2708\n",
      "\t summary_UMLS_term_f 0.5356\n",
      "\t summary_UMLS_cuis_f 0.3894\n",
      "------------------------------------------------------------------\n",
      "END THIS TRAINING STEP\n",
      "------------------------------------------------------------------\n",
      "27 EPOCH END----------------------------------------------------------------------------------------------------\n",
      "27 EPOCH END----------------------------------------------------------------------------------------------------\n",
      "27 EPOCH END----------------------------------------------------------------------------------------------------\n",
      "----------------------------------------------------------------------------------------------------------------\n",
      "eval results on all TRAINING DATA for EPOCH 27\n",
      "----------------------------------------------------------------------------------------------------------------\n"
     ]
    },
    {
     "data": {
      "application/vnd.jupyter.widget-view+json": {
       "model_id": "db9848fc79ee470793b560dc982f86bc",
       "version_major": 2,
       "version_minor": 0
      },
      "text/plain": [
       "Evaluation:   0%|          | 0/50 [00:00<?, ?it/s]"
      ]
     },
     "metadata": {},
     "output_type": "display_data"
    },
    {
     "name": "stdout",
     "output_type": "stream",
     "text": [
      "epoch: 27\n",
      "\t summary_rouge1 0.2356\n",
      "\t summary_rouge2 0.0862\n",
      "\t summary_rougeL 0.2255\n",
      "\t summary_meteor 0.2793\n",
      "\t summary_UMLS_term_f 0.5258\n",
      "\t summary_UMLS_cuis_f 0.3841\n",
      "----------------------------------------------------------------------------------------------------------------\n",
      "eval results on all EVAL DATA for EPOCH 27\n",
      "----------------------------------------------------------------------------------------------------------------\n"
     ]
    },
    {
     "data": {
      "application/vnd.jupyter.widget-view+json": {
       "model_id": "251191c7b9c8430498749681b2aa5dd1",
       "version_major": 2,
       "version_minor": 0
      },
      "text/plain": [
       "Evaluation:   0%|          | 0/50 [00:00<?, ?it/s]"
      ]
     },
     "metadata": {},
     "output_type": "display_data"
    },
    {
     "name": "stdout",
     "output_type": "stream",
     "text": [
      "epoch: 27\n",
      "\t summary_rouge1 0.2507\n",
      "\t summary_rouge2 0.1022\n",
      "\t summary_rougeL 0.2344\n",
      "\t summary_meteor 0.2968\n",
      "\t summary_UMLS_term_f 0.4902\n",
      "\t summary_UMLS_cuis_f 0.3819\n",
      "after curr epoch, the target_trainable_instruction is:\n",
      "Revise the instruction to provide clear and specific guidelines on how to identify medication names, dosage, frequency, and duration. Specify that medication names should be mentioned explicitly, dosage should include the amount and unit of measurement, frequency should indicate how often the medication should be taken, and duration should specify the length of time the medication should be taken. Instruct the model to explicitly mention medication names, include the amount and unit of measurement for dosage, indicate how often the medication should be taken for frequency, and specify the length of time the medication should be taken for duration. Emphasize the importance of excluding any irrelevant details or digressions from the summary. Instruct the model to present the medication information in a structured sentence format, such as 'The patient is prescribed [medication name] with a dosage of [dosage] [unit] to be taken [frequency] for [duration].' \n",
      "28 EPOCH BEGIN--------------------------------------------------------------------------------------------------\n",
      "28 EPOCH BEGIN--------------------------------------------------------------------------------------------------\n",
      "28 EPOCH BEGIN--------------------------------------------------------------------------------------------------\n"
     ]
    },
    {
     "data": {
      "application/vnd.jupyter.widget-view+json": {
       "model_id": "1f0a146ffd04470d966f1df0f72cef3b",
       "version_major": 2,
       "version_minor": 0
      },
      "text/plain": [
       "Training:   0%|          | 0/1 [00:00<?, ?it/s]"
      ]
     },
     "metadata": {},
     "output_type": "display_data"
    },
    {
     "name": "stdout",
     "output_type": "stream",
     "text": [
      "------------------------------------------------------------------\n",
      "START NEW TRAINING STEP\n",
      "------------------------------------------------------------------\n",
      "training metrics: before training step\n"
     ]
    },
    {
     "data": {
      "application/vnd.jupyter.widget-view+json": {
       "model_id": "3a797a1e149344c8a82629b3617810e0",
       "version_major": 2,
       "version_minor": 0
      },
      "text/plain": [
       "Evaluation:   0%|          | 0/10 [00:00<?, ?it/s]"
      ]
     },
     "metadata": {},
     "output_type": "display_data"
    },
    {
     "name": "stdout",
     "output_type": "stream",
     "text": [
      "epoch: 28\n",
      "\t summary_rouge1 0.2234\n",
      "\t summary_rouge2 0.055\n",
      "\t summary_rougeL 0.2115\n",
      "\t summary_meteor 0.2129\n",
      "\t summary_UMLS_term_f 0.5576\n",
      "\t summary_UMLS_cuis_f 0.4606\n",
      "training section: [7721, 7758, 7745, 7759, 7726, 7727, 7746, 7713, 7760, 7736]\n"
     ]
    },
    {
     "data": {
      "application/vnd.jupyter.widget-view+json": {
       "model_id": "20904aa82f9d41f39c954eb8381cfd8d",
       "version_major": 2,
       "version_minor": 0
      },
      "text/plain": [
       "batch cal loss:   0%|          | 0/10 [00:00<?, ?it/s]"
      ]
     },
     "metadata": {},
     "output_type": "display_data"
    },
    {
     "ename": "JSONDecodeError",
     "evalue": "Expecting ',' delimiter: line 3 column 1 (char 724)",
     "output_type": "error",
     "traceback": [
      "\u001b[0;31m---------------------------------------------------------------------------\u001b[0m",
      "\u001b[0;31mJSONDecodeError\u001b[0m                           Traceback (most recent call last)",
      "Cell \u001b[0;32mIn[15], line 4\u001b[0m\n\u001b[1;32m      1\u001b[0m ngram_eval \u001b[38;5;241m=\u001b[39m AutomaticNgramEval()\n\u001b[1;32m      2\u001b[0m factev \u001b[38;5;241m=\u001b[39m AutomaticFactEval()\n\u001b[0;32m----> 4\u001b[0m target_trainable_instruction, target_trainable_few_shot_examples \u001b[38;5;241m=\u001b[39m \u001b[43mtrain_loop\u001b[49m\u001b[43m(\u001b[49m\u001b[43mtrain_df\u001b[49m\u001b[43m,\u001b[49m\u001b[43m \u001b[49m\u001b[43meval_df\u001b[49m\u001b[43m,\u001b[49m\u001b[43m \u001b[49m\n\u001b[1;32m      5\u001b[0m \u001b[43m                                                                              \u001b[49m\u001b[43mtarget_trainable_instruction\u001b[49m\u001b[43m,\u001b[49m\n\u001b[1;32m      6\u001b[0m \u001b[43m                                                                              \u001b[49m\u001b[43msummarize_raw_instruction\u001b[49m\u001b[43m,\u001b[49m\u001b[43m \u001b[49m\u001b[43mlogging\u001b[49m\u001b[43m,\u001b[49m\u001b[43m \u001b[49m\n\u001b[1;32m      7\u001b[0m \u001b[43m                                                                              \u001b[49m\u001b[43mngram_eval\u001b[49m\u001b[43m,\u001b[49m\u001b[43m \u001b[49m\u001b[43mfactev\u001b[49m\u001b[43m,\u001b[49m\n\u001b[1;32m      8\u001b[0m \u001b[43m                                                                              \u001b[49m\u001b[43mtarget_trainable_few_shot_examples\u001b[49m\u001b[43m,\u001b[49m\u001b[43m \u001b[49m\n\u001b[1;32m      9\u001b[0m \u001b[43m                                                                              \u001b[49m\u001b[43mdo_few_shot\u001b[49m\u001b[38;5;241;43m=\u001b[39;49m\u001b[38;5;28;43;01mFalse\u001b[39;49;00m\u001b[43m,\u001b[49m\n\u001b[1;32m     10\u001b[0m \u001b[43m                                                                              \u001b[49m\u001b[43mEPOCH\u001b[49m\u001b[38;5;241;43m=\u001b[39;49m\u001b[38;5;241;43m50\u001b[39;49m\u001b[43m,\u001b[49m\u001b[43m \u001b[49m\u001b[43msteps_per_epoch\u001b[49m\u001b[38;5;241;43m=\u001b[39;49m\u001b[38;5;241;43m1\u001b[39;49m\u001b[43m,\u001b[49m\u001b[43m \u001b[49m\u001b[43mbsz\u001b[49m\u001b[38;5;241;43m=\u001b[39;49m\u001b[38;5;241;43m10\u001b[39;49m\u001b[43m,\u001b[49m\u001b[43m \u001b[49m\n\u001b[1;32m     11\u001b[0m \u001b[43m                                                                              \u001b[49m\u001b[43meval_at_beginning\u001b[49m\u001b[38;5;241;43m=\u001b[39;49m\u001b[38;5;28;43;01mTrue\u001b[39;49;00m\u001b[43m,\u001b[49m\n\u001b[1;32m     12\u001b[0m \u001b[43m                                                                              \u001b[49m\u001b[43mdataloader_sample_mode\u001b[49m\u001b[38;5;241;43m=\u001b[39;49m\u001b[38;5;124;43m'\u001b[39;49m\u001b[38;5;124;43mrandom\u001b[39;49m\u001b[38;5;124;43m'\u001b[39;49m\u001b[43m,\u001b[49m\n\u001b[1;32m     13\u001b[0m \u001b[43m                                                                              \u001b[49m\u001b[43mlearning_temperature_rate\u001b[49m\u001b[38;5;241;43m=\u001b[39;49m\u001b[38;5;241;43m0\u001b[39;49m\u001b[43m)\u001b[49m\n",
      "Cell \u001b[0;32mIn[14], line 66\u001b[0m, in \u001b[0;36mtrain_loop\u001b[0;34m(train_df, eval_df, target_trainable_instruction, summarize_raw_instruction, logging, ngram_eval, factev, target_trainable_few_shot_examples, do_few_shot, EPOCH, steps_per_epoch, bsz, eval_at_beginning, dataloader_sample_mode, learning_temperature_rate)\u001b[0m\n\u001b[1;32m     64\u001b[0m \u001b[38;5;66;03m#train the \"instruction\"\u001b[39;00m\n\u001b[1;32m     65\u001b[0m \u001b[38;5;28;01mif\u001b[39;00m \u001b[38;5;129;01mnot\u001b[39;00m do_few_shot:\n\u001b[0;32m---> 66\u001b[0m     target_trainable_instruction, is_updated \u001b[38;5;241m=\u001b[39m \u001b[43mtrain_one_step\u001b[49m\u001b[43m(\u001b[49m\u001b[43mepoch\u001b[49m\u001b[43m,\u001b[49m\u001b[43m \u001b[49m\u001b[43mtrain_step\u001b[49m\u001b[43m,\u001b[49m\u001b[43m \u001b[49m\u001b[43mtraining_data\u001b[49m\u001b[43m,\u001b[49m\u001b[43m \u001b[49m\u001b[43mbsz\u001b[49m\u001b[43m,\u001b[49m\u001b[43m \u001b[49m\n\u001b[1;32m     67\u001b[0m \u001b[43m                                                              \u001b[49m\u001b[43mtarget_trainable_instruction\u001b[49m\u001b[43m,\u001b[49m\u001b[43m \u001b[49m\n\u001b[1;32m     68\u001b[0m \u001b[43m                                                              \u001b[49m\u001b[43msummarize_raw_instruction\u001b[49m\u001b[43m,\u001b[49m\u001b[43m \u001b[49m\n\u001b[1;32m     69\u001b[0m \u001b[43m                                                              \u001b[49m\u001b[43mlogging\u001b[49m\u001b[43m,\u001b[49m\u001b[43m \u001b[49m\u001b[43mlearning_temperature_rate\u001b[49m\u001b[38;5;241;43m=\u001b[39;49m\u001b[43mlearning_temperature_rate\u001b[49m\u001b[43m)\u001b[49m\n\u001b[1;32m     71\u001b[0m \u001b[38;5;66;03m#train the few-shot-examples\u001b[39;00m\n\u001b[1;32m     72\u001b[0m \u001b[38;5;28;01mif\u001b[39;00m do_few_shot:\n",
      "Cell \u001b[0;32mIn[11], line 80\u001b[0m, in \u001b[0;36mtrain_one_step\u001b[0;34m(epoch, step, training_data, bsz, target_trainable_instruction, summarize_raw_instruction, logging, learning_temperature_rate)\u001b[0m\n\u001b[1;32m     75\u001b[0m     bsz_suggestions\u001b[38;5;241m.\u001b[39mappend({\u001b[38;5;124m'\u001b[39m\u001b[38;5;124mlabel_summary\u001b[39m\u001b[38;5;124m'\u001b[39m: label_summary,\n\u001b[1;32m     76\u001b[0m                             \u001b[38;5;124m'\u001b[39m\u001b[38;5;124mAI_summary\u001b[39m\u001b[38;5;124m'\u001b[39m: AI_summary,\n\u001b[1;32m     77\u001b[0m                             \u001b[38;5;124m'\u001b[39m\u001b[38;5;124msuggestions\u001b[39m\u001b[38;5;124m'\u001b[39m: suggestions})\n\u001b[1;32m     79\u001b[0m \u001b[38;5;66;03m# make backward update\u001b[39;00m\n\u001b[0;32m---> 80\u001b[0m new_target_trainable_instruction \u001b[38;5;241m=\u001b[39m \u001b[43mtraining_backward_step\u001b[49m\u001b[43m(\u001b[49m\u001b[43mtraining_prompt_backward_prefix\u001b[49m\u001b[43m,\u001b[49m\n\u001b[1;32m     81\u001b[0m \u001b[43m                                                          \u001b[49m\u001b[43mtraining_prompt_backward_suggestions\u001b[49m\u001b[43m,\u001b[49m\n\u001b[1;32m     82\u001b[0m \u001b[43m                                                          \u001b[49m\u001b[43mtraining_prompt_backward_suffix\u001b[49m\u001b[43m,\u001b[49m\u001b[43m \u001b[49m\n\u001b[1;32m     83\u001b[0m \u001b[43m                                                          \u001b[49m\u001b[43mtarget_trainable_instruction\u001b[49m\u001b[43m,\u001b[49m\u001b[43m \u001b[49m\n\u001b[1;32m     84\u001b[0m \u001b[43m                                                          \u001b[49m\u001b[43mbsz\u001b[49m\u001b[43m,\u001b[49m\n\u001b[1;32m     85\u001b[0m \u001b[43m                                                          \u001b[49m\u001b[43mbsz_suggestions\u001b[49m\u001b[43m,\u001b[49m\u001b[43m \u001b[49m\n\u001b[1;32m     86\u001b[0m \u001b[43m                                                          \u001b[49m\u001b[43mlearning_temperature_rate\u001b[49m\u001b[43m)\u001b[49m\n\u001b[1;32m     87\u001b[0m \u001b[38;5;66;03m#update to get new target_trainable_instruction\u001b[39;00m\n\u001b[1;32m     88\u001b[0m target_trainable_instruction \u001b[38;5;241m=\u001b[39m new_target_trainable_instruction\n",
      "Cell \u001b[0;32mIn[11], line 46\u001b[0m, in \u001b[0;36mtraining_backward_step\u001b[0;34m(training_prompt_backward_prefix, training_prompt_backward_suggestions, training_prompt_backward_suffix, target_trainable_instruction, bsz, bsz_suggestion, learning_temperature_rate)\u001b[0m\n\u001b[1;32m     36\u001b[0m instruction \u001b[38;5;241m=\u001b[39m instruction \u001b[38;5;241m+\u001b[39m training_prompt_backward_suffix\n\u001b[1;32m     38\u001b[0m response \u001b[38;5;241m=\u001b[39m openai\u001b[38;5;241m.\u001b[39mChatCompletion\u001b[38;5;241m.\u001b[39mcreate(\n\u001b[1;32m     39\u001b[0m     model\u001b[38;5;241m=\u001b[39m\u001b[38;5;124m\"\u001b[39m\u001b[38;5;124mgpt-3.5-turbo-16k\u001b[39m\u001b[38;5;124m\"\u001b[39m, \u001b[38;5;66;03m#gpt-4\u001b[39;00m\n\u001b[1;32m     40\u001b[0m     messages\u001b[38;5;241m=\u001b[39m[\n\u001b[0;32m   (...)\u001b[0m\n\u001b[1;32m     43\u001b[0m     temperature\u001b[38;5;241m=\u001b[39mlearning_temperature_rate\n\u001b[1;32m     44\u001b[0m )\n\u001b[0;32m---> 46\u001b[0m response \u001b[38;5;241m=\u001b[39m \u001b[43mjson\u001b[49m\u001b[38;5;241;43m.\u001b[39;49m\u001b[43mloads\u001b[49m\u001b[43m(\u001b[49m\u001b[43mresponse\u001b[49m\u001b[43m[\u001b[49m\u001b[38;5;124;43m\"\u001b[39;49m\u001b[38;5;124;43mchoices\u001b[39;49m\u001b[38;5;124;43m\"\u001b[39;49m\u001b[43m]\u001b[49m\u001b[43m[\u001b[49m\u001b[38;5;241;43m0\u001b[39;49m\u001b[43m]\u001b[49m\u001b[43m[\u001b[49m\u001b[38;5;124;43m\"\u001b[39;49m\u001b[38;5;124;43mmessage\u001b[39;49m\u001b[38;5;124;43m\"\u001b[39;49m\u001b[43m]\u001b[49m\u001b[43m[\u001b[49m\u001b[38;5;124;43m\"\u001b[39;49m\u001b[38;5;124;43mcontent\u001b[39;49m\u001b[38;5;124;43m\"\u001b[39;49m\u001b[43m]\u001b[49m\u001b[43m,\u001b[49m\u001b[43m \u001b[49m\u001b[43mstrict\u001b[49m\u001b[38;5;241;43m=\u001b[39;49m\u001b[38;5;28;43;01mFalse\u001b[39;49;00m\u001b[43m)\u001b[49m\n\u001b[1;32m     48\u001b[0m new_target_trainable_instruction \u001b[38;5;241m=\u001b[39m response[\u001b[38;5;124m'\u001b[39m\u001b[38;5;124mnew instruction\u001b[39m\u001b[38;5;124m'\u001b[39m]\n\u001b[1;32m     49\u001b[0m final_suggestion \u001b[38;5;241m=\u001b[39m response[\u001b[38;5;124m'\u001b[39m\u001b[38;5;124mfinal suggestion\u001b[39m\u001b[38;5;124m'\u001b[39m]\n",
      "File \u001b[0;32m/opt/conda/envs/qlora/lib/python3.8/json/__init__.py:370\u001b[0m, in \u001b[0;36mloads\u001b[0;34m(s, cls, object_hook, parse_float, parse_int, parse_constant, object_pairs_hook, **kw)\u001b[0m\n\u001b[1;32m    368\u001b[0m \u001b[38;5;28;01mif\u001b[39;00m parse_constant \u001b[38;5;129;01mis\u001b[39;00m \u001b[38;5;129;01mnot\u001b[39;00m \u001b[38;5;28;01mNone\u001b[39;00m:\n\u001b[1;32m    369\u001b[0m     kw[\u001b[38;5;124m'\u001b[39m\u001b[38;5;124mparse_constant\u001b[39m\u001b[38;5;124m'\u001b[39m] \u001b[38;5;241m=\u001b[39m parse_constant\n\u001b[0;32m--> 370\u001b[0m \u001b[38;5;28;01mreturn\u001b[39;00m \u001b[38;5;28;43mcls\u001b[39;49m\u001b[43m(\u001b[49m\u001b[38;5;241;43m*\u001b[39;49m\u001b[38;5;241;43m*\u001b[39;49m\u001b[43mkw\u001b[49m\u001b[43m)\u001b[49m\u001b[38;5;241;43m.\u001b[39;49m\u001b[43mdecode\u001b[49m\u001b[43m(\u001b[49m\u001b[43ms\u001b[49m\u001b[43m)\u001b[49m\n",
      "File \u001b[0;32m/opt/conda/envs/qlora/lib/python3.8/json/decoder.py:337\u001b[0m, in \u001b[0;36mJSONDecoder.decode\u001b[0;34m(self, s, _w)\u001b[0m\n\u001b[1;32m    332\u001b[0m \u001b[38;5;28;01mdef\u001b[39;00m \u001b[38;5;21mdecode\u001b[39m(\u001b[38;5;28mself\u001b[39m, s, _w\u001b[38;5;241m=\u001b[39mWHITESPACE\u001b[38;5;241m.\u001b[39mmatch):\n\u001b[1;32m    333\u001b[0m \u001b[38;5;250m    \u001b[39m\u001b[38;5;124;03m\"\"\"Return the Python representation of ``s`` (a ``str`` instance\u001b[39;00m\n\u001b[1;32m    334\u001b[0m \u001b[38;5;124;03m    containing a JSON document).\u001b[39;00m\n\u001b[1;32m    335\u001b[0m \n\u001b[1;32m    336\u001b[0m \u001b[38;5;124;03m    \"\"\"\u001b[39;00m\n\u001b[0;32m--> 337\u001b[0m     obj, end \u001b[38;5;241m=\u001b[39m \u001b[38;5;28;43mself\u001b[39;49m\u001b[38;5;241;43m.\u001b[39;49m\u001b[43mraw_decode\u001b[49m\u001b[43m(\u001b[49m\u001b[43ms\u001b[49m\u001b[43m,\u001b[49m\u001b[43m \u001b[49m\u001b[43midx\u001b[49m\u001b[38;5;241;43m=\u001b[39;49m\u001b[43m_w\u001b[49m\u001b[43m(\u001b[49m\u001b[43ms\u001b[49m\u001b[43m,\u001b[49m\u001b[43m \u001b[49m\u001b[38;5;241;43m0\u001b[39;49m\u001b[43m)\u001b[49m\u001b[38;5;241;43m.\u001b[39;49m\u001b[43mend\u001b[49m\u001b[43m(\u001b[49m\u001b[43m)\u001b[49m\u001b[43m)\u001b[49m\n\u001b[1;32m    338\u001b[0m     end \u001b[38;5;241m=\u001b[39m _w(s, end)\u001b[38;5;241m.\u001b[39mend()\n\u001b[1;32m    339\u001b[0m     \u001b[38;5;28;01mif\u001b[39;00m end \u001b[38;5;241m!=\u001b[39m \u001b[38;5;28mlen\u001b[39m(s):\n",
      "File \u001b[0;32m/opt/conda/envs/qlora/lib/python3.8/json/decoder.py:353\u001b[0m, in \u001b[0;36mJSONDecoder.raw_decode\u001b[0;34m(self, s, idx)\u001b[0m\n\u001b[1;32m    344\u001b[0m \u001b[38;5;250m\u001b[39m\u001b[38;5;124;03m\"\"\"Decode a JSON document from ``s`` (a ``str`` beginning with\u001b[39;00m\n\u001b[1;32m    345\u001b[0m \u001b[38;5;124;03ma JSON document) and return a 2-tuple of the Python\u001b[39;00m\n\u001b[1;32m    346\u001b[0m \u001b[38;5;124;03mrepresentation and the index in ``s`` where the document ended.\u001b[39;00m\n\u001b[0;32m   (...)\u001b[0m\n\u001b[1;32m    350\u001b[0m \n\u001b[1;32m    351\u001b[0m \u001b[38;5;124;03m\"\"\"\u001b[39;00m\n\u001b[1;32m    352\u001b[0m \u001b[38;5;28;01mtry\u001b[39;00m:\n\u001b[0;32m--> 353\u001b[0m     obj, end \u001b[38;5;241m=\u001b[39m \u001b[38;5;28;43mself\u001b[39;49m\u001b[38;5;241;43m.\u001b[39;49m\u001b[43mscan_once\u001b[49m\u001b[43m(\u001b[49m\u001b[43ms\u001b[49m\u001b[43m,\u001b[49m\u001b[43m \u001b[49m\u001b[43midx\u001b[49m\u001b[43m)\u001b[49m\n\u001b[1;32m    354\u001b[0m \u001b[38;5;28;01mexcept\u001b[39;00m \u001b[38;5;167;01mStopIteration\u001b[39;00m \u001b[38;5;28;01mas\u001b[39;00m err:\n\u001b[1;32m    355\u001b[0m     \u001b[38;5;28;01mraise\u001b[39;00m JSONDecodeError(\u001b[38;5;124m\"\u001b[39m\u001b[38;5;124mExpecting value\u001b[39m\u001b[38;5;124m\"\u001b[39m, s, err\u001b[38;5;241m.\u001b[39mvalue) \u001b[38;5;28;01mfrom\u001b[39;00m \u001b[38;5;28;01mNone\u001b[39;00m\n",
      "\u001b[0;31mJSONDecodeError\u001b[0m: Expecting ',' delimiter: line 3 column 1 (char 724)"
     ]
    }
   ],
   "source": [
    "ngram_eval = AutomaticNgramEval()\n",
    "factev = AutomaticFactEval()\n",
    "\n",
    "target_trainable_instruction, target_trainable_few_shot_examples = train_loop(train_df, eval_df,\n",
    "                                                                              target_trainable_instruction,\n",
    "                                                                              summarize_raw_instruction, logging,\n",
    "                                                                              ngram_eval, factev,\n",
    "                                                                              target_trainable_few_shot_examples,\n",
    "                                                                              do_few_shot=False,\n",
    "                                                                              EPOCH=50, steps_per_epoch=1, bsz=10,\n",
    "                                                                              eval_at_beginning=True,\n",
    "                                                                              dataloader_sample_mode='random',\n",
    "                                                                              learning_temperature_rate=0)"
   ]
  }
 ],
 "metadata": {
  "colab": {
   "provenance": []
  },
  "kernelspec": {
   "display_name": "salt",
   "language": "python",
   "name": "salt"
  },
  "language_info": {
   "codemirror_mode": {
    "name": "ipython",
    "version": 3
   },
   "file_extension": ".py",
   "mimetype": "text/x-python",
   "name": "python",
   "nbconvert_exporter": "python",
   "pygments_lexer": "ipython3",
   "version": "3.8.18"
  }
 },
 "nbformat": 4,
 "nbformat_minor": 5
}
