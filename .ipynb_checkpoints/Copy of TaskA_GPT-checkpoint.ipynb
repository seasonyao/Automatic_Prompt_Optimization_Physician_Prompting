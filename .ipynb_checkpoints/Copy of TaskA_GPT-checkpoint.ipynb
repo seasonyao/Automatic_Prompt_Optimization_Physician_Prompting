{
 "cells": [
  {
   "cell_type": "code",
   "execution_count": null,
   "metadata": {
    "id": "Fg3cMUkoWnXq"
   },
   "outputs": [],
   "source": [
    "%%capture\n",
    "!pip install openai\n",
    "!pip install evaluate\n",
    "!pip install rouge_score"
   ]
  },
  {
   "cell_type": "code",
   "execution_count": null,
   "metadata": {
    "id": "jubXJXy-WAZg"
   },
   "outputs": [],
   "source": [
    "import pandas as pd\n",
    "import openai\n",
    "import evaluate\n",
    "import numpy as np"
   ]
  },
  {
   "cell_type": "markdown",
   "metadata": {
    "id": "E9uGu4Z_Ay6h"
   },
   "source": [
    "# Task A"
   ]
  },
  {
   "cell_type": "code",
   "execution_count": null,
   "metadata": {
    "id": "MHEXHZ_BVnki"
   },
   "outputs": [],
   "source": [
    "valA = pd.read_csv('TaskA-ValidationSet.csv')"
   ]
  },
  {
   "cell_type": "code",
   "execution_count": null,
   "metadata": {
    "id": "lFqerx4Y6VbO"
   },
   "outputs": [],
   "source": [
    "# sections = valA['section_header'].unique().tolist()\n",
    "# sections\n",
    "sections = ['DISPOSITION']"
   ]
  },
  {
   "cell_type": "code",
   "execution_count": null,
   "metadata": {
    "colab": {
     "base_uri": "https://localhost:8080/",
     "height": 112
    },
    "executionInfo": {
     "elapsed": 176,
     "status": "ok",
     "timestamp": 1689466046223,
     "user": {
      "displayName": "Ahmed Jaafar",
      "userId": "01925140053924734789"
     },
     "user_tz": 240
    },
    "id": "RhHTHak2_Law",
    "outputId": "896d0206-9907-4922-a084-5557dc0f5148"
   },
   "outputs": [
    {
     "data": {
      "text/html": [
       "\n",
       "\n",
       "  <div id=\"df-f316874a-54d2-435a-8768-2e61e693b857\">\n",
       "    <div class=\"colab-df-container\">\n",
       "      <div>\n",
       "<style scoped>\n",
       "    .dataframe tbody tr th:only-of-type {\n",
       "        vertical-align: middle;\n",
       "    }\n",
       "\n",
       "    .dataframe tbody tr th {\n",
       "        vertical-align: top;\n",
       "    }\n",
       "\n",
       "    .dataframe thead th {\n",
       "        text-align: right;\n",
       "    }\n",
       "</style>\n",
       "<table border=\"1\" class=\"dataframe\">\n",
       "  <thead>\n",
       "    <tr style=\"text-align: right;\">\n",
       "      <th></th>\n",
       "      <th>ID</th>\n",
       "      <th>section_header</th>\n",
       "      <th>section_text</th>\n",
       "      <th>dialogue</th>\n",
       "    </tr>\n",
       "  </thead>\n",
       "  <tbody>\n",
       "    <tr>\n",
       "      <th>12</th>\n",
       "      <td>12</td>\n",
       "      <td>DISPOSITION</td>\n",
       "      <td>To home with his son.</td>\n",
       "      <td>Doctor: Who are going to stay with? \\nPatient:...</td>\n",
       "    </tr>\n",
       "    <tr>\n",
       "      <th>40</th>\n",
       "      <td>40</td>\n",
       "      <td>DISPOSITION</td>\n",
       "      <td>To home.</td>\n",
       "      <td>Doctor: Are you ready for home?\\nPatient: Yes....</td>\n",
       "    </tr>\n",
       "  </tbody>\n",
       "</table>\n",
       "</div>\n",
       "      <button class=\"colab-df-convert\" onclick=\"convertToInteractive('df-f316874a-54d2-435a-8768-2e61e693b857')\"\n",
       "              title=\"Convert this dataframe to an interactive table.\"\n",
       "              style=\"display:none;\">\n",
       "\n",
       "  <svg xmlns=\"http://www.w3.org/2000/svg\" height=\"24px\"viewBox=\"0 0 24 24\"\n",
       "       width=\"24px\">\n",
       "    <path d=\"M0 0h24v24H0V0z\" fill=\"none\"/>\n",
       "    <path d=\"M18.56 5.44l.94 2.06.94-2.06 2.06-.94-2.06-.94-.94-2.06-.94 2.06-2.06.94zm-11 1L8.5 8.5l.94-2.06 2.06-.94-2.06-.94L8.5 2.5l-.94 2.06-2.06.94zm10 10l.94 2.06.94-2.06 2.06-.94-2.06-.94-.94-2.06-.94 2.06-2.06.94z\"/><path d=\"M17.41 7.96l-1.37-1.37c-.4-.4-.92-.59-1.43-.59-.52 0-1.04.2-1.43.59L10.3 9.45l-7.72 7.72c-.78.78-.78 2.05 0 2.83L4 21.41c.39.39.9.59 1.41.59.51 0 1.02-.2 1.41-.59l7.78-7.78 2.81-2.81c.8-.78.8-2.07 0-2.86zM5.41 20L4 18.59l7.72-7.72 1.47 1.35L5.41 20z\"/>\n",
       "  </svg>\n",
       "      </button>\n",
       "\n",
       "\n",
       "\n",
       "    <div id=\"df-15e42b93-6436-48d9-8f49-72b82fde8379\">\n",
       "      <button class=\"colab-df-quickchart\" onclick=\"quickchart('df-15e42b93-6436-48d9-8f49-72b82fde8379')\"\n",
       "              title=\"Suggest charts.\"\n",
       "              style=\"display:none;\">\n",
       "\n",
       "<svg xmlns=\"http://www.w3.org/2000/svg\" height=\"24px\"viewBox=\"0 0 24 24\"\n",
       "     width=\"24px\">\n",
       "    <g>\n",
       "        <path d=\"M19 3H5c-1.1 0-2 .9-2 2v14c0 1.1.9 2 2 2h14c1.1 0 2-.9 2-2V5c0-1.1-.9-2-2-2zM9 17H7v-7h2v7zm4 0h-2V7h2v10zm4 0h-2v-4h2v4z\"/>\n",
       "    </g>\n",
       "</svg>\n",
       "      </button>\n",
       "    </div>\n",
       "\n",
       "<style>\n",
       "  .colab-df-quickchart {\n",
       "    background-color: #E8F0FE;\n",
       "    border: none;\n",
       "    border-radius: 50%;\n",
       "    cursor: pointer;\n",
       "    display: none;\n",
       "    fill: #1967D2;\n",
       "    height: 32px;\n",
       "    padding: 0 0 0 0;\n",
       "    width: 32px;\n",
       "  }\n",
       "\n",
       "  .colab-df-quickchart:hover {\n",
       "    background-color: #E2EBFA;\n",
       "    box-shadow: 0px 1px 2px rgba(60, 64, 67, 0.3), 0px 1px 3px 1px rgba(60, 64, 67, 0.15);\n",
       "    fill: #174EA6;\n",
       "  }\n",
       "\n",
       "  [theme=dark] .colab-df-quickchart {\n",
       "    background-color: #3B4455;\n",
       "    fill: #D2E3FC;\n",
       "  }\n",
       "\n",
       "  [theme=dark] .colab-df-quickchart:hover {\n",
       "    background-color: #434B5C;\n",
       "    box-shadow: 0px 1px 3px 1px rgba(0, 0, 0, 0.15);\n",
       "    filter: drop-shadow(0px 1px 2px rgba(0, 0, 0, 0.3));\n",
       "    fill: #FFFFFF;\n",
       "  }\n",
       "</style>\n",
       "\n",
       "    <script>\n",
       "      async function quickchart(key) {\n",
       "        const containerElement = document.querySelector('#' + key);\n",
       "        const charts = await google.colab.kernel.invokeFunction(\n",
       "            'suggestCharts', [key], {});\n",
       "      }\n",
       "    </script>\n",
       "\n",
       "      <script>\n",
       "\n",
       "function displayQuickchartButton(domScope) {\n",
       "  let quickchartButtonEl =\n",
       "    domScope.querySelector('#df-15e42b93-6436-48d9-8f49-72b82fde8379 button.colab-df-quickchart');\n",
       "  quickchartButtonEl.style.display =\n",
       "    google.colab.kernel.accessAllowed ? 'block' : 'none';\n",
       "}\n",
       "\n",
       "        displayQuickchartButton(document);\n",
       "      </script>\n",
       "      <style>\n",
       "    .colab-df-container {\n",
       "      display:flex;\n",
       "      flex-wrap:wrap;\n",
       "      gap: 12px;\n",
       "    }\n",
       "\n",
       "    .colab-df-convert {\n",
       "      background-color: #E8F0FE;\n",
       "      border: none;\n",
       "      border-radius: 50%;\n",
       "      cursor: pointer;\n",
       "      display: none;\n",
       "      fill: #1967D2;\n",
       "      height: 32px;\n",
       "      padding: 0 0 0 0;\n",
       "      width: 32px;\n",
       "    }\n",
       "\n",
       "    .colab-df-convert:hover {\n",
       "      background-color: #E2EBFA;\n",
       "      box-shadow: 0px 1px 2px rgba(60, 64, 67, 0.3), 0px 1px 3px 1px rgba(60, 64, 67, 0.15);\n",
       "      fill: #174EA6;\n",
       "    }\n",
       "\n",
       "    [theme=dark] .colab-df-convert {\n",
       "      background-color: #3B4455;\n",
       "      fill: #D2E3FC;\n",
       "    }\n",
       "\n",
       "    [theme=dark] .colab-df-convert:hover {\n",
       "      background-color: #434B5C;\n",
       "      box-shadow: 0px 1px 3px 1px rgba(0, 0, 0, 0.15);\n",
       "      filter: drop-shadow(0px 1px 2px rgba(0, 0, 0, 0.3));\n",
       "      fill: #FFFFFF;\n",
       "    }\n",
       "  </style>\n",
       "\n",
       "      <script>\n",
       "        const buttonEl =\n",
       "          document.querySelector('#df-f316874a-54d2-435a-8768-2e61e693b857 button.colab-df-convert');\n",
       "        buttonEl.style.display =\n",
       "          google.colab.kernel.accessAllowed ? 'block' : 'none';\n",
       "\n",
       "        async function convertToInteractive(key) {\n",
       "          const element = document.querySelector('#df-f316874a-54d2-435a-8768-2e61e693b857');\n",
       "          const dataTable =\n",
       "            await google.colab.kernel.invokeFunction('convertToInteractive',\n",
       "                                                     [key], {});\n",
       "          if (!dataTable) return;\n",
       "\n",
       "          const docLinkHtml = 'Like what you see? Visit the ' +\n",
       "            '<a target=\"_blank\" href=https://colab.research.google.com/notebooks/data_table.ipynb>data table notebook</a>'\n",
       "            + ' to learn more about interactive tables.';\n",
       "          element.innerHTML = '';\n",
       "          dataTable['output_type'] = 'display_data';\n",
       "          await google.colab.output.renderOutput(dataTable, element);\n",
       "          const docLink = document.createElement('div');\n",
       "          docLink.innerHTML = docLinkHtml;\n",
       "          element.appendChild(docLink);\n",
       "        }\n",
       "      </script>\n",
       "    </div>\n",
       "  </div>\n"
      ],
      "text/plain": [
       "    ID section_header           section_text  \\\n",
       "12  12    DISPOSITION  To home with his son.   \n",
       "40  40    DISPOSITION               To home.   \n",
       "\n",
       "                                             dialogue  \n",
       "12  Doctor: Who are going to stay with? \\nPatient:...  \n",
       "40  Doctor: Are you ready for home?\\nPatient: Yes....  "
      ]
     },
     "execution_count": 7,
     "metadata": {},
     "output_type": "execute_result"
    }
   ],
   "source": [
    "valA_al = valA[valA['section_header'] == \"DISPOSITION\"]\n",
    "valA_al"
   ]
  },
  {
   "cell_type": "code",
   "execution_count": null,
   "metadata": {
    "id": "GdhjO0YbXaY2"
   },
   "outputs": [],
   "source": [
    "# key = \n",
    "openai.api_key = key"
   ]
  },
  {
   "cell_type": "code",
   "execution_count": null,
   "metadata": {
    "id": "8cQhs1jrWY0f"
   },
   "outputs": [],
   "source": [
    "def get_al(model, prompt, max_tokens):\n",
    "  response = openai.Completion.create(\n",
    "            engine= model,\n",
    "            prompt= prompt,\n",
    "            max_tokens=max_tokens,\n",
    "            n=1,\n",
    "            stop=None,\n",
    "            temperature=0.2,\n",
    "            timeout=20\n",
    "        )\n",
    "  return response.choices[0].text.strip()"
   ]
  },
  {
   "cell_type": "code",
   "execution_count": null,
   "metadata": {
    "id": "vrORmObc3M0_"
   },
   "outputs": [],
   "source": [
    "def get_al_chat(model, prompt, max_tokens):\n",
    "  response = openai.ChatCompletion.create(\n",
    "              model=model,\n",
    "              messages=[\n",
    "                  {\"role\": \"system\", \"content\": \"You are a smart doctor as well as a professional medical scribe with a lot of experience.\"},\n",
    "                  {\"role\": \"user\", \"content\": prompt},\n",
    "              ],\n",
    "              temperature=0.2,\n",
    "              max_tokens=max_tokens,\n",
    "              timeout=20,\n",
    "              n=1,\n",
    "              stop=None\n",
    "          )\n",
    "\n",
    "  return response['choices'][0]['message']['content']"
   ]
  },
  {
   "cell_type": "code",
   "execution_count": null,
   "metadata": {
    "id": "Gm3kQNA4zHrz"
   },
   "outputs": [],
   "source": [
    "# model_lst = [\"text-ada-001\", \"text-babbage-001\",\"text-curie-001\", \"text-davinci-003\", \"gpt-3.5-turbo\", \"gpt-4\"]\n",
    "model_lst = [\"gpt-4\"]\n",
    "max_tokens = [15]"
   ]
  },
  {
   "cell_type": "code",
   "execution_count": null,
   "metadata": {
    "id": "q8nq93SU1eH0"
   },
   "outputs": [],
   "source": [
    "def get_prompt(dia, section):\n",
    "  prompts = {\n",
    "    \"EXAM\": f\"Task: I have a doctor-patient dialogue. Please list each body part examined by the doctor along with what was observed as a result for each body part. Please be concise. Please use medical terminology and lingo as much as possible. You are a smart doctor and a professional medical scribe. \\n\\nDialogue: \\n{dia} \\n\\nExaminations:\",\n",
    "    \"OTHER_HISTORY\": f\"Task: I have a doctor-patient dialogue. Please output the patient's medical history and other history. If nothing has changed in the patient's history, say so. Please output only what was mentioned in the conversation and don't add any other new information. Please use medical terminology and lingo as much as possible. You are a smart doctor and a professional medical scribe. \\n\\nDialogue: \\n{dia} \\n\\nPatient's history:\",\n",
    "    \"CC\": f\"Task: I have a doctor-patient dialogue. Please output the patient's chief complaint, which are the reasons/symptoms of why the patient is visiting the doctor. Please use medical terminology and lingo as much as possible. You are a smart doctor and a professional medical scribe. \\n\\n Dialogue: \\n{dia} \\n\\n Chief complaint:\",\n",
    "    \"DIAGNOSIS\": f\"Task: I have a doctor-patient dialogue. Please list the patient's diagnosis. Please use medical terminology and lingo as much as possible. You are a smart doctor and a professional medical scribe. \\n\\n Dialogue: \\n{dia} \\n\\n Diagnosis:\",\n",
    "    \"FAM/SOCHX\": f\"Task: I have a doctor-patient dialogue. Please output the patient's family medical history and the patient's social history. If the history is unknown, say so. Please output only what was mentioned in the conversation and don't add any other new information. Please use medical terminology and lingo as much as possible. You are a smart doctor and a professional medical scribe. \\n\\n Dialogue: \\n{dia} \\n\\n Patient's family history and social history:\",\n",
    "    \"MEDICATIONS\": f\"Task: I have a doctor-patient dialogue. Please list all the medications taken by the patient as part of a doctor's note. If no medications are mentioned, please output None. You are a smart doctor that knows this. \\n\\n Dialogue: \\n{dia} \\n\\n Medications:\",\n",
    "    \"PROCEDURES\": f\"Task: I have a doctor-patient dialogue. Please output the patient's surgical history, past procedures, current procedures, as well as the outcomes of the procedures/surgeries. Please output only what was mentioned in the conversation and don't add any other new information. Please use medical terminology and lingo for naming the procedures/surgeries as much as possible. You are a smart doctor and a professional medical scribe. \\n\\n Dialogue: \\n{dia} \\n\\n Procedures/surgeries:\",\n",
    "    \"ALLERGY\": f\"Task: I have a doctor-patient dialogue. Please output the patient's allergies. Please use medical terminology and lingo as much as possible. Please output None if there are no allergies. You are a smart doctor and a professional medical scribe. \\n\\n Dialogue: \\n{dia} \\n\\n Allergies:\",\n",
    "    \"GENHX\": f\"Task: I have a doctor-patient dialogue. Please output the patient's history regarding the present illness. That is, output the history of the issue the patient is currently suffering from. Please output only what was mentioned in the conversation and don't add any other new information. Please use medical terminology and lingo as much as possible. You are a smart doctor and a professional medical scribe. \\n\\n Dialogue: \\n{dia} \\n\\n Present illness history:\",\n",
    "    'ROS': f\"Task: I have a doctor-patient dialogue. Please output the review of systems (ROS) regarding the patient, that is the signs and/or symptoms which the patient may be experiencing or has experienced and on which part of the body. Please output only what was mentioned in the conversation and don't add any other new information. Please use medical terminology and lingo for naming the symptoms and issues as much as possible. You are a smart doctor and a professional medical scribe. \\n\\n Dialogue: \\n{dia} \\n\\n Review of systems:\",\n",
    "    'PASTMEDICALHX':f\"Task: I have a doctor-patient dialogue. Please output the patient's past medical history. If nothing has changed in the patient's history, say so. Please output only what was mentioned in the conversation and don't add any other new information. Please use medical terminology and lingo as much as possible. You are a smart doctor and a professional medical scribe. \\n\\n Dialogue: \\n{dia} \\n\\n Patient's medical history:\",\n",
    "    'PASTSURGICAL':f\"Task: I have a doctor-patient dialogue. Please list all the of patient's past surgeries as part of a doctor's note. If no surgeries, please output None. If surgeries are unknown, please output Unknown. You are a smart doctor and a professional medical scribe. \\n\\n Dialogue: \\n{dia} \\n\\n Past surgeries:\",\n",
    "    'DISPOSITION': f\"Task: I have a doctor-patient dialogue. Please output the patient's disposition. Please be concise. Please use medical terminology and lingo as much as possible. You are a smart doctor and a professional medical scribe. \\n\\n Dialogue: \\n{dia} \\n\\n Disposition:\",\n",
    "    'EDCOURSE': f\"Task: I have a doctor-patient dialogue. The dialogue either mentions what happened in the emergency room (ER) or is currently taking place at the emergency room. Please summarize what happened or is happening at the emergency room. Output what the patient suffered/is suffering from and what the treatments were/are and the dosages if mentioned. Please output only what was mentioned in the conversation and don't add any other new information. Please use medical terminology and lingo as much as possible. You are a smart doctor and a professional medical scribe. \\n\\n Dialogue: \\n{dia} \\n\\n Emergency room summary:\",\n",
    "    'PLAN': f\"Task: I have a doctor-patient dialogue. Please list the plan the patient has been following and/or the plan the patient and the doctor agreed on to follow from now on. Please list only what was mentioned in the conversation and don't add any other new information. Please use medical terminology and lingo as much as possible. You are a smart doctor and a professional medical scribe. \\n\\n Dialogue: \\n{dia} \\n\\n Plan:\",\n",
    "    'LABS': f\"Task: I have a doctor-patient dialogue. Please output the results of the lab tests. Please use medical terminology and lingo as much as possible. You are a smart doctor and a professional medical scribe. \\n\\n Dialogue: \\n{dia} \\n\\n Lab results:\",\n",
    "    'ASSESSMENT': f\"Task: I have a doctor-patient dialogue. Please list the doctor's medical observations about the patient as well as what the patient mentions about themselves medically. Basically, list everything medical from the assessment. Please only list what was mentioned in the conversation and don't add any other new information. Please use medical terminology and lingo as much as possible. You are a smart doctor and a professional medical scribe. \\n\\n Dialogue: \\n{dia} \\n\\n Assessment:\",\n",
    "    'GYNHX': f\"Task: I have a doctor-patient dialogue. Please output anything that was mentioned related to gynecology, obstetrics, OB/GYN, pap smears, pregnancy, menstrual cycles (periods), organs related to OB/GYN, results related to OB/GYN, issues related to OB/GYN, history related to OB/GYN, etc. Please output only what was mentioned in the conversation and don't add any other new information. Please use medical terminology and lingo as much as possible. You are a smart doctor and a professional medical scribe. \\n\\n Dialogue: \\n{dia} \\n\\n OB/GYN:\",\n",
    "    'IMAGING': f\"Task: I have a doctor-patient dialogue. Please output any imaging that was done and the results of the imaging. Imaging such as x-ray, EKG, CBC, radiology, ultrasound, etc. Please output only what was mentioned in the conversation and don't add any other new information. Please use medical terminology and lingo as much as possible. You are a smart doctor and a professional medical scribe. \\n\\n Dialogue: \\n{dia} \\n\\n Imaging:\",\n",
    "    'IMMUNIZATIONS': f\"Task: I have a doctor-patient dialogue. Please output the patient's immunizations, vaccines, how up-to-date the immunizations are, and the date of when the immunizations were given. Please use medical terminology and lingo as much as possible. You are a smart doctor and a professional medical scribe. \\n\\n Dialogue: \\n{dia} \\n\\n Immunizations and their dates:\",\n",
    "  }\n",
    "  return prompts[section]"
   ]
  },
  {
   "cell_type": "code",
   "execution_count": null,
   "metadata": {
    "id": "skCTnpgfdbL9"
   },
   "outputs": [],
   "source": [
    "section_pred_lst = []\n",
    "gold_lst = []\n",
    "for section, max_token in zip(sections, max_tokens):\n",
    "  valA_al = valA[valA['section_header'] == section]\n",
    "  dialogue_al = valA_al['dialogue'].tolist()\n",
    "  gold_lst.append(valA_al['section_text'].tolist())\n",
    "  model_pred_lst = []\n",
    "  for model in model_lst:\n",
    "    if model in [\"gpt-3.5-turbo\", \"gpt-4\"]:\n",
    "      fun = get_al_chat\n",
    "    else:\n",
    "      fun = get_al\n",
    "    al_pred_lst = []\n",
    "    for dia in dialogue_al:\n",
    "      prompt = get_prompt(dia, section)\n",
    "      res = fun(model, prompt, max_token)\n",
    "      al_pred_lst.append(res)\n",
    "    np.save(f'{model}_{section}_preds.npy', al_pred_lst)\n",
    "    model_pred_lst.append(al_pred_lst)\n",
    "  section_pred_lst.append(model_pred_lst)"
   ]
  },
  {
   "cell_type": "code",
   "execution_count": null,
   "metadata": {
    "colab": {
     "base_uri": "https://localhost:8080/"
    },
    "executionInfo": {
     "elapsed": 139,
     "status": "ok",
     "timestamp": 1689466234337,
     "user": {
      "displayName": "Ahmed Jaafar",
      "userId": "01925140053924734789"
     },
     "user_tz": 240
    },
    "id": "QKOtQ2hl0fXw",
    "outputId": "df843626-247a-43fb-fe0e-5770350b8588"
   },
   "outputs": [
    {
     "data": {
      "text/plain": [
       "[[['The patient will be discharged to home under the care of his son.',\n",
       "   'The patient is ready for discharge with family support at home.']]]"
      ]
     },
     "execution_count": 15,
     "metadata": {},
     "output_type": "execute_result"
    }
   ],
   "source": [
    "section_pred_lst"
   ]
  },
  {
   "cell_type": "code",
   "execution_count": null,
   "metadata": {
    "colab": {
     "base_uri": "https://localhost:8080/",
     "height": 49,
     "referenced_widgets": [
      "5532558e0ac54810a311c9ccbeecd985",
      "ad9092be71c64e0ba7332982312f85a5",
      "100b36ec938949f590e7208ff024d1bc",
      "21e827a463b441ef867e1355d0738a81",
      "e8603ab6aa8847b7b130436ff27ba5f3",
      "dfc80834628a4c388ae9443c61dbb3fa",
      "47db870c6c6843ca8011e6fbe9fb2694",
      "a99aceb7dbc6429ea93b8bd4b013b931",
      "224b0ec5fa714c888906f9181a4d74f6",
      "2b5668ccd03b4fc89dfb0ff636672fc5",
      "dffc471707454b81b9f22257e6141015"
     ]
    },
    "executionInfo": {
     "elapsed": 1474,
     "status": "ok",
     "timestamp": 1689466246079,
     "user": {
      "displayName": "Ahmed Jaafar",
      "userId": "01925140053924734789"
     },
     "user_tz": 240
    },
    "id": "I1JRmVELiikT",
    "outputId": "bc19fef3-1111-4aaf-84a1-39d2a3f1e482"
   },
   "outputs": [
    {
     "data": {
      "application/vnd.jupyter.widget-view+json": {
       "model_id": "5532558e0ac54810a311c9ccbeecd985",
       "version_major": 2,
       "version_minor": 0
      },
      "text/plain": [
       "Downloading builder script:   0%|          | 0.00/6.27k [00:00<?, ?B/s]"
      ]
     },
     "metadata": {},
     "output_type": "display_data"
    }
   ],
   "source": [
    "rouge = evaluate.load('rouge')\n",
    "section_rouge_scores = []\n",
    "for section, gold_al in zip(section_pred_lst, gold_lst):\n",
    "  model_rouge_scores = []\n",
    "  for preds in section:\n",
    "    rouge_res = rouge.compute(predictions=preds, references=gold_al)\n",
    "    model_rouge_scores.append(rouge_res)\n",
    "  section_rouge_scores.append(model_rouge_scores)"
   ]
  },
  {
   "cell_type": "code",
   "execution_count": null,
   "metadata": {
    "colab": {
     "base_uri": "https://localhost:8080/"
    },
    "executionInfo": {
     "elapsed": 132,
     "status": "ok",
     "timestamp": 1689466247956,
     "user": {
      "displayName": "Ahmed Jaafar",
      "userId": "01925140053924734789"
     },
     "user_tz": 240
    },
    "id": "5cYfNY7O6uU7",
    "outputId": "2a3e2e1a-e451-41f6-ec66-b02903290efe"
   },
   "outputs": [
    {
     "data": {
      "text/plain": [
       "[[{'rouge1': 0.29914529914529914,\n",
       "   'rouge2': 0.125,\n",
       "   'rougeL': 0.29914529914529914,\n",
       "   'rougeLsum': 0.29914529914529914}]]"
      ]
     },
     "execution_count": 17,
     "metadata": {},
     "output_type": "execute_result"
    }
   ],
   "source": [
    "section_rouge_scores"
   ]
  },
  {
   "cell_type": "code",
   "execution_count": null,
   "metadata": {
    "colab": {
     "base_uri": "https://localhost:8080/"
    },
    "executionInfo": {
     "elapsed": 131,
     "status": "ok",
     "timestamp": 1689466252567,
     "user": {
      "displayName": "Ahmed Jaafar",
      "userId": "01925140053924734789"
     },
     "user_tz": 240
    },
    "id": "vCmuIugfmMUm",
    "outputId": "b597ca22-968f-4842-e4f9-ea5ad3e86112"
   },
   "outputs": [
    {
     "name": "stdout",
     "output_type": "stream",
     "text": [
      "DISPOSITION:\n",
      "\n",
      "gpt-4:  {'rouge1': 0.29914529914529914, 'rouge2': 0.125, 'rougeL': 0.29914529914529914, 'rougeLsum': 0.29914529914529914} \n",
      "\n"
     ]
    }
   ],
   "source": [
    "for section, section_rouge in zip(sections, section_rouge_scores):\n",
    "  print(f'{section}:\\n')\n",
    "  for i, rouge in enumerate(section_rouge):\n",
    "    print(f\"{model_lst[i]}: \", rouge, \"\\n\")"
   ]
  },
  {
   "cell_type": "code",
   "execution_count": null,
   "metadata": {
    "id": "X9VAMM2Chrex"
   },
   "outputs": [],
   "source": [
    "from google.colab import drive\n",
    "drive.mount('/content/drive')"
   ]
  }
 ],
 "metadata": {
  "colab": {
   "provenance": [
    {
     "file_id": "1mogyJ_SOaSVMc_5TN39oiQtOeVpXFV_Z",
     "timestamp": 1690389979492
    },
    {
     "file_id": "1f8UUYd-uFiERJGTKSW2MKV7mTDZsm1Dk",
     "timestamp": 1689201062151
    },
    {
     "file_id": "1SWb7046bLWzuGZJ5Oeq3q22lHimABaLC",
     "timestamp": 1689200935740
    }
   ]
  },
  "kernelspec": {
   "display_name": "Python (4.8.3-jupyterhub-stable) *",
   "language": "python",
   "name": "conda-env-4.8.3-jupyterhub-stable-py"
  },
  "language_info": {
   "name": "python"
  },
  "widgets": {
   "application/vnd.jupyter.widget-state+json": {
    "100b36ec938949f590e7208ff024d1bc": {
     "model_module": "@jupyter-widgets/controls",
     "model_module_version": "1.5.0",
     "model_name": "FloatProgressModel",
     "state": {
      "_dom_classes": [],
      "_model_module": "@jupyter-widgets/controls",
      "_model_module_version": "1.5.0",
      "_model_name": "FloatProgressModel",
      "_view_count": null,
      "_view_module": "@jupyter-widgets/controls",
      "_view_module_version": "1.5.0",
      "_view_name": "ProgressView",
      "bar_style": "success",
      "description": "",
      "description_tooltip": null,
      "layout": "IPY_MODEL_a99aceb7dbc6429ea93b8bd4b013b931",
      "max": 6270,
      "min": 0,
      "orientation": "horizontal",
      "style": "IPY_MODEL_224b0ec5fa714c888906f9181a4d74f6",
      "value": 6270
     }
    },
    "21e827a463b441ef867e1355d0738a81": {
     "model_module": "@jupyter-widgets/controls",
     "model_module_version": "1.5.0",
     "model_name": "HTMLModel",
     "state": {
      "_dom_classes": [],
      "_model_module": "@jupyter-widgets/controls",
      "_model_module_version": "1.5.0",
      "_model_name": "HTMLModel",
      "_view_count": null,
      "_view_module": "@jupyter-widgets/controls",
      "_view_module_version": "1.5.0",
      "_view_name": "HTMLView",
      "description": "",
      "description_tooltip": null,
      "layout": "IPY_MODEL_2b5668ccd03b4fc89dfb0ff636672fc5",
      "placeholder": "​",
      "style": "IPY_MODEL_dffc471707454b81b9f22257e6141015",
      "value": " 6.27k/6.27k [00:00&lt;00:00, 238kB/s]"
     }
    },
    "224b0ec5fa714c888906f9181a4d74f6": {
     "model_module": "@jupyter-widgets/controls",
     "model_module_version": "1.5.0",
     "model_name": "ProgressStyleModel",
     "state": {
      "_model_module": "@jupyter-widgets/controls",
      "_model_module_version": "1.5.0",
      "_model_name": "ProgressStyleModel",
      "_view_count": null,
      "_view_module": "@jupyter-widgets/base",
      "_view_module_version": "1.2.0",
      "_view_name": "StyleView",
      "bar_color": null,
      "description_width": ""
     }
    },
    "2b5668ccd03b4fc89dfb0ff636672fc5": {
     "model_module": "@jupyter-widgets/base",
     "model_module_version": "1.2.0",
     "model_name": "LayoutModel",
     "state": {
      "_model_module": "@jupyter-widgets/base",
      "_model_module_version": "1.2.0",
      "_model_name": "LayoutModel",
      "_view_count": null,
      "_view_module": "@jupyter-widgets/base",
      "_view_module_version": "1.2.0",
      "_view_name": "LayoutView",
      "align_content": null,
      "align_items": null,
      "align_self": null,
      "border": null,
      "bottom": null,
      "display": null,
      "flex": null,
      "flex_flow": null,
      "grid_area": null,
      "grid_auto_columns": null,
      "grid_auto_flow": null,
      "grid_auto_rows": null,
      "grid_column": null,
      "grid_gap": null,
      "grid_row": null,
      "grid_template_areas": null,
      "grid_template_columns": null,
      "grid_template_rows": null,
      "height": null,
      "justify_content": null,
      "justify_items": null,
      "left": null,
      "margin": null,
      "max_height": null,
      "max_width": null,
      "min_height": null,
      "min_width": null,
      "object_fit": null,
      "object_position": null,
      "order": null,
      "overflow": null,
      "overflow_x": null,
      "overflow_y": null,
      "padding": null,
      "right": null,
      "top": null,
      "visibility": null,
      "width": null
     }
    },
    "47db870c6c6843ca8011e6fbe9fb2694": {
     "model_module": "@jupyter-widgets/controls",
     "model_module_version": "1.5.0",
     "model_name": "DescriptionStyleModel",
     "state": {
      "_model_module": "@jupyter-widgets/controls",
      "_model_module_version": "1.5.0",
      "_model_name": "DescriptionStyleModel",
      "_view_count": null,
      "_view_module": "@jupyter-widgets/base",
      "_view_module_version": "1.2.0",
      "_view_name": "StyleView",
      "description_width": ""
     }
    },
    "5532558e0ac54810a311c9ccbeecd985": {
     "model_module": "@jupyter-widgets/controls",
     "model_module_version": "1.5.0",
     "model_name": "HBoxModel",
     "state": {
      "_dom_classes": [],
      "_model_module": "@jupyter-widgets/controls",
      "_model_module_version": "1.5.0",
      "_model_name": "HBoxModel",
      "_view_count": null,
      "_view_module": "@jupyter-widgets/controls",
      "_view_module_version": "1.5.0",
      "_view_name": "HBoxView",
      "box_style": "",
      "children": [
       "IPY_MODEL_ad9092be71c64e0ba7332982312f85a5",
       "IPY_MODEL_100b36ec938949f590e7208ff024d1bc",
       "IPY_MODEL_21e827a463b441ef867e1355d0738a81"
      ],
      "layout": "IPY_MODEL_e8603ab6aa8847b7b130436ff27ba5f3"
     }
    },
    "a99aceb7dbc6429ea93b8bd4b013b931": {
     "model_module": "@jupyter-widgets/base",
     "model_module_version": "1.2.0",
     "model_name": "LayoutModel",
     "state": {
      "_model_module": "@jupyter-widgets/base",
      "_model_module_version": "1.2.0",
      "_model_name": "LayoutModel",
      "_view_count": null,
      "_view_module": "@jupyter-widgets/base",
      "_view_module_version": "1.2.0",
      "_view_name": "LayoutView",
      "align_content": null,
      "align_items": null,
      "align_self": null,
      "border": null,
      "bottom": null,
      "display": null,
      "flex": null,
      "flex_flow": null,
      "grid_area": null,
      "grid_auto_columns": null,
      "grid_auto_flow": null,
      "grid_auto_rows": null,
      "grid_column": null,
      "grid_gap": null,
      "grid_row": null,
      "grid_template_areas": null,
      "grid_template_columns": null,
      "grid_template_rows": null,
      "height": null,
      "justify_content": null,
      "justify_items": null,
      "left": null,
      "margin": null,
      "max_height": null,
      "max_width": null,
      "min_height": null,
      "min_width": null,
      "object_fit": null,
      "object_position": null,
      "order": null,
      "overflow": null,
      "overflow_x": null,
      "overflow_y": null,
      "padding": null,
      "right": null,
      "top": null,
      "visibility": null,
      "width": null
     }
    },
    "ad9092be71c64e0ba7332982312f85a5": {
     "model_module": "@jupyter-widgets/controls",
     "model_module_version": "1.5.0",
     "model_name": "HTMLModel",
     "state": {
      "_dom_classes": [],
      "_model_module": "@jupyter-widgets/controls",
      "_model_module_version": "1.5.0",
      "_model_name": "HTMLModel",
      "_view_count": null,
      "_view_module": "@jupyter-widgets/controls",
      "_view_module_version": "1.5.0",
      "_view_name": "HTMLView",
      "description": "",
      "description_tooltip": null,
      "layout": "IPY_MODEL_dfc80834628a4c388ae9443c61dbb3fa",
      "placeholder": "​",
      "style": "IPY_MODEL_47db870c6c6843ca8011e6fbe9fb2694",
      "value": "Downloading builder script: 100%"
     }
    },
    "dfc80834628a4c388ae9443c61dbb3fa": {
     "model_module": "@jupyter-widgets/base",
     "model_module_version": "1.2.0",
     "model_name": "LayoutModel",
     "state": {
      "_model_module": "@jupyter-widgets/base",
      "_model_module_version": "1.2.0",
      "_model_name": "LayoutModel",
      "_view_count": null,
      "_view_module": "@jupyter-widgets/base",
      "_view_module_version": "1.2.0",
      "_view_name": "LayoutView",
      "align_content": null,
      "align_items": null,
      "align_self": null,
      "border": null,
      "bottom": null,
      "display": null,
      "flex": null,
      "flex_flow": null,
      "grid_area": null,
      "grid_auto_columns": null,
      "grid_auto_flow": null,
      "grid_auto_rows": null,
      "grid_column": null,
      "grid_gap": null,
      "grid_row": null,
      "grid_template_areas": null,
      "grid_template_columns": null,
      "grid_template_rows": null,
      "height": null,
      "justify_content": null,
      "justify_items": null,
      "left": null,
      "margin": null,
      "max_height": null,
      "max_width": null,
      "min_height": null,
      "min_width": null,
      "object_fit": null,
      "object_position": null,
      "order": null,
      "overflow": null,
      "overflow_x": null,
      "overflow_y": null,
      "padding": null,
      "right": null,
      "top": null,
      "visibility": null,
      "width": null
     }
    },
    "dffc471707454b81b9f22257e6141015": {
     "model_module": "@jupyter-widgets/controls",
     "model_module_version": "1.5.0",
     "model_name": "DescriptionStyleModel",
     "state": {
      "_model_module": "@jupyter-widgets/controls",
      "_model_module_version": "1.5.0",
      "_model_name": "DescriptionStyleModel",
      "_view_count": null,
      "_view_module": "@jupyter-widgets/base",
      "_view_module_version": "1.2.0",
      "_view_name": "StyleView",
      "description_width": ""
     }
    },
    "e8603ab6aa8847b7b130436ff27ba5f3": {
     "model_module": "@jupyter-widgets/base",
     "model_module_version": "1.2.0",
     "model_name": "LayoutModel",
     "state": {
      "_model_module": "@jupyter-widgets/base",
      "_model_module_version": "1.2.0",
      "_model_name": "LayoutModel",
      "_view_count": null,
      "_view_module": "@jupyter-widgets/base",
      "_view_module_version": "1.2.0",
      "_view_name": "LayoutView",
      "align_content": null,
      "align_items": null,
      "align_self": null,
      "border": null,
      "bottom": null,
      "display": null,
      "flex": null,
      "flex_flow": null,
      "grid_area": null,
      "grid_auto_columns": null,
      "grid_auto_flow": null,
      "grid_auto_rows": null,
      "grid_column": null,
      "grid_gap": null,
      "grid_row": null,
      "grid_template_areas": null,
      "grid_template_columns": null,
      "grid_template_rows": null,
      "height": null,
      "justify_content": null,
      "justify_items": null,
      "left": null,
      "margin": null,
      "max_height": null,
      "max_width": null,
      "min_height": null,
      "min_width": null,
      "object_fit": null,
      "object_position": null,
      "order": null,
      "overflow": null,
      "overflow_x": null,
      "overflow_y": null,
      "padding": null,
      "right": null,
      "top": null,
      "visibility": null,
      "width": null
     }
    }
   }
  }
 },
 "nbformat": 4,
 "nbformat_minor": 4
}
